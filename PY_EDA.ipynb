{
 "cells": [
  {
   "cell_type": "code",
   "execution_count": 360,
   "id": "98873c53-0f39-4fc1-8579-d8b2ba71f243",
   "metadata": {},
   "outputs": [
    {
     "name": "stdout",
     "output_type": "stream",
     "text": [
      "Requirement already satisfied: numpy in c:\\users\\ridaa\\appdata\\local\\programs\\python\\python38\\lib\\site-packages (1.24.4)\n",
      "Note: you may need to restart the kernel to use updated packages.\n"
     ]
    },
    {
     "name": "stderr",
     "output_type": "stream",
     "text": [
      "WARNING: You are using pip version 21.1.1; however, version 23.3 is available.\n",
      "You should consider upgrading via the 'c:\\users\\ridaa\\appdata\\local\\programs\\python\\python38\\python.exe -m pip install --upgrade pip' command.\n"
     ]
    }
   ],
   "source": [
    "pip install numpy"
   ]
  },
  {
   "cell_type": "code",
   "execution_count": 361,
   "id": "bcb06ae3-fd94-4f9c-a75f-8fea5959385b",
   "metadata": {},
   "outputs": [
    {
     "name": "stdout",
     "output_type": "stream",
     "text": [
      "Requirement already satisfied: pandas in c:\\users\\ridaa\\appdata\\local\\programs\\python\\python38\\lib\\site-packages (2.0.3)Note: you may need to restart the kernel to use updated packages.\n"
     ]
    },
    {
     "name": "stderr",
     "output_type": "stream",
     "text": [
      "WARNING: You are using pip version 21.1.1; however, version 23.3 is available.\n",
      "You should consider upgrading via the 'c:\\users\\ridaa\\appdata\\local\\programs\\python\\python38\\python.exe -m pip install --upgrade pip' command.\n"
     ]
    },
    {
     "name": "stdout",
     "output_type": "stream",
     "text": [
      "\n",
      "Requirement already satisfied: python-dateutil>=2.8.2 in c:\\users\\ridaa\\appdata\\local\\programs\\python\\python38\\lib\\site-packages (from pandas) (2.8.2)\n",
      "Requirement already satisfied: tzdata>=2022.1 in c:\\users\\ridaa\\appdata\\local\\programs\\python\\python38\\lib\\site-packages (from pandas) (2023.3)\n",
      "Requirement already satisfied: numpy>=1.20.3 in c:\\users\\ridaa\\appdata\\local\\programs\\python\\python38\\lib\\site-packages (from pandas) (1.24.4)\n",
      "Requirement already satisfied: pytz>=2020.1 in c:\\users\\ridaa\\appdata\\local\\programs\\python\\python38\\lib\\site-packages (from pandas) (2023.3)\n",
      "Requirement already satisfied: six>=1.5 in c:\\users\\ridaa\\appdata\\local\\programs\\python\\python38\\lib\\site-packages (from python-dateutil>=2.8.2->pandas) (1.16.0)\n"
     ]
    }
   ],
   "source": [
    "pip install pandas\n"
   ]
  },
  {
   "cell_type": "code",
   "execution_count": 362,
   "id": "8ec0d993-c1da-47b0-9030-8380cc4aee93",
   "metadata": {},
   "outputs": [
    {
     "name": "stdout",
     "output_type": "stream",
     "text": [
      "Requirement already satisfied: pandas_profiling in c:\\users\\ridaa\\appdata\\local\\programs\\python\\python38\\lib\\site-packages (3.6.6)Note: you may need to restart the kernel to use updated packages.\n"
     ]
    },
    {
     "name": "stderr",
     "output_type": "stream",
     "text": [
      "WARNING: You are using pip version 21.1.1; however, version 23.3 is available.\n",
      "You should consider upgrading via the 'c:\\users\\ridaa\\appdata\\local\\programs\\python\\python38\\python.exe -m pip install --upgrade pip' command.\n"
     ]
    },
    {
     "name": "stdout",
     "output_type": "stream",
     "text": [
      "\n",
      "Requirement already satisfied: ydata-profiling in c:\\users\\ridaa\\appdata\\local\\programs\\python\\python38\\lib\\site-packages (from pandas_profiling) (4.6.0)\n",
      "Requirement already satisfied: numpy<1.26,>=1.16.0 in c:\\users\\ridaa\\appdata\\local\\programs\\python\\python38\\lib\\site-packages (from ydata-profiling->pandas_profiling) (1.24.4)\n",
      "Requirement already satisfied: multimethod<2,>=1.4 in c:\\users\\ridaa\\appdata\\local\\programs\\python\\python38\\lib\\site-packages (from ydata-profiling->pandas_profiling) (1.10)\n",
      "Requirement already satisfied: matplotlib<=3.7.3,>=3.2 in c:\\users\\ridaa\\appdata\\local\\programs\\python\\python38\\lib\\site-packages (from ydata-profiling->pandas_profiling) (3.7.2)\n",
      "Requirement already satisfied: phik<0.13,>=0.11.1 in c:\\users\\ridaa\\appdata\\local\\programs\\python\\python38\\lib\\site-packages (from ydata-profiling->pandas_profiling) (0.12.3)\n",
      "Requirement already satisfied: statsmodels<1,>=0.13.2 in c:\\users\\ridaa\\appdata\\local\\programs\\python\\python38\\lib\\site-packages (from ydata-profiling->pandas_profiling) (0.14.0)\n",
      "Requirement already satisfied: typeguard<5,>=4.1.2 in c:\\users\\ridaa\\appdata\\local\\programs\\python\\python38\\lib\\site-packages (from ydata-profiling->pandas_profiling) (4.1.5)\n",
      "Requirement already satisfied: pandas!=1.4.0,<2.1,>1.1 in c:\\users\\ridaa\\appdata\\local\\programs\\python\\python38\\lib\\site-packages (from ydata-profiling->pandas_profiling) (2.0.3)\n",
      "Requirement already satisfied: htmlmin==0.1.12 in c:\\users\\ridaa\\appdata\\local\\programs\\python\\python38\\lib\\site-packages (from ydata-profiling->pandas_profiling) (0.1.12)\n",
      "Requirement already satisfied: jinja2<3.2,>=2.11.1 in c:\\users\\ridaa\\appdata\\local\\programs\\python\\python38\\lib\\site-packages (from ydata-profiling->pandas_profiling) (3.1.2)\n",
      "Requirement already satisfied: wordcloud>=1.9.1 in c:\\users\\ridaa\\appdata\\local\\programs\\python\\python38\\lib\\site-packages (from ydata-profiling->pandas_profiling) (1.9.2)\n",
      "Requirement already satisfied: scipy<1.12,>=1.4.1 in c:\\users\\ridaa\\appdata\\local\\programs\\python\\python38\\lib\\site-packages (from ydata-profiling->pandas_profiling) (1.10.1)\n",
      "Requirement already satisfied: seaborn<0.13,>=0.10.1 in c:\\users\\ridaa\\appdata\\local\\programs\\python\\python38\\lib\\site-packages (from ydata-profiling->pandas_profiling) (0.12.2)\n",
      "Requirement already satisfied: requests<3,>=2.24.0 in c:\\users\\ridaa\\appdata\\local\\programs\\python\\python38\\lib\\site-packages (from ydata-profiling->pandas_profiling) (2.31.0)\n",
      "Requirement already satisfied: PyYAML<6.1,>=5.0.0 in c:\\users\\ridaa\\appdata\\local\\programs\\python\\python38\\lib\\site-packages (from ydata-profiling->pandas_profiling) (6.0.1)\n",
      "Requirement already satisfied: tqdm<5,>=4.48.2 in c:\\users\\ridaa\\appdata\\local\\programs\\python\\python38\\lib\\site-packages (from ydata-profiling->pandas_profiling) (4.66.1)\n",
      "Requirement already satisfied: visions[type_image_path]==0.7.5 in c:\\users\\ridaa\\appdata\\local\\programs\\python\\python38\\lib\\site-packages (from ydata-profiling->pandas_profiling) (0.7.5)\n",
      "Requirement already satisfied: numba<0.59.0,>=0.56.0 in c:\\users\\ridaa\\appdata\\local\\programs\\python\\python38\\lib\\site-packages (from ydata-profiling->pandas_profiling) (0.58.0)\n",
      "Requirement already satisfied: dacite>=1.8 in c:\\users\\ridaa\\appdata\\local\\programs\\python\\python38\\lib\\site-packages (from ydata-profiling->pandas_profiling) (1.8.1)\n",
      "Requirement already satisfied: pydantic<2,>=1.8.1 in c:\\users\\ridaa\\appdata\\local\\programs\\python\\python38\\lib\\site-packages (from ydata-profiling->pandas_profiling) (1.10.13)\n",
      "Requirement already satisfied: imagehash==4.3.1 in c:\\users\\ridaa\\appdata\\local\\programs\\python\\python38\\lib\\site-packages (from ydata-profiling->pandas_profiling) (4.3.1)\n",
      "Requirement already satisfied: PyWavelets in c:\\users\\ridaa\\appdata\\local\\programs\\python\\python38\\lib\\site-packages (from imagehash==4.3.1->ydata-profiling->pandas_profiling) (1.4.1)\n",
      "Requirement already satisfied: pillow in c:\\users\\ridaa\\appdata\\local\\programs\\python\\python38\\lib\\site-packages (from imagehash==4.3.1->ydata-profiling->pandas_profiling) (10.0.0)\n",
      "Requirement already satisfied: networkx>=2.4 in c:\\users\\ridaa\\appdata\\local\\programs\\python\\python38\\lib\\site-packages (from visions[type_image_path]==0.7.5->ydata-profiling->pandas_profiling) (3.1)\n",
      "Requirement already satisfied: attrs>=19.3.0 in c:\\users\\ridaa\\appdata\\local\\programs\\python\\python38\\lib\\site-packages (from visions[type_image_path]==0.7.5->ydata-profiling->pandas_profiling) (23.1.0)\n",
      "Requirement already satisfied: tangled-up-in-unicode>=0.0.4 in c:\\users\\ridaa\\appdata\\local\\programs\\python\\python38\\lib\\site-packages (from visions[type_image_path]==0.7.5->ydata-profiling->pandas_profiling) (0.2.0)\n",
      "Requirement already satisfied: MarkupSafe>=2.0 in c:\\users\\ridaa\\appdata\\local\\programs\\python\\python38\\lib\\site-packages (from jinja2<3.2,>=2.11.1->ydata-profiling->pandas_profiling) (2.1.3)\n",
      "Requirement already satisfied: contourpy>=1.0.1 in c:\\users\\ridaa\\appdata\\local\\programs\\python\\python38\\lib\\site-packages (from matplotlib<=3.7.3,>=3.2->ydata-profiling->pandas_profiling) (1.1.0)\n",
      "Requirement already satisfied: cycler>=0.10 in c:\\users\\ridaa\\appdata\\local\\programs\\python\\python38\\lib\\site-packages (from matplotlib<=3.7.3,>=3.2->ydata-profiling->pandas_profiling) (0.11.0)\n",
      "Requirement already satisfied: importlib-resources>=3.2.0 in c:\\users\\ridaa\\appdata\\local\\programs\\python\\python38\\lib\\site-packages (from matplotlib<=3.7.3,>=3.2->ydata-profiling->pandas_profiling) (6.0.1)\n",
      "Requirement already satisfied: pyparsing<3.1,>=2.3.1 in c:\\users\\ridaa\\appdata\\local\\programs\\python\\python38\\lib\\site-packages (from matplotlib<=3.7.3,>=3.2->ydata-profiling->pandas_profiling) (3.0.9)\n",
      "Requirement already satisfied: fonttools>=4.22.0 in c:\\users\\ridaa\\appdata\\local\\programs\\python\\python38\\lib\\site-packages (from matplotlib<=3.7.3,>=3.2->ydata-profiling->pandas_profiling) (4.42.1)\n",
      "Requirement already satisfied: kiwisolver>=1.0.1 in c:\\users\\ridaa\\appdata\\local\\programs\\python\\python38\\lib\\site-packages (from matplotlib<=3.7.3,>=3.2->ydata-profiling->pandas_profiling) (1.4.5)\n",
      "Requirement already satisfied: packaging>=20.0 in c:\\users\\ridaa\\appdata\\local\\programs\\python\\python38\\lib\\site-packages (from matplotlib<=3.7.3,>=3.2->ydata-profiling->pandas_profiling) (23.1)\n",
      "Requirement already satisfied: python-dateutil>=2.7 in c:\\users\\ridaa\\appdata\\local\\programs\\python\\python38\\lib\\site-packages (from matplotlib<=3.7.3,>=3.2->ydata-profiling->pandas_profiling) (2.8.2)\n",
      "Requirement already satisfied: zipp>=3.1.0 in c:\\users\\ridaa\\appdata\\local\\programs\\python\\python38\\lib\\site-packages (from importlib-resources>=3.2.0->matplotlib<=3.7.3,>=3.2->ydata-profiling->pandas_profiling) (3.16.2)\n",
      "Requirement already satisfied: importlib-metadata in c:\\users\\ridaa\\appdata\\local\\programs\\python\\python38\\lib\\site-packages (from numba<0.59.0,>=0.56.0->ydata-profiling->pandas_profiling) (6.8.0)\n",
      "Requirement already satisfied: llvmlite<0.42,>=0.41.0dev0 in c:\\users\\ridaa\\appdata\\local\\programs\\python\\python38\\lib\\site-packages (from numba<0.59.0,>=0.56.0->ydata-profiling->pandas_profiling) (0.41.0)\n",
      "Requirement already satisfied: pytz>=2020.1 in c:\\users\\ridaa\\appdata\\local\\programs\\python\\python38\\lib\\site-packages (from pandas!=1.4.0,<2.1,>1.1->ydata-profiling->pandas_profiling) (2023.3)\n",
      "Requirement already satisfied: tzdata>=2022.1 in c:\\users\\ridaa\\appdata\\local\\programs\\python\\python38\\lib\\site-packages (from pandas!=1.4.0,<2.1,>1.1->ydata-profiling->pandas_profiling) (2023.3)\n",
      "Requirement already satisfied: joblib>=0.14.1 in c:\\users\\ridaa\\appdata\\local\\programs\\python\\python38\\lib\\site-packages (from phik<0.13,>=0.11.1->ydata-profiling->pandas_profiling) (1.3.2)\n",
      "Requirement already satisfied: typing-extensions>=4.2.0 in c:\\users\\ridaa\\appdata\\local\\programs\\python\\python38\\lib\\site-packages (from pydantic<2,>=1.8.1->ydata-profiling->pandas_profiling) (4.7.1)\n",
      "Requirement already satisfied: six>=1.5 in c:\\users\\ridaa\\appdata\\local\\programs\\python\\python38\\lib\\site-packages (from python-dateutil>=2.7->matplotlib<=3.7.3,>=3.2->ydata-profiling->pandas_profiling) (1.16.0)\n",
      "Requirement already satisfied: idna<4,>=2.5 in c:\\users\\ridaa\\appdata\\local\\programs\\python\\python38\\lib\\site-packages (from requests<3,>=2.24.0->ydata-profiling->pandas_profiling) (3.4)\n",
      "Requirement already satisfied: charset-normalizer<4,>=2 in c:\\users\\ridaa\\appdata\\local\\programs\\python\\python38\\lib\\site-packages (from requests<3,>=2.24.0->ydata-profiling->pandas_profiling) (3.2.0)\n",
      "Requirement already satisfied: certifi>=2017.4.17 in c:\\users\\ridaa\\appdata\\local\\programs\\python\\python38\\lib\\site-packages (from requests<3,>=2.24.0->ydata-profiling->pandas_profiling) (2023.7.22)\n",
      "Requirement already satisfied: urllib3<3,>=1.21.1 in c:\\users\\ridaa\\appdata\\local\\programs\\python\\python38\\lib\\site-packages (from requests<3,>=2.24.0->ydata-profiling->pandas_profiling) (1.26.17)\n",
      "Requirement already satisfied: patsy>=0.5.2 in c:\\users\\ridaa\\appdata\\local\\programs\\python\\python38\\lib\\site-packages (from statsmodels<1,>=0.13.2->ydata-profiling->pandas_profiling) (0.5.3)\n",
      "Requirement already satisfied: colorama in c:\\users\\ridaa\\appdata\\local\\programs\\python\\python38\\lib\\site-packages (from tqdm<5,>=4.48.2->ydata-profiling->pandas_profiling) (0.4.6)\n"
     ]
    }
   ],
   "source": [
    "pip install pandas_profiling\n"
   ]
  },
  {
   "cell_type": "code",
   "execution_count": 363,
   "id": "455df50b-c11e-46c8-a8ff-f369fd4ea19f",
   "metadata": {},
   "outputs": [
    {
     "name": "stdout",
     "output_type": "stream",
     "text": [
      "Requirement already satisfied: seaborn in c:\\users\\ridaa\\appdata\\local\\programs\\python\\python38\\lib\\site-packages (0.12.2)Note: you may need to restart the kernel to use updated packages.\n",
      "\n",
      "Requirement already satisfied: numpy!=1.24.0,>=1.17 in c:\\users\\ridaa\\appdata\\local\\programs\\python\\python38\\lib\\site-packages (from seaborn) (1.24.4)\n",
      "Requirement already satisfied: pandas>=0.25 in c:\\users\\ridaa\\appdata\\local\\programs\\python\\python38\\lib\\site-packages (from seaborn) (2.0.3)\n",
      "Requirement already satisfied: matplotlib!=3.6.1,>=3.1 in c:\\users\\ridaa\\appdata\\local\\programs\\python\\python38\\lib\\site-packages (from seaborn) (3.7.2)\n",
      "Requirement already satisfied: importlib-resources>=3.2.0 in c:\\users\\ridaa\\appdata\\local\\programs\\python\\python38\\lib\\site-packages (from matplotlib!=3.6.1,>=3.1->seaborn) (6.0.1)\n",
      "Requirement already satisfied: python-dateutil>=2.7 in c:\\users\\ridaa\\appdata\\local\\programs\\python\\python38\\lib\\site-packages (from matplotlib!=3.6.1,>=3.1->seaborn) (2.8.2)\n",
      "Requirement already satisfied: packaging>=20.0 in c:\\users\\ridaa\\appdata\\local\\programs\\python\\python38\\lib\\site-packages (from matplotlib!=3.6.1,>=3.1->seaborn) (23.1)\n",
      "Requirement already satisfied: contourpy>=1.0.1 in c:\\users\\ridaa\\appdata\\local\\programs\\python\\python38\\lib\\site-packages (from matplotlib!=3.6.1,>=3.1->seaborn) (1.1.0)\n",
      "Requirement already satisfied: fonttools>=4.22.0 in c:\\users\\ridaa\\appdata\\local\\programs\\python\\python38\\lib\\site-packages (from matplotlib!=3.6.1,>=3.1->seaborn) (4.42.1)\n",
      "Requirement already satisfied: pillow>=6.2.0 in c:\\users\\ridaa\\appdata\\local\\programs\\python\\python38\\lib\\site-packages (from matplotlib!=3.6.1,>=3.1->seaborn) (10.0.0)\n",
      "Requirement already satisfied: kiwisolver>=1.0.1 in c:\\users\\ridaa\\appdata\\local\\programs\\python\\python38\\lib\\site-packages (from matplotlib!=3.6.1,>=3.1->seaborn) (1.4.5)\n",
      "Requirement already satisfied: cycler>=0.10 in c:\\users\\ridaa\\appdata\\local\\programs\\python\\python38\\lib\\site-packages (from matplotlib!=3.6.1,>=3.1->seaborn) (0.11.0)\n",
      "Requirement already satisfied: pyparsing<3.1,>=2.3.1 in c:\\users\\ridaa\\appdata\\local\\programs\\python\\python38\\lib\\site-packages (from matplotlib!=3.6.1,>=3.1->seaborn) (3.0.9)\n",
      "Requirement already satisfied: zipp>=3.1.0 in c:\\users\\ridaa\\appdata\\local\\programs\\python\\python38\\lib\\site-packages (from importlib-resources>=3.2.0->matplotlib!=3.6.1,>=3.1->seaborn) (3.16.2)\n",
      "Requirement already satisfied: pytz>=2020.1 in c:\\users\\ridaa\\appdata\\local\\programs\\python\\python38\\lib\\site-packages (from pandas>=0.25->seaborn) (2023.3)\n",
      "Requirement already satisfied: tzdata>=2022.1 in c:\\users\\ridaa\\appdata\\local\\programs\\python\\python38\\lib\\site-packages (from pandas>=0.25->seaborn) (2023.3)\n",
      "Requirement already satisfied: six>=1.5 in c:\\users\\ridaa\\appdata\\local\\programs\\python\\python38\\lib\\site-packages (from python-dateutil>=2.7->matplotlib!=3.6.1,>=3.1->seaborn) (1.16.0)\n"
     ]
    },
    {
     "name": "stderr",
     "output_type": "stream",
     "text": [
      "WARNING: You are using pip version 21.1.1; however, version 23.3 is available.\n",
      "You should consider upgrading via the 'c:\\users\\ridaa\\appdata\\local\\programs\\python\\python38\\python.exe -m pip install --upgrade pip' command.\n"
     ]
    }
   ],
   "source": [
    "pip install seaborn"
   ]
  },
  {
   "cell_type": "code",
   "execution_count": 364,
   "id": "4fe9483c-330f-45e0-89b8-401487af7689",
   "metadata": {},
   "outputs": [
    {
     "name": "stdout",
     "output_type": "stream",
     "text": [
      "Requirement already satisfied: jupyter_scheduler in c:\\users\\ridaa\\appdata\\local\\programs\\python\\python38\\lib\\site-packages (2.2.0)\n",
      "Requirement already satisfied: sqlalchemy~=1.0 in c:\\users\\ridaa\\appdata\\local\\programs\\python\\python38\\lib\\site-packages (from jupyter_scheduler) (1.4.49)\n",
      "Requirement already satisfied: pytz==2023.3 in c:\\users\\ridaa\\appdata\\local\\programs\\python\\python38\\lib\\site-packages (from jupyter_scheduler) (2023.3)\n",
      "Requirement already satisfied: croniter~=1.4 in c:\\users\\ridaa\\appdata\\local\\programs\\python\\python38\\lib\\site-packages (from jupyter_scheduler) (1.4.1)\n",
      "Requirement already satisfied: nbconvert~=7.0 in c:\\users\\ridaa\\appdata\\local\\programs\\python\\python38\\lib\\site-packages (from jupyter_scheduler) (7.7.4)\n",
      "Requirement already satisfied: psutil~=5.9 in c:\\users\\ridaa\\appdata\\local\\programs\\python\\python38\\lib\\site-packages (from jupyter_scheduler) (5.9.5)\n",
      "Requirement already satisfied: traitlets~=5.0 in c:\\users\\ridaa\\appdata\\local\\programs\\python\\python38\\lib\\site-packages (from jupyter_scheduler) (5.9.0)\n",
      "Requirement already satisfied: fsspec==2023.6.0 in c:\\users\\ridaa\\appdata\\local\\programs\\python\\python38\\lib\\site-packages (from jupyter_scheduler) (2023.6.0)\n",
      "Requirement already satisfied: pydantic~=1.10 in c:\\users\\ridaa\\appdata\\local\\programs\\python\\python38\\lib\\site-packages (from jupyter_scheduler) (1.10.13)\n",
      "Requirement already satisfied: jupyter-server<3,>=1.6 in c:\\users\\ridaa\\appdata\\local\\programs\\python\\python38\\lib\\site-packages (from jupyter_scheduler) (1.24.0)\n",
      "Requirement already satisfied: python-dateutil in c:\\users\\ridaa\\appdata\\local\\programs\\python\\python38\\lib\\site-packages (from croniter~=1.4->jupyter_scheduler) (2.8.2)\n",
      "Requirement already satisfied: terminado>=0.8.3 in c:\\users\\ridaa\\appdata\\local\\programs\\python\\python38\\lib\\site-packages (from jupyter-server<3,>=1.6->jupyter_scheduler) (0.17.1)\n",
      "Requirement already satisfied: websocket-client in c:\\users\\ridaa\\appdata\\local\\programs\\python\\python38\\lib\\site-packages (from jupyter-server<3,>=1.6->jupyter_scheduler) (1.6.2)\n",
      "Requirement already satisfied: Send2Trash in c:\\users\\ridaa\\appdata\\local\\programs\\python\\python38\\lib\\site-packages (from jupyter-server<3,>=1.6->jupyter_scheduler) (1.8.2)\n",
      "Requirement already satisfied: anyio<4,>=3.1.0 in c:\\users\\ridaa\\appdata\\local\\programs\\python\\python38\\lib\\site-packages (from jupyter-server<3,>=1.6->jupyter_scheduler) (3.7.1)\n",
      "Requirement already satisfied: tornado>=6.1.0 in c:\\users\\ridaa\\appdata\\local\\programs\\python\\python38\\lib\\site-packages (from jupyter-server<3,>=1.6->jupyter_scheduler) (6.3.3)\n",
      "Requirement already satisfied: packaging in c:\\users\\ridaa\\appdata\\local\\programs\\python\\python38\\lib\\site-packages (from jupyter-server<3,>=1.6->jupyter_scheduler) (23.1)\n",
      "Requirement already satisfied: pywinpty in c:\\users\\ridaa\\appdata\\local\\programs\\python\\python38\\lib\\site-packages (from jupyter-server<3,>=1.6->jupyter_scheduler) (2.0.11)\n",
      "Requirement already satisfied: nbformat>=5.2.0 in c:\\users\\ridaa\\appdata\\local\\programs\\python\\python38\\lib\\site-packages (from jupyter-server<3,>=1.6->jupyter_scheduler) (5.9.2)\n",
      "Requirement already satisfied: prometheus-client in c:\\users\\ridaa\\appdata\\local\\programs\\python\\python38\\lib\\site-packages (from jupyter-server<3,>=1.6->jupyter_scheduler) (0.17.1)\n",
      "Requirement already satisfied: jupyter-client>=6.1.12 in c:\\users\\ridaa\\appdata\\local\\programs\\python\\python38\\lib\\site-packages (from jupyter-server<3,>=1.6->jupyter_scheduler) (8.3.0)\n",
      "Requirement already satisfied: jinja2 in c:\\users\\ridaa\\appdata\\local\\programs\\python\\python38\\lib\\site-packages (from jupyter-server<3,>=1.6->jupyter_scheduler) (3.1.2)\n",
      "Requirement already satisfied: argon2-cffi in c:\\users\\ridaa\\appdata\\local\\programs\\python\\python38\\lib\\site-packages (from jupyter-server<3,>=1.6->jupyter_scheduler) (23.1.0)\n",
      "Requirement already satisfied: pyzmq>=17 in c:\\users\\ridaa\\appdata\\local\\programs\\python\\python38\\lib\\site-packages (from jupyter-server<3,>=1.6->jupyter_scheduler) (25.1.1)\n",
      "Requirement already satisfied: jupyter-core!=5.0.*,>=4.12 in c:\\users\\ridaa\\appdata\\local\\programs\\python\\python38\\lib\\site-packages (from jupyter-server<3,>=1.6->jupyter_scheduler) (5.3.1)\n",
      "Requirement already satisfied: exceptiongroup in c:\\users\\ridaa\\appdata\\local\\programs\\python\\python38\\lib\\site-packages (from anyio<4,>=3.1.0->jupyter-server<3,>=1.6->jupyter_scheduler) (1.1.3)\n",
      "Requirement already satisfied: sniffio>=1.1 in c:\\users\\ridaa\\appdata\\local\\programs\\python\\python38\\lib\\site-packages (from anyio<4,>=3.1.0->jupyter-server<3,>=1.6->jupyter_scheduler) (1.3.0)\n",
      "Requirement already satisfied: idna>=2.8 in c:\\users\\ridaa\\appdata\\local\\programs\\python\\python38\\lib\\site-packages (from anyio<4,>=3.1.0->jupyter-server<3,>=1.6->jupyter_scheduler) (3.4)\n",
      "Requirement already satisfied: importlib-metadata>=4.8.3 in c:\\users\\ridaa\\appdata\\local\\programs\\python\\python38\\lib\\site-packages (from jupyter-client>=6.1.12->jupyter-server<3,>=1.6->jupyter_scheduler) (6.8.0)\n",
      "Requirement already satisfied: zipp>=0.5 in c:\\users\\ridaa\\appdata\\local\\programs\\python\\python38\\lib\\site-packages (from importlib-metadata>=4.8.3->jupyter-client>=6.1.12->jupyter-server<3,>=1.6->jupyter_scheduler) (3.16.2)\n",
      "Requirement already satisfied: platformdirs>=2.5 in c:\\users\\ridaa\\appdata\\local\\programs\\python\\python38\\lib\\site-packages (from jupyter-core!=5.0.*,>=4.12->jupyter-server<3,>=1.6->jupyter_scheduler) (3.10.0)\n",
      "Requirement already satisfied: pywin32>=300 in c:\\users\\ridaa\\appdata\\local\\programs\\python\\python38\\lib\\site-packages (from jupyter-core!=5.0.*,>=4.12->jupyter-server<3,>=1.6->jupyter_scheduler) (306)\n",
      "Requirement already satisfied: defusedxml in c:\\users\\ridaa\\appdata\\local\\programs\\python\\python38\\lib\\site-packages (from nbconvert~=7.0->jupyter_scheduler) (0.7.1)\n",
      "Requirement already satisfied: pandocfilters>=1.4.1 in c:\\users\\ridaa\\appdata\\local\\programs\\python\\python38\\lib\\site-packages (from nbconvert~=7.0->jupyter_scheduler) (1.5.0)\n",
      "Requirement already satisfied: jupyterlab-pygments in c:\\users\\ridaa\\appdata\\local\\programs\\python\\python38\\lib\\site-packages (from nbconvert~=7.0->jupyter_scheduler) (0.2.2)\n",
      "Requirement already satisfied: markupsafe>=2.0 in c:\\users\\ridaa\\appdata\\local\\programs\\python\\python38\\lib\\site-packages (from nbconvert~=7.0->jupyter_scheduler) (2.1.3)\n",
      "Requirement already satisfied: mistune<4,>=2.0.3 in c:\\users\\ridaa\\appdata\\local\\programs\\python\\python38\\lib\\site-packages (from nbconvert~=7.0->jupyter_scheduler) (3.0.1)\n",
      "Requirement already satisfied: nbclient>=0.5.0 in c:\\users\\ridaa\\appdata\\local\\programs\\python\\python38\\lib\\site-packages (from nbconvert~=7.0->jupyter_scheduler) (0.8.0)\n",
      "Requirement already satisfied: bleach!=5.0.0 in c:\\users\\ridaa\\appdata\\local\\programs\\python\\python38\\lib\\site-packages (from nbconvert~=7.0->jupyter_scheduler) (6.0.0)\n",
      "Requirement already satisfied: tinycss2 in c:\\users\\ridaa\\appdata\\local\\programs\\python\\python38\\lib\\site-packages (from nbconvert~=7.0->jupyter_scheduler) (1.2.1)\n",
      "Requirement already satisfied: beautifulsoup4 in c:\\users\\ridaa\\appdata\\local\\programs\\python\\python38\\lib\\site-packages (from nbconvert~=7.0->jupyter_scheduler) (4.12.2)\n",
      "Requirement already satisfied: pygments>=2.4.1 in c:\\users\\ridaa\\appdata\\local\\programs\\python\\python38\\lib\\site-packages (from nbconvert~=7.0->jupyter_scheduler) (2.16.1)\n",
      "Requirement already satisfied: six>=1.9.0 in c:\\users\\ridaa\\appdata\\local\\programs\\python\\python38\\lib\\site-packages (from bleach!=5.0.0->nbconvert~=7.0->jupyter_scheduler) (1.16.0)\n",
      "Requirement already satisfied: webencodings in c:\\users\\ridaa\\appdata\\local\\programs\\python\\python38\\lib\\site-packages (from bleach!=5.0.0->nbconvert~=7.0->jupyter_scheduler) (0.5.1)\n",
      "Requirement already satisfied: fastjsonschema in c:\\users\\ridaa\\appdata\\local\\programs\\python\\python38\\lib\\site-packages (from nbformat>=5.2.0->jupyter-server<3,>=1.6->jupyter_scheduler) (2.18.0)\n",
      "Requirement already satisfied: jsonschema>=2.6 in c:\\users\\ridaa\\appdata\\local\\programs\\python\\python38\\lib\\site-packages (from nbformat>=5.2.0->jupyter-server<3,>=1.6->jupyter_scheduler) (4.19.0)\n",
      "Requirement already satisfied: attrs>=22.2.0 in c:\\users\\ridaa\\appdata\\local\\programs\\python\\python38\\lib\\site-packages (from jsonschema>=2.6->nbformat>=5.2.0->jupyter-server<3,>=1.6->jupyter_scheduler) (23.1.0)\n",
      "Requirement already satisfied: jsonschema-specifications>=2023.03.6 in c:\\users\\ridaa\\appdata\\local\\programs\\python\\python38\\lib\\site-packages (from jsonschema>=2.6->nbformat>=5.2.0->jupyter-server<3,>=1.6->jupyter_scheduler) (2023.7.1)\n",
      "Requirement already satisfied: referencing>=0.28.4 in c:\\users\\ridaa\\appdata\\local\\programs\\python\\python38\\lib\\site-packages (from jsonschema>=2.6->nbformat>=5.2.0->jupyter-server<3,>=1.6->jupyter_scheduler) (0.30.2)\n",
      "Requirement already satisfied: importlib-resources>=1.4.0 in c:\\users\\ridaa\\appdata\\local\\programs\\python\\python38\\lib\\site-packages (from jsonschema>=2.6->nbformat>=5.2.0->jupyter-server<3,>=1.6->jupyter_scheduler) (6.0.1)\n",
      "Requirement already satisfied: pkgutil-resolve-name>=1.3.10 in c:\\users\\ridaa\\appdata\\local\\programs\\python\\python38\\lib\\site-packages (from jsonschema>=2.6->nbformat>=5.2.0->jupyter-server<3,>=1.6->jupyter_scheduler) (1.3.10)\n",
      "Requirement already satisfied: rpds-py>=0.7.1 in c:\\users\\ridaa\\appdata\\local\\programs\\python\\python38\\lib\\site-packages (from jsonschema>=2.6->nbformat>=5.2.0->jupyter-server<3,>=1.6->jupyter_scheduler) (0.9.2)\n",
      "Requirement already satisfied: typing-extensions>=4.2.0 in c:\\users\\ridaa\\appdata\\local\\programs\\python\\python38\\lib\\site-packages (from pydantic~=1.10->jupyter_scheduler) (4.7.1)\n",
      "Requirement already satisfied: greenlet!=0.4.17 in c:\\users\\ridaa\\appdata\\local\\programs\\python\\python38\\lib\\site-packages (from sqlalchemy~=1.0->jupyter_scheduler) (3.0.0)\n",
      "Requirement already satisfied: argon2-cffi-bindings in c:\\users\\ridaa\\appdata\\local\\programs\\python\\python38\\lib\\site-packages (from argon2-cffi->jupyter-server<3,>=1.6->jupyter_scheduler) (21.2.0)\n",
      "Requirement already satisfied: cffi>=1.0.1 in c:\\users\\ridaa\\appdata\\local\\programs\\python\\python38\\lib\\site-packages (from argon2-cffi-bindings->argon2-cffi->jupyter-server<3,>=1.6->jupyter_scheduler) (1.15.1)\n",
      "Requirement already satisfied: pycparser in c:\\users\\ridaa\\appdata\\local\\programs\\python\\python38\\lib\\site-packages (from cffi>=1.0.1->argon2-cffi-bindings->argon2-cffi->jupyter-server<3,>=1.6->jupyter_scheduler) (2.21)\n",
      "Requirement already satisfied: soupsieve>1.2 in c:\\users\\ridaa\\appdata\\local\\programs\\python\\python38\\lib\\site-packages (from beautifulsoup4->nbconvert~=7.0->jupyter_scheduler) (2.4.1)\n",
      "Note: you may need to restart the kernel to use updated packages.\n"
     ]
    },
    {
     "name": "stderr",
     "output_type": "stream",
     "text": [
      "WARNING: You are using pip version 21.1.1; however, version 23.3 is available.\n",
      "You should consider upgrading via the 'c:\\users\\ridaa\\appdata\\local\\programs\\python\\python38\\python.exe -m pip install --upgrade pip' command.\n"
     ]
    }
   ],
   "source": [
    "pip install jupyter_scheduler"
   ]
  },
  {
   "cell_type": "code",
   "execution_count": 365,
   "id": "ded005ec-b538-4da9-9db4-0f03e59b96f4",
   "metadata": {},
   "outputs": [
    {
     "name": "stdout",
     "output_type": "stream",
     "text": [
      "Requirement already satisfied: jupyterlab-scheduler in c:\\users\\ridaa\\appdata\\local\\programs\\python\\python38\\lib\\site-packages (0.1.5)\n",
      "Requirement already satisfied: papermill~=2.1 in c:\\users\\ridaa\\appdata\\local\\programs\\python\\python38\\lib\\site-packages (from jupyterlab-scheduler) (2.4.0)\n",
      "Requirement already satisfied: jupyterlab~=3.1.4 in c:\\users\\ridaa\\appdata\\local\\programs\\python\\python38\\lib\\site-packages (from jupyterlab-scheduler) (3.1.19)\n",
      "Requirement already satisfied: python-crontab~=2.5 in c:\\users\\ridaa\\appdata\\local\\programs\\python\\python38\\lib\\site-packages (from jupyterlab-scheduler) (2.7.1)\n",
      "Requirement already satisfied: ipython in c:\\users\\ridaa\\appdata\\local\\programs\\python\\python38\\lib\\site-packages (from jupyterlab~=3.1.4->jupyterlab-scheduler) (8.12.2)\n",
      "Requirement already satisfied: jupyter-core in c:\\users\\ridaa\\appdata\\local\\programs\\python\\python38\\lib\\site-packages (from jupyterlab~=3.1.4->jupyterlab-scheduler) (5.3.1)\n",
      "Requirement already satisfied: jinja2>=2.1 in c:\\users\\ridaa\\appdata\\local\\programs\\python\\python38\\lib\\site-packages (from jupyterlab~=3.1.4->jupyterlab-scheduler) (3.1.2)\n",
      "Requirement already satisfied: jupyterlab-server~=2.3 in c:\\users\\ridaa\\appdata\\local\\programs\\python\\python38\\lib\\site-packages (from jupyterlab~=3.1.4->jupyterlab-scheduler) (2.24.0)\n",
      "Requirement already satisfied: nbclassic~=0.2 in c:\\users\\ridaa\\appdata\\local\\programs\\python\\python38\\lib\\site-packages (from jupyterlab~=3.1.4->jupyterlab-scheduler) (0.5.6)\n",
      "Requirement already satisfied: tornado>=6.1.0 in c:\\users\\ridaa\\appdata\\local\\programs\\python\\python38\\lib\\site-packages (from jupyterlab~=3.1.4->jupyterlab-scheduler) (6.3.3)\n",
      "Requirement already satisfied: jupyter-server~=1.4 in c:\\users\\ridaa\\appdata\\local\\programs\\python\\python38\\lib\\site-packages (from jupyterlab~=3.1.4->jupyterlab-scheduler) (1.24.0)\n",
      "Requirement already satisfied: packaging in c:\\users\\ridaa\\appdata\\local\\programs\\python\\python38\\lib\\site-packages (from jupyterlab~=3.1.4->jupyterlab-scheduler) (23.1)\n",
      "Requirement already satisfied: MarkupSafe>=2.0 in c:\\users\\ridaa\\appdata\\local\\programs\\python\\python38\\lib\\site-packages (from jinja2>=2.1->jupyterlab~=3.1.4->jupyterlab-scheduler) (2.1.3)\n",
      "Requirement already satisfied: prometheus-client in c:\\users\\ridaa\\appdata\\local\\programs\\python\\python38\\lib\\site-packages (from jupyter-server~=1.4->jupyterlab~=3.1.4->jupyterlab-scheduler) (0.17.1)\n",
      "Requirement already satisfied: pywinpty in c:\\users\\ridaa\\appdata\\local\\programs\\python\\python38\\lib\\site-packages (from jupyter-server~=1.4->jupyterlab~=3.1.4->jupyterlab-scheduler) (2.0.11)\n",
      "Requirement already satisfied: jupyter-client>=6.1.12 in c:\\users\\ridaa\\appdata\\local\\programs\\python\\python38\\lib\\site-packages (from jupyter-server~=1.4->jupyterlab~=3.1.4->jupyterlab-scheduler) (8.3.0)\n",
      "Requirement already satisfied: argon2-cffi in c:\\users\\ridaa\\appdata\\local\\programs\\python\\python38\\lib\\site-packages (from jupyter-server~=1.4->jupyterlab~=3.1.4->jupyterlab-scheduler) (23.1.0)\n",
      "Requirement already satisfied: nbformat>=5.2.0 in c:\\users\\ridaa\\appdata\\local\\programs\\python\\python38\\lib\\site-packages (from jupyter-server~=1.4->jupyterlab~=3.1.4->jupyterlab-scheduler) (5.9.2)\n",
      "Requirement already satisfied: pyzmq>=17 in c:\\users\\ridaa\\appdata\\local\\programs\\python\\python38\\lib\\site-packages (from jupyter-server~=1.4->jupyterlab~=3.1.4->jupyterlab-scheduler) (25.1.1)\n",
      "Requirement already satisfied: traitlets>=5.1 in c:\\users\\ridaa\\appdata\\local\\programs\\python\\python38\\lib\\site-packages (from jupyter-server~=1.4->jupyterlab~=3.1.4->jupyterlab-scheduler) (5.9.0)\n",
      "Requirement already satisfied: websocket-client in c:\\users\\ridaa\\appdata\\local\\programs\\python\\python38\\lib\\site-packages (from jupyter-server~=1.4->jupyterlab~=3.1.4->jupyterlab-scheduler) (1.6.2)\n",
      "Requirement already satisfied: Send2Trash in c:\\users\\ridaa\\appdata\\local\\programs\\python\\python38\\lib\\site-packages (from jupyter-server~=1.4->jupyterlab~=3.1.4->jupyterlab-scheduler) (1.8.2)\n",
      "Requirement already satisfied: terminado>=0.8.3 in c:\\users\\ridaa\\appdata\\local\\programs\\python\\python38\\lib\\site-packages (from jupyter-server~=1.4->jupyterlab~=3.1.4->jupyterlab-scheduler) (0.17.1)\n",
      "Requirement already satisfied: anyio<4,>=3.1.0 in c:\\users\\ridaa\\appdata\\local\\programs\\python\\python38\\lib\\site-packages (from jupyter-server~=1.4->jupyterlab~=3.1.4->jupyterlab-scheduler) (3.7.1)\n",
      "Requirement already satisfied: nbconvert>=6.4.4 in c:\\users\\ridaa\\appdata\\local\\programs\\python\\python38\\lib\\site-packages (from jupyter-server~=1.4->jupyterlab~=3.1.4->jupyterlab-scheduler) (7.7.4)\n",
      "Requirement already satisfied: idna>=2.8 in c:\\users\\ridaa\\appdata\\local\\programs\\python\\python38\\lib\\site-packages (from anyio<4,>=3.1.0->jupyter-server~=1.4->jupyterlab~=3.1.4->jupyterlab-scheduler) (3.4)\n",
      "Requirement already satisfied: exceptiongroup in c:\\users\\ridaa\\appdata\\local\\programs\\python\\python38\\lib\\site-packages (from anyio<4,>=3.1.0->jupyter-server~=1.4->jupyterlab~=3.1.4->jupyterlab-scheduler) (1.1.3)\n",
      "Requirement already satisfied: sniffio>=1.1 in c:\\users\\ridaa\\appdata\\local\\programs\\python\\python38\\lib\\site-packages (from anyio<4,>=3.1.0->jupyter-server~=1.4->jupyterlab~=3.1.4->jupyterlab-scheduler) (1.3.0)\n",
      "Requirement already satisfied: importlib-metadata>=4.8.3 in c:\\users\\ridaa\\appdata\\local\\programs\\python\\python38\\lib\\site-packages (from jupyter-client>=6.1.12->jupyter-server~=1.4->jupyterlab~=3.1.4->jupyterlab-scheduler) (6.8.0)\n",
      "Requirement already satisfied: python-dateutil>=2.8.2 in c:\\users\\ridaa\\appdata\\local\\programs\\python\\python38\\lib\\site-packages (from jupyter-client>=6.1.12->jupyter-server~=1.4->jupyterlab~=3.1.4->jupyterlab-scheduler) (2.8.2)\n",
      "Requirement already satisfied: zipp>=0.5 in c:\\users\\ridaa\\appdata\\local\\programs\\python\\python38\\lib\\site-packages (from importlib-metadata>=4.8.3->jupyter-client>=6.1.12->jupyter-server~=1.4->jupyterlab~=3.1.4->jupyterlab-scheduler) (3.16.2)\n",
      "Requirement already satisfied: pywin32>=300 in c:\\users\\ridaa\\appdata\\local\\programs\\python\\python38\\lib\\site-packages (from jupyter-core->jupyterlab~=3.1.4->jupyterlab-scheduler) (306)\n",
      "Requirement already satisfied: platformdirs>=2.5 in c:\\users\\ridaa\\appdata\\local\\programs\\python\\python38\\lib\\site-packages (from jupyter-core->jupyterlab~=3.1.4->jupyterlab-scheduler) (3.10.0)\n",
      "Requirement already satisfied: requests>=2.28 in c:\\users\\ridaa\\appdata\\local\\programs\\python\\python38\\lib\\site-packages (from jupyterlab-server~=2.3->jupyterlab~=3.1.4->jupyterlab-scheduler) (2.31.0)\n",
      "Requirement already satisfied: json5>=0.9.0 in c:\\users\\ridaa\\appdata\\local\\programs\\python\\python38\\lib\\site-packages (from jupyterlab-server~=2.3->jupyterlab~=3.1.4->jupyterlab-scheduler) (0.9.14)\n",
      "Requirement already satisfied: babel>=2.10 in c:\\users\\ridaa\\appdata\\local\\programs\\python\\python38\\lib\\site-packages (from jupyterlab-server~=2.3->jupyterlab~=3.1.4->jupyterlab-scheduler) (2.12.1)\n",
      "Requirement already satisfied: jsonschema>=4.17.3 in c:\\users\\ridaa\\appdata\\local\\programs\\python\\python38\\lib\\site-packages (from jupyterlab-server~=2.3->jupyterlab~=3.1.4->jupyterlab-scheduler) (4.19.0)\n",
      "Requirement already satisfied: pytz>=2015.7 in c:\\users\\ridaa\\appdata\\local\\programs\\python\\python38\\lib\\site-packages (from babel>=2.10->jupyterlab-server~=2.3->jupyterlab~=3.1.4->jupyterlab-scheduler) (2023.3)\n",
      "Requirement already satisfied: pkgutil-resolve-name>=1.3.10 in c:\\users\\ridaa\\appdata\\local\\programs\\python\\python38\\lib\\site-packages (from jsonschema>=4.17.3->jupyterlab-server~=2.3->jupyterlab~=3.1.4->jupyterlab-scheduler) (1.3.10)\n",
      "Requirement already satisfied: jsonschema-specifications>=2023.03.6 in c:\\users\\ridaa\\appdata\\local\\programs\\python\\python38\\lib\\site-packages (from jsonschema>=4.17.3->jupyterlab-server~=2.3->jupyterlab~=3.1.4->jupyterlab-scheduler) (2023.7.1)\n",
      "Requirement already satisfied: attrs>=22.2.0 in c:\\users\\ridaa\\appdata\\local\\programs\\python\\python38\\lib\\site-packages (from jsonschema>=4.17.3->jupyterlab-server~=2.3->jupyterlab~=3.1.4->jupyterlab-scheduler) (23.1.0)\n",
      "Requirement already satisfied: importlib-resources>=1.4.0 in c:\\users\\ridaa\\appdata\\local\\programs\\python\\python38\\lib\\site-packages (from jsonschema>=4.17.3->jupyterlab-server~=2.3->jupyterlab~=3.1.4->jupyterlab-scheduler) (6.0.1)\n",
      "Requirement already satisfied: rpds-py>=0.7.1 in c:\\users\\ridaa\\appdata\\local\\programs\\python\\python38\\lib\\site-packages (from jsonschema>=4.17.3->jupyterlab-server~=2.3->jupyterlab~=3.1.4->jupyterlab-scheduler) (0.9.2)\n",
      "Requirement already satisfied: referencing>=0.28.4 in c:\\users\\ridaa\\appdata\\local\\programs\\python\\python38\\lib\\site-packages (from jsonschema>=4.17.3->jupyterlab-server~=2.3->jupyterlab~=3.1.4->jupyterlab-scheduler) (0.30.2)\n",
      "Requirement already satisfied: notebook-shim>=0.2.3 in c:\\users\\ridaa\\appdata\\local\\programs\\python\\python38\\lib\\site-packages (from nbclassic~=0.2->jupyterlab~=3.1.4->jupyterlab-scheduler) (0.2.3)\n",
      "Requirement already satisfied: nest-asyncio>=1.5 in c:\\users\\ridaa\\appdata\\local\\programs\\python\\python38\\lib\\site-packages (from nbclassic~=0.2->jupyterlab~=3.1.4->jupyterlab-scheduler) (1.5.7)\n",
      "Requirement already satisfied: ipykernel in c:\\users\\ridaa\\appdata\\local\\programs\\python\\python38\\lib\\site-packages (from nbclassic~=0.2->jupyterlab~=3.1.4->jupyterlab-scheduler) (6.25.1)\n",
      "Requirement already satisfied: ipython-genutils in c:\\users\\ridaa\\appdata\\local\\programs\\python\\python38\\lib\\site-packages (from nbclassic~=0.2->jupyterlab~=3.1.4->jupyterlab-scheduler) (0.2.0)\n",
      "Requirement already satisfied: defusedxml in c:\\users\\ridaa\\appdata\\local\\programs\\python\\python38\\lib\\site-packages (from nbconvert>=6.4.4->jupyter-server~=1.4->jupyterlab~=3.1.4->jupyterlab-scheduler) (0.7.1)\n",
      "Requirement already satisfied: jupyterlab-pygments in c:\\users\\ridaa\\appdata\\local\\programs\\python\\python38\\lib\\site-packages (from nbconvert>=6.4.4->jupyter-server~=1.4->jupyterlab~=3.1.4->jupyterlab-scheduler) (0.2.2)\n",
      "Requirement already satisfied: tinycss2 in c:\\users\\ridaa\\appdata\\local\\programs\\python\\python38\\lib\\site-packages (from nbconvert>=6.4.4->jupyter-server~=1.4->jupyterlab~=3.1.4->jupyterlab-scheduler) (1.2.1)\n",
      "Requirement already satisfied: bleach!=5.0.0 in c:\\users\\ridaa\\appdata\\local\\programs\\python\\python38\\lib\\site-packages (from nbconvert>=6.4.4->jupyter-server~=1.4->jupyterlab~=3.1.4->jupyterlab-scheduler) (6.0.0)\n",
      "Requirement already satisfied: mistune<4,>=2.0.3 in c:\\users\\ridaa\\appdata\\local\\programs\\python\\python38\\lib\\site-packages (from nbconvert>=6.4.4->jupyter-server~=1.4->jupyterlab~=3.1.4->jupyterlab-scheduler) (3.0.1)\n",
      "Requirement already satisfied: beautifulsoup4 in c:\\users\\ridaa\\appdata\\local\\programs\\python\\python38\\lib\\site-packages (from nbconvert>=6.4.4->jupyter-server~=1.4->jupyterlab~=3.1.4->jupyterlab-scheduler) (4.12.2)\n",
      "Requirement already satisfied: nbclient>=0.5.0 in c:\\users\\ridaa\\appdata\\local\\programs\\python\\python38\\lib\\site-packages (from nbconvert>=6.4.4->jupyter-server~=1.4->jupyterlab~=3.1.4->jupyterlab-scheduler) (0.8.0)\n",
      "Requirement already satisfied: pygments>=2.4.1 in c:\\users\\ridaa\\appdata\\local\\programs\\python\\python38\\lib\\site-packages (from nbconvert>=6.4.4->jupyter-server~=1.4->jupyterlab~=3.1.4->jupyterlab-scheduler) (2.16.1)\n",
      "Requirement already satisfied: pandocfilters>=1.4.1 in c:\\users\\ridaa\\appdata\\local\\programs\\python\\python38\\lib\\site-packages (from nbconvert>=6.4.4->jupyter-server~=1.4->jupyterlab~=3.1.4->jupyterlab-scheduler) (1.5.0)\n",
      "Requirement already satisfied: webencodings in c:\\users\\ridaa\\appdata\\local\\programs\\python\\python38\\lib\\site-packages (from bleach!=5.0.0->nbconvert>=6.4.4->jupyter-server~=1.4->jupyterlab~=3.1.4->jupyterlab-scheduler) (0.5.1)\n",
      "Requirement already satisfied: six>=1.9.0 in c:\\users\\ridaa\\appdata\\local\\programs\\python\\python38\\lib\\site-packages (from bleach!=5.0.0->nbconvert>=6.4.4->jupyter-server~=1.4->jupyterlab~=3.1.4->jupyterlab-scheduler) (1.16.0)\n",
      "Requirement already satisfied: fastjsonschema in c:\\users\\ridaa\\appdata\\local\\programs\\python\\python38\\lib\\site-packages (from nbformat>=5.2.0->jupyter-server~=1.4->jupyterlab~=3.1.4->jupyterlab-scheduler) (2.18.0)\n",
      "Requirement already satisfied: tqdm>=4.32.2 in c:\\users\\ridaa\\appdata\\local\\programs\\python\\python38\\lib\\site-packages (from papermill~=2.1->jupyterlab-scheduler) (4.66.1)\n",
      "Requirement already satisfied: click in c:\\users\\ridaa\\appdata\\local\\programs\\python\\python38\\lib\\site-packages (from papermill~=2.1->jupyterlab-scheduler) (8.1.7)\n",
      "Requirement already satisfied: tenacity in c:\\users\\ridaa\\appdata\\local\\programs\\python\\python38\\lib\\site-packages (from papermill~=2.1->jupyterlab-scheduler) (8.2.3)\n",
      "Requirement already satisfied: entrypoints in c:\\users\\ridaa\\appdata\\local\\programs\\python\\python38\\lib\\site-packages (from papermill~=2.1->jupyterlab-scheduler) (0.4)\n",
      "Requirement already satisfied: ansiwrap in c:\\users\\ridaa\\appdata\\local\\programs\\python\\python38\\lib\\site-packages (from papermill~=2.1->jupyterlab-scheduler) (0.8.4)\n",
      "Requirement already satisfied: pyyaml in c:\\users\\ridaa\\appdata\\local\\programs\\python\\python38\\lib\\site-packages (from papermill~=2.1->jupyterlab-scheduler) (6.0.1)\n",
      "Requirement already satisfied: urllib3<3,>=1.21.1 in c:\\users\\ridaa\\appdata\\local\\programs\\python\\python38\\lib\\site-packages (from requests>=2.28->jupyterlab-server~=2.3->jupyterlab~=3.1.4->jupyterlab-scheduler) (1.26.17)\n",
      "Requirement already satisfied: certifi>=2017.4.17 in c:\\users\\ridaa\\appdata\\local\\programs\\python\\python38\\lib\\site-packages (from requests>=2.28->jupyterlab-server~=2.3->jupyterlab~=3.1.4->jupyterlab-scheduler) (2023.7.22)\n",
      "Requirement already satisfied: charset-normalizer<4,>=2 in c:\\users\\ridaa\\appdata\\local\\programs\\python\\python38\\lib\\site-packages (from requests>=2.28->jupyterlab-server~=2.3->jupyterlab~=3.1.4->jupyterlab-scheduler) (3.2.0)\n",
      "Requirement already satisfied: colorama in c:\\users\\ridaa\\appdata\\local\\programs\\python\\python38\\lib\\site-packages (from tqdm>=4.32.2->papermill~=2.1->jupyterlab-scheduler) (0.4.6)\n",
      "Requirement already satisfied: textwrap3>=0.9.2 in c:\\users\\ridaa\\appdata\\local\\programs\\python\\python38\\lib\\site-packages (from ansiwrap->papermill~=2.1->jupyterlab-scheduler) (0.9.2)\n",
      "Requirement already satisfied: argon2-cffi-bindings in c:\\users\\ridaa\\appdata\\local\\programs\\python\\python38\\lib\\site-packages (from argon2-cffi->jupyter-server~=1.4->jupyterlab~=3.1.4->jupyterlab-scheduler) (21.2.0)\n",
      "Requirement already satisfied: cffi>=1.0.1 in c:\\users\\ridaa\\appdata\\local\\programs\\python\\python38\\lib\\site-packages (from argon2-cffi-bindings->argon2-cffi->jupyter-server~=1.4->jupyterlab~=3.1.4->jupyterlab-scheduler) (1.15.1)\n",
      "Requirement already satisfied: pycparser in c:\\users\\ridaa\\appdata\\local\\programs\\python\\python38\\lib\\site-packages (from cffi>=1.0.1->argon2-cffi-bindings->argon2-cffi->jupyter-server~=1.4->jupyterlab~=3.1.4->jupyterlab-scheduler) (2.21)\n",
      "Requirement already satisfied: soupsieve>1.2 in c:\\users\\ridaa\\appdata\\local\\programs\\python\\python38\\lib\\site-packages (from beautifulsoup4->nbconvert>=6.4.4->jupyter-server~=1.4->jupyterlab~=3.1.4->jupyterlab-scheduler) (2.4.1)\n",
      "Requirement already satisfied: debugpy>=1.6.5 in c:\\users\\ridaa\\appdata\\local\\programs\\python\\python38\\lib\\site-packages (from ipykernel->nbclassic~=0.2->jupyterlab~=3.1.4->jupyterlab-scheduler) (1.6.7.post1)\n",
      "Requirement already satisfied: comm>=0.1.1 in c:\\users\\ridaa\\appdata\\local\\programs\\python\\python38\\lib\\site-packages (from ipykernel->nbclassic~=0.2->jupyterlab~=3.1.4->jupyterlab-scheduler) (0.1.4)\n",
      "Requirement already satisfied: psutil in c:\\users\\ridaa\\appdata\\local\\programs\\python\\python38\\lib\\site-packages (from ipykernel->nbclassic~=0.2->jupyterlab~=3.1.4->jupyterlab-scheduler) (5.9.5)\n",
      "Requirement already satisfied: matplotlib-inline>=0.1 in c:\\users\\ridaa\\appdata\\local\\programs\\python\\python38\\lib\\site-packages (from ipykernel->nbclassic~=0.2->jupyterlab~=3.1.4->jupyterlab-scheduler) (0.1.6)\n",
      "Requirement already satisfied: prompt-toolkit!=3.0.37,<3.1.0,>=3.0.30 in c:\\users\\ridaa\\appdata\\local\\programs\\python\\python38\\lib\\site-packages (from ipython->jupyterlab~=3.1.4->jupyterlab-scheduler) (3.0.39)\n",
      "Requirement already satisfied: stack-data in c:\\users\\ridaa\\appdata\\local\\programs\\python\\python38\\lib\\site-packages (from ipython->jupyterlab~=3.1.4->jupyterlab-scheduler) (0.6.2)\n",
      "Requirement already satisfied: pickleshare in c:\\users\\ridaa\\appdata\\local\\programs\\python\\python38\\lib\\site-packages (from ipython->jupyterlab~=3.1.4->jupyterlab-scheduler) (0.7.5)\n",
      "Requirement already satisfied: backcall in c:\\users\\ridaa\\appdata\\local\\programs\\python\\python38\\lib\\site-packages (from ipython->jupyterlab~=3.1.4->jupyterlab-scheduler) (0.2.0)\n",
      "Requirement already satisfied: decorator in c:\\users\\ridaa\\appdata\\local\\programs\\python\\python38\\lib\\site-packages (from ipython->jupyterlab~=3.1.4->jupyterlab-scheduler) (5.1.1)\n",
      "Requirement already satisfied: jedi>=0.16 in c:\\users\\ridaa\\appdata\\local\\programs\\python\\python38\\lib\\site-packages (from ipython->jupyterlab~=3.1.4->jupyterlab-scheduler) (0.19.0)\n",
      "Requirement already satisfied: typing-extensions in c:\\users\\ridaa\\appdata\\local\\programs\\python\\python38\\lib\\site-packages (from ipython->jupyterlab~=3.1.4->jupyterlab-scheduler) (4.7.1)\n",
      "Requirement already satisfied: parso<0.9.0,>=0.8.3 in c:\\users\\ridaa\\appdata\\local\\programs\\python\\python38\\lib\\site-packages (from jedi>=0.16->ipython->jupyterlab~=3.1.4->jupyterlab-scheduler) (0.8.3)\n",
      "Requirement already satisfied: wcwidth in c:\\users\\ridaa\\appdata\\local\\programs\\python\\python38\\lib\\site-packages (from prompt-toolkit!=3.0.37,<3.1.0,>=3.0.30->ipython->jupyterlab~=3.1.4->jupyterlab-scheduler) (0.2.6)\n",
      "Requirement already satisfied: pure-eval in c:\\users\\ridaa\\appdata\\local\\programs\\python\\python38\\lib\\site-packages (from stack-data->ipython->jupyterlab~=3.1.4->jupyterlab-scheduler) (0.2.2)\n",
      "Requirement already satisfied: asttokens>=2.1.0 in c:\\users\\ridaa\\appdata\\local\\programs\\python\\python38\\lib\\site-packages (from stack-data->ipython->jupyterlab~=3.1.4->jupyterlab-scheduler) (2.2.1)\n",
      "Requirement already satisfied: executing>=1.2.0 in c:\\users\\ridaa\\appdata\\local\\programs\\python\\python38\\lib\\site-packages (from stack-data->ipython->jupyterlab~=3.1.4->jupyterlab-scheduler) (1.2.0)\n",
      "Note: you may need to restart the kernel to use updated packages.\n"
     ]
    },
    {
     "name": "stderr",
     "output_type": "stream",
     "text": [
      "WARNING: You are using pip version 21.1.1; however, version 23.3 is available.\n",
      "You should consider upgrading via the 'c:\\users\\ridaa\\appdata\\local\\programs\\python\\python38\\python.exe -m pip install --upgrade pip' command.\n"
     ]
    }
   ],
   "source": [
    "pip install jupyterlab-scheduler"
   ]
  },
  {
   "cell_type": "code",
   "execution_count": 366,
   "id": "842e72d6-36ed-475d-8f84-496777393735",
   "metadata": {},
   "outputs": [
    {
     "name": "stdout",
     "output_type": "stream",
     "text": [
      "Requirement already satisfied: snowflake-connector-python in c:\\users\\ridaa\\appdata\\local\\programs\\python\\python38\\lib\\site-packages (3.3.0)\n",
      "Requirement already satisfied: asn1crypto<2.0.0,>0.24.0 in c:\\users\\ridaa\\appdata\\local\\programs\\python\\python38\\lib\\site-packages (from snowflake-connector-python) (1.5.1)\n",
      "Requirement already satisfied: filelock<4,>=3.5 in c:\\users\\ridaa\\appdata\\local\\programs\\python\\python38\\lib\\site-packages (from snowflake-connector-python) (3.12.4)\n",
      "Requirement already satisfied: pyOpenSSL<24.0.0,>=16.2.0 in c:\\users\\ridaa\\appdata\\local\\programs\\python\\python38\\lib\\site-packages (from snowflake-connector-python) (23.2.0)\n",
      "Requirement already satisfied: idna<4,>=2.5 in c:\\users\\ridaa\\appdata\\local\\programs\\python\\python38\\lib\\site-packages (from snowflake-connector-python) (3.4)\n",
      "Requirement already satisfied: pyjwt<3.0.0 in c:\\users\\ridaa\\appdata\\local\\programs\\python\\python38\\lib\\site-packages (from snowflake-connector-python) (2.8.0)\n",
      "Requirement already satisfied: certifi>=2017.4.17 in c:\\users\\ridaa\\appdata\\local\\programs\\python\\python38\\lib\\site-packages (from snowflake-connector-python) (2023.7.22)\n",
      "Requirement already satisfied: sortedcontainers>=2.4.0 in c:\\users\\ridaa\\appdata\\local\\programs\\python\\python38\\lib\\site-packages (from snowflake-connector-python) (2.4.0)\n",
      "Requirement already satisfied: typing-extensions<5,>=4.3 in c:\\users\\ridaa\\appdata\\local\\programs\\python\\python38\\lib\\site-packages (from snowflake-connector-python) (4.7.1)\n",
      "Requirement already satisfied: platformdirs<4.0.0,>=2.6.0 in c:\\users\\ridaa\\appdata\\local\\programs\\python\\python38\\lib\\site-packages (from snowflake-connector-python) (3.10.0)\n",
      "Requirement already satisfied: tomlkit in c:\\users\\ridaa\\appdata\\local\\programs\\python\\python38\\lib\\site-packages (from snowflake-connector-python) (0.12.1)\n",
      "Requirement already satisfied: charset-normalizer<4,>=2 in c:\\users\\ridaa\\appdata\\local\\programs\\python\\python38\\lib\\site-packages (from snowflake-connector-python) (3.2.0)\n",
      "Requirement already satisfied: requests<3.0.0 in c:\\users\\ridaa\\appdata\\local\\programs\\python\\python38\\lib\\site-packages (from snowflake-connector-python) (2.31.0)\n",
      "Requirement already satisfied: cryptography<42.0.0,>=3.1.0 in c:\\users\\ridaa\\appdata\\local\\programs\\python\\python38\\lib\\site-packages (from snowflake-connector-python) (41.0.4)\n",
      "Requirement already satisfied: oscrypto<2.0.0 in c:\\users\\ridaa\\appdata\\local\\programs\\python\\python38\\lib\\site-packages (from snowflake-connector-python) (1.3.0)\n",
      "Requirement already satisfied: packaging in c:\\users\\ridaa\\appdata\\local\\programs\\python\\python38\\lib\\site-packages (from snowflake-connector-python) (23.1)\n",
      "Requirement already satisfied: pytz in c:\\users\\ridaa\\appdata\\local\\programs\\python\\python38\\lib\\site-packages (from snowflake-connector-python) (2023.3)\n",
      "Requirement already satisfied: cffi<2.0.0,>=1.9 in c:\\users\\ridaa\\appdata\\local\\programs\\python\\python38\\lib\\site-packages (from snowflake-connector-python) (1.15.1)\n",
      "Requirement already satisfied: urllib3<1.27,>=1.21.1 in c:\\users\\ridaa\\appdata\\local\\programs\\python\\python38\\lib\\site-packages (from snowflake-connector-python) (1.26.17)\n",
      "Requirement already satisfied: pycryptodomex!=3.5.0,<4.0.0,>=3.2 in c:\\users\\ridaa\\appdata\\local\\programs\\python\\python38\\lib\\site-packages (from snowflake-connector-python) (3.19.0)\n",
      "Requirement already satisfied: pycparser in c:\\users\\ridaa\\appdata\\local\\programs\\python\\python38\\lib\\site-packages (from cffi<2.0.0,>=1.9->snowflake-connector-python) (2.21)\n",
      "Note: you may need to restart the kernel to use updated packages.\n"
     ]
    },
    {
     "name": "stderr",
     "output_type": "stream",
     "text": [
      "WARNING: You are using pip version 21.1.1; however, version 23.3 is available.\n",
      "You should consider upgrading via the 'c:\\users\\ridaa\\appdata\\local\\programs\\python\\python38\\python.exe -m pip install --upgrade pip' command.\n"
     ]
    }
   ],
   "source": [
    "pip install snowflake-connector-python"
   ]
  },
  {
   "cell_type": "code",
   "execution_count": 367,
   "id": "b964373d-19c1-4556-b1ab-30173d68821d",
   "metadata": {},
   "outputs": [
    {
     "name": "stdout",
     "output_type": "stream",
     "text": [
      "Requirement already satisfied: snowflake-sqlalchemy in c:\\users\\ridaa\\appdata\\local\\programs\\python\\python38\\lib\\site-packages (1.5.0)\n",
      "Requirement already satisfied: snowflake-connector-python<4.0.0 in c:\\users\\ridaa\\appdata\\local\\programs\\python\\python38\\lib\\site-packages (from snowflake-sqlalchemy) (3.3.0)\n",
      "Requirement already satisfied: sqlalchemy<2.0.0,>=1.4.0 in c:\\users\\ridaa\\appdata\\local\\programs\\python\\python38\\lib\\site-packages (from snowflake-sqlalchemy) (1.4.49)\n",
      "Requirement already satisfied: idna<4,>=2.5 in c:\\users\\ridaa\\appdata\\local\\programs\\python\\python38\\lib\\site-packages (from snowflake-connector-python<4.0.0->snowflake-sqlalchemy) (3.4)\n",
      "Requirement already satisfied: charset-normalizer<4,>=2 in c:\\users\\ridaa\\appdata\\local\\programs\\python\\python38\\lib\\site-packages (from snowflake-connector-python<4.0.0->snowflake-sqlalchemy) (3.2.0)\n",
      "Requirement already satisfied: cryptography<42.0.0,>=3.1.0 in c:\\users\\ridaa\\appdata\\local\\programs\\python\\python38\\lib\\site-packages (from snowflake-connector-python<4.0.0->snowflake-sqlalchemy) (41.0.4)\n",
      "Requirement already satisfied: asn1crypto<2.0.0,>0.24.0 in c:\\users\\ridaa\\appdata\\local\\programs\\python\\python38\\lib\\site-packages (from snowflake-connector-python<4.0.0->snowflake-sqlalchemy) (1.5.1)\n",
      "Requirement already satisfied: platformdirs<4.0.0,>=2.6.0 in c:\\users\\ridaa\\appdata\\local\\programs\\python\\python38\\lib\\site-packages (from snowflake-connector-python<4.0.0->snowflake-sqlalchemy) (3.10.0)\n",
      "Requirement already satisfied: tomlkit in c:\\users\\ridaa\\appdata\\local\\programs\\python\\python38\\lib\\site-packages (from snowflake-connector-python<4.0.0->snowflake-sqlalchemy) (0.12.1)\n",
      "Requirement already satisfied: requests<3.0.0 in c:\\users\\ridaa\\appdata\\local\\programs\\python\\python38\\lib\\site-packages (from snowflake-connector-python<4.0.0->snowflake-sqlalchemy) (2.31.0)\n",
      "Requirement already satisfied: pytz in c:\\users\\ridaa\\appdata\\local\\programs\\python\\python38\\lib\\site-packages (from snowflake-connector-python<4.0.0->snowflake-sqlalchemy) (2023.3)\n",
      "Requirement already satisfied: urllib3<1.27,>=1.21.1 in c:\\users\\ridaa\\appdata\\local\\programs\\python\\python38\\lib\\site-packages (from snowflake-connector-python<4.0.0->snowflake-sqlalchemy) (1.26.17)\n",
      "Requirement already satisfied: pyOpenSSL<24.0.0,>=16.2.0 in c:\\users\\ridaa\\appdata\\local\\programs\\python\\python38\\lib\\site-packages (from snowflake-connector-python<4.0.0->snowflake-sqlalchemy) (23.2.0)\n",
      "Requirement already satisfied: oscrypto<2.0.0 in c:\\users\\ridaa\\appdata\\local\\programs\\python\\python38\\lib\\site-packages (from snowflake-connector-python<4.0.0->snowflake-sqlalchemy) (1.3.0)\n",
      "Requirement already satisfied: typing-extensions<5,>=4.3 in c:\\users\\ridaa\\appdata\\local\\programs\\python\\python38\\lib\\site-packages (from snowflake-connector-python<4.0.0->snowflake-sqlalchemy) (4.7.1)\n",
      "Requirement already satisfied: pycryptodomex!=3.5.0,<4.0.0,>=3.2 in c:\\users\\ridaa\\appdata\\local\\programs\\python\\python38\\lib\\site-packages (from snowflake-connector-python<4.0.0->snowflake-sqlalchemy) (3.19.0)\n",
      "Requirement already satisfied: cffi<2.0.0,>=1.9 in c:\\users\\ridaa\\appdata\\local\\programs\\python\\python38\\lib\\site-packages (from snowflake-connector-python<4.0.0->snowflake-sqlalchemy) (1.15.1)\n",
      "Requirement already satisfied: filelock<4,>=3.5 in c:\\users\\ridaa\\appdata\\local\\programs\\python\\python38\\lib\\site-packages (from snowflake-connector-python<4.0.0->snowflake-sqlalchemy) (3.12.4)\n",
      "Requirement already satisfied: certifi>=2017.4.17 in c:\\users\\ridaa\\appdata\\local\\programs\\python\\python38\\lib\\site-packages (from snowflake-connector-python<4.0.0->snowflake-sqlalchemy) (2023.7.22)\n",
      "Requirement already satisfied: pyjwt<3.0.0 in c:\\users\\ridaa\\appdata\\local\\programs\\python\\python38\\lib\\site-packages (from snowflake-connector-python<4.0.0->snowflake-sqlalchemy) (2.8.0)\n",
      "Requirement already satisfied: sortedcontainers>=2.4.0 in c:\\users\\ridaa\\appdata\\local\\programs\\python\\python38\\lib\\site-packages (from snowflake-connector-python<4.0.0->snowflake-sqlalchemy) (2.4.0)\n",
      "Requirement already satisfied: packaging in c:\\users\\ridaa\\appdata\\local\\programs\\python\\python38\\lib\\site-packages (from snowflake-connector-python<4.0.0->snowflake-sqlalchemy) (23.1)\n",
      "Requirement already satisfied: pycparser in c:\\users\\ridaa\\appdata\\local\\programs\\python\\python38\\lib\\site-packages (from cffi<2.0.0,>=1.9->snowflake-connector-python<4.0.0->snowflake-sqlalchemy) (2.21)\n",
      "Requirement already satisfied: greenlet!=0.4.17 in c:\\users\\ridaa\\appdata\\local\\programs\\python\\python38\\lib\\site-packages (from sqlalchemy<2.0.0,>=1.4.0->snowflake-sqlalchemy) (3.0.0)\n",
      "Note: you may need to restart the kernel to use updated packages.\n"
     ]
    },
    {
     "name": "stderr",
     "output_type": "stream",
     "text": [
      "WARNING: You are using pip version 21.1.1; however, version 23.3 is available.\n",
      "You should consider upgrading via the 'c:\\users\\ridaa\\appdata\\local\\programs\\python\\python38\\python.exe -m pip install --upgrade pip' command.\n"
     ]
    }
   ],
   "source": [
    "pip install snowflake-sqlalchemy"
   ]
  },
  {
   "cell_type": "code",
   "execution_count": 368,
   "id": "6263b81c-35d5-4b89-b725-279ad021e4d3",
   "metadata": {},
   "outputs": [
    {
     "name": "stdout",
     "output_type": "stream",
     "text": [
      "Requirement already satisfied: snowflake-connector-python[pandas] in c:\\users\\ridaa\\appdata\\local\\programs\\python\\python38\\lib\\site-packages (3.3.0)Note: you may need to restart the kernel to use updated packages.\n"
     ]
    },
    {
     "name": "stderr",
     "output_type": "stream",
     "text": [
      "WARNING: You are using pip version 21.1.1; however, version 23.3 is available.\n",
      "You should consider upgrading via the 'c:\\users\\ridaa\\appdata\\local\\programs\\python\\python38\\python.exe -m pip install --upgrade pip' command.\n"
     ]
    },
    {
     "name": "stdout",
     "output_type": "stream",
     "text": [
      "\n",
      "Requirement already satisfied: cffi<2.0.0,>=1.9 in c:\\users\\ridaa\\appdata\\local\\programs\\python\\python38\\lib\\site-packages (from snowflake-connector-python[pandas]) (1.15.1)\n",
      "Requirement already satisfied: pyjwt<3.0.0 in c:\\users\\ridaa\\appdata\\local\\programs\\python\\python38\\lib\\site-packages (from snowflake-connector-python[pandas]) (2.8.0)\n",
      "Requirement already satisfied: packaging in c:\\users\\ridaa\\appdata\\local\\programs\\python\\python38\\lib\\site-packages (from snowflake-connector-python[pandas]) (23.1)\n",
      "Requirement already satisfied: pyOpenSSL<24.0.0,>=16.2.0 in c:\\users\\ridaa\\appdata\\local\\programs\\python\\python38\\lib\\site-packages (from snowflake-connector-python[pandas]) (23.2.0)\n",
      "Requirement already satisfied: typing-extensions<5,>=4.3 in c:\\users\\ridaa\\appdata\\local\\programs\\python\\python38\\lib\\site-packages (from snowflake-connector-python[pandas]) (4.7.1)\n",
      "Requirement already satisfied: pycryptodomex!=3.5.0,<4.0.0,>=3.2 in c:\\users\\ridaa\\appdata\\local\\programs\\python\\python38\\lib\\site-packages (from snowflake-connector-python[pandas]) (3.19.0)\n",
      "Requirement already satisfied: tomlkit in c:\\users\\ridaa\\appdata\\local\\programs\\python\\python38\\lib\\site-packages (from snowflake-connector-python[pandas]) (0.12.1)\n",
      "Requirement already satisfied: idna<4,>=2.5 in c:\\users\\ridaa\\appdata\\local\\programs\\python\\python38\\lib\\site-packages (from snowflake-connector-python[pandas]) (3.4)\n",
      "Requirement already satisfied: filelock<4,>=3.5 in c:\\users\\ridaa\\appdata\\local\\programs\\python\\python38\\lib\\site-packages (from snowflake-connector-python[pandas]) (3.12.4)\n",
      "Requirement already satisfied: charset-normalizer<4,>=2 in c:\\users\\ridaa\\appdata\\local\\programs\\python\\python38\\lib\\site-packages (from snowflake-connector-python[pandas]) (3.2.0)\n",
      "Requirement already satisfied: platformdirs<4.0.0,>=2.6.0 in c:\\users\\ridaa\\appdata\\local\\programs\\python\\python38\\lib\\site-packages (from snowflake-connector-python[pandas]) (3.10.0)\n",
      "Requirement already satisfied: sortedcontainers>=2.4.0 in c:\\users\\ridaa\\appdata\\local\\programs\\python\\python38\\lib\\site-packages (from snowflake-connector-python[pandas]) (2.4.0)\n",
      "Requirement already satisfied: urllib3<1.27,>=1.21.1 in c:\\users\\ridaa\\appdata\\local\\programs\\python\\python38\\lib\\site-packages (from snowflake-connector-python[pandas]) (1.26.17)\n",
      "Requirement already satisfied: requests<3.0.0 in c:\\users\\ridaa\\appdata\\local\\programs\\python\\python38\\lib\\site-packages (from snowflake-connector-python[pandas]) (2.31.0)\n",
      "Requirement already satisfied: certifi>=2017.4.17 in c:\\users\\ridaa\\appdata\\local\\programs\\python\\python38\\lib\\site-packages (from snowflake-connector-python[pandas]) (2023.7.22)\n",
      "Requirement already satisfied: asn1crypto<2.0.0,>0.24.0 in c:\\users\\ridaa\\appdata\\local\\programs\\python\\python38\\lib\\site-packages (from snowflake-connector-python[pandas]) (1.5.1)\n",
      "Requirement already satisfied: pytz in c:\\users\\ridaa\\appdata\\local\\programs\\python\\python38\\lib\\site-packages (from snowflake-connector-python[pandas]) (2023.3)\n",
      "Requirement already satisfied: oscrypto<2.0.0 in c:\\users\\ridaa\\appdata\\local\\programs\\python\\python38\\lib\\site-packages (from snowflake-connector-python[pandas]) (1.3.0)\n",
      "Requirement already satisfied: cryptography<42.0.0,>=3.1.0 in c:\\users\\ridaa\\appdata\\local\\programs\\python\\python38\\lib\\site-packages (from snowflake-connector-python[pandas]) (41.0.4)\n",
      "Requirement already satisfied: pyarrow<10.1.0,>=10.0.1 in c:\\users\\ridaa\\appdata\\local\\programs\\python\\python38\\lib\\site-packages (from snowflake-connector-python[pandas]) (10.0.1)\n",
      "Requirement already satisfied: pandas<2.1.0,>=1.0.0 in c:\\users\\ridaa\\appdata\\local\\programs\\python\\python38\\lib\\site-packages (from snowflake-connector-python[pandas]) (2.0.3)\n",
      "Requirement already satisfied: pycparser in c:\\users\\ridaa\\appdata\\local\\programs\\python\\python38\\lib\\site-packages (from cffi<2.0.0,>=1.9->snowflake-connector-python[pandas]) (2.21)\n",
      "Requirement already satisfied: tzdata>=2022.1 in c:\\users\\ridaa\\appdata\\local\\programs\\python\\python38\\lib\\site-packages (from pandas<2.1.0,>=1.0.0->snowflake-connector-python[pandas]) (2023.3)\n",
      "Requirement already satisfied: python-dateutil>=2.8.2 in c:\\users\\ridaa\\appdata\\local\\programs\\python\\python38\\lib\\site-packages (from pandas<2.1.0,>=1.0.0->snowflake-connector-python[pandas]) (2.8.2)\n",
      "Requirement already satisfied: numpy>=1.20.3 in c:\\users\\ridaa\\appdata\\local\\programs\\python\\python38\\lib\\site-packages (from pandas<2.1.0,>=1.0.0->snowflake-connector-python[pandas]) (1.24.4)\n",
      "Requirement already satisfied: six>=1.5 in c:\\users\\ridaa\\appdata\\local\\programs\\python\\python38\\lib\\site-packages (from python-dateutil>=2.8.2->pandas<2.1.0,>=1.0.0->snowflake-connector-python[pandas]) (1.16.0)\n"
     ]
    }
   ],
   "source": [
    "pip install snowflake-connector-python[pandas]"
   ]
  },
  {
   "cell_type": "code",
   "execution_count": 422,
   "id": "34ded20e-f7a3-4218-92c7-7bf911068155",
   "metadata": {},
   "outputs": [],
   "source": [
    "import numpy as np\n",
    "import pandas as pd\n",
    "import pandas_profiling \n",
    "import matplotlib.pyplot as plt \n",
    "import getpass\n",
    "import seaborn as sns \n",
    "%matplotlib inline\n",
    "import snowflake.connector"
   ]
  },
  {
   "cell_type": "code",
   "execution_count": 423,
   "id": "0de64aa4-fa73-420d-9707-3558e31efbdf",
   "metadata": {},
   "outputs": [],
   "source": [
    "conn = snowflake.connector.connect(\n",
    "        user = 'ASHFAQ13',\n",
    "        #assword = getpass.getpass('Your Snowflake Password: '),\n",
    "        password='Lakshaya@1998',\n",
    "        account = 'vr33157.ap-south-1.aws',\n",
    "        database='RETAIL_ANALYSIS',\n",
    "        schema='PUBLIC',\n",
    "        warehouse='COMPUTE_WH',\n",
    ")"
   ]
  },
  {
   "cell_type": "code",
   "execution_count": 424,
   "id": "095680b0-9988-42da-9c31-d23bcb6018fc",
   "metadata": {},
   "outputs": [],
   "source": [
    "cur = conn.cursor()"
   ]
  },
  {
   "cell_type": "code",
   "execution_count": 425,
   "id": "8fff5af0-27fe-487b-94cb-d19b965283ed",
   "metadata": {},
   "outputs": [],
   "source": [
    "select_demographic_RAW = 'SELECT * FROM demographic_RAW'\n",
    "select_CAMPAIGN_DESC_RAW = 'SELECT * FROM CAMPAIGN_DESC_RAW'\n",
    "select_CAMPAIGN_RAW = 'SELECT * FROM CAMPAIGN_RAW'\n",
    "select_PRODUCT_RAW = 'SELECT * FROM PRODUCT_RAW'\n",
    "select_COUPON_RAW = 'SELECT * FROM COUPON_RAW'\n",
    "select_COUPON_REDEMPT_RAW = 'SELECT * FROM COUPON_REDEMPT_RAW'\n",
    "select_TRANSACTION_RAW = 'SELECT * FROM TRANSACTION_RAW'"
   ]
  },
  {
   "cell_type": "code",
   "execution_count": 426,
   "id": "c3d6ca83-a82e-4714-99f4-2b3de78ede92",
   "metadata": {},
   "outputs": [],
   "source": [
    "cur.execute(select_demographic_RAW)\n",
    "demographic_RAW = cur.fetch_pandas_all()"
   ]
  },
  {
   "cell_type": "code",
   "execution_count": 427,
   "id": "17f8d877-829c-4908-8cec-a6f4934d910d",
   "metadata": {},
   "outputs": [],
   "source": [
    "cur.execute(select_CAMPAIGN_DESC_RAW)\n",
    "CAMPAIGN_DESC_RAW = cur.fetch_pandas_all()"
   ]
  },
  {
   "cell_type": "code",
   "execution_count": 428,
   "id": "ec98423d-c59e-460c-98a4-8eb7cb73a98b",
   "metadata": {},
   "outputs": [],
   "source": [
    "cur.execute(select_CAMPAIGN_RAW)\n",
    "CAMPAIGN_RAW = cur.fetch_pandas_all()"
   ]
  },
  {
   "cell_type": "code",
   "execution_count": 429,
   "id": "01527c1b-2990-45d4-a8a3-dc1409b6f145",
   "metadata": {},
   "outputs": [],
   "source": [
    "cur.execute(select_COUPON_REDEMPT_RAW)\n",
    "COUPON_REDEMPT_RAW = cur.fetch_pandas_all()"
   ]
  },
  {
   "cell_type": "code",
   "execution_count": 430,
   "id": "73753f97-6a3f-4b4a-be16-9f9240d8d691",
   "metadata": {},
   "outputs": [],
   "source": [
    "cur.execute(select_PRODUCT_RAW)\n",
    "PRODUCT_RAW = cur.fetch_pandas_all()"
   ]
  },
  {
   "cell_type": "code",
   "execution_count": 431,
   "id": "e05f0d19-52b7-4dd5-b284-aa8b3edbd915",
   "metadata": {},
   "outputs": [],
   "source": [
    "cur.execute(select_COUPON_RAW)\n",
    "COUPON_RAW = cur.fetch_pandas_all()"
   ]
  },
  {
   "cell_type": "code",
   "execution_count": 432,
   "id": "26b66047-9a79-4fe9-b531-efdcce4204fb",
   "metadata": {},
   "outputs": [],
   "source": [
    "cur.execute(select_TRANSACTION_RAW)\n",
    "TRANSACTION_RAW = cur.fetch_pandas_all()"
   ]
  },
  {
   "cell_type": "code",
   "execution_count": 433,
   "id": "6c4f990c-2fb4-4fe2-bfa3-5380c3f81411",
   "metadata": {},
   "outputs": [],
   "source": [
    "cur.close()\n",
    "conn.close()"
   ]
  },
  {
   "cell_type": "code",
   "execution_count": 434,
   "id": "b72beca0-d598-4a4a-bc4d-5c2ea824d13a",
   "metadata": {},
   "outputs": [
    {
     "data": {
      "text/html": [
       "<div>\n",
       "<style scoped>\n",
       "    .dataframe tbody tr th:only-of-type {\n",
       "        vertical-align: middle;\n",
       "    }\n",
       "\n",
       "    .dataframe tbody tr th {\n",
       "        vertical-align: top;\n",
       "    }\n",
       "\n",
       "    .dataframe thead th {\n",
       "        text-align: right;\n",
       "    }\n",
       "</style>\n",
       "<table border=\"1\" class=\"dataframe\">\n",
       "  <thead>\n",
       "    <tr style=\"text-align: right;\">\n",
       "      <th></th>\n",
       "      <th>AGE_DESC</th>\n",
       "      <th>MARITAL_STATUS_CODE</th>\n",
       "      <th>INCOME_DESC</th>\n",
       "      <th>HOMEOWNER_DESC</th>\n",
       "      <th>HH_COMP_DESC</th>\n",
       "      <th>HOUSEHOLD_SIZE_DESC</th>\n",
       "      <th>KID_CATEGORY_DESC</th>\n",
       "      <th>HOUSEHOLD_KEY</th>\n",
       "    </tr>\n",
       "  </thead>\n",
       "  <tbody>\n",
       "    <tr>\n",
       "      <th>0</th>\n",
       "      <td>65+</td>\n",
       "      <td>A</td>\n",
       "      <td>35-49K</td>\n",
       "      <td>Homeowner</td>\n",
       "      <td>2 Adults No Kids</td>\n",
       "      <td>2</td>\n",
       "      <td>None/Unknown</td>\n",
       "      <td>1</td>\n",
       "    </tr>\n",
       "    <tr>\n",
       "      <th>1</th>\n",
       "      <td>45-54</td>\n",
       "      <td>A</td>\n",
       "      <td>50-74K</td>\n",
       "      <td>Homeowner</td>\n",
       "      <td>2 Adults No Kids</td>\n",
       "      <td>2</td>\n",
       "      <td>None/Unknown</td>\n",
       "      <td>7</td>\n",
       "    </tr>\n",
       "    <tr>\n",
       "      <th>2</th>\n",
       "      <td>25-34</td>\n",
       "      <td>U</td>\n",
       "      <td>25-34K</td>\n",
       "      <td>Unknown</td>\n",
       "      <td>2 Adults Kids</td>\n",
       "      <td>3</td>\n",
       "      <td>1</td>\n",
       "      <td>8</td>\n",
       "    </tr>\n",
       "    <tr>\n",
       "      <th>3</th>\n",
       "      <td>25-34</td>\n",
       "      <td>U</td>\n",
       "      <td>75-99K</td>\n",
       "      <td>Homeowner</td>\n",
       "      <td>2 Adults Kids</td>\n",
       "      <td>4</td>\n",
       "      <td>2</td>\n",
       "      <td>13</td>\n",
       "    </tr>\n",
       "    <tr>\n",
       "      <th>4</th>\n",
       "      <td>45-54</td>\n",
       "      <td>B</td>\n",
       "      <td>50-74K</td>\n",
       "      <td>Homeowner</td>\n",
       "      <td>Single Female</td>\n",
       "      <td>1</td>\n",
       "      <td>None/Unknown</td>\n",
       "      <td>16</td>\n",
       "    </tr>\n",
       "  </tbody>\n",
       "</table>\n",
       "</div>"
      ],
      "text/plain": [
       "  AGE_DESC MARITAL_STATUS_CODE INCOME_DESC HOMEOWNER_DESC      HH_COMP_DESC  \\\n",
       "0      65+                   A      35-49K      Homeowner  2 Adults No Kids   \n",
       "1    45-54                   A      50-74K      Homeowner  2 Adults No Kids   \n",
       "2    25-34                   U      25-34K        Unknown     2 Adults Kids   \n",
       "3    25-34                   U      75-99K      Homeowner     2 Adults Kids   \n",
       "4    45-54                   B      50-74K      Homeowner     Single Female   \n",
       "\n",
       "  HOUSEHOLD_SIZE_DESC KID_CATEGORY_DESC  HOUSEHOLD_KEY  \n",
       "0                   2      None/Unknown              1  \n",
       "1                   2      None/Unknown              7  \n",
       "2                   3                 1              8  \n",
       "3                   4                 2             13  \n",
       "4                   1      None/Unknown             16  "
      ]
     },
     "execution_count": 434,
     "metadata": {},
     "output_type": "execute_result"
    }
   ],
   "source": [
    "demographic_RAW.head(5)"
   ]
  },
  {
   "cell_type": "code",
   "execution_count": 435,
   "id": "32317b8f-3baa-4b7b-a50f-a74bab42b966",
   "metadata": {},
   "outputs": [
    {
     "data": {
      "text/html": [
       "<div>\n",
       "<style scoped>\n",
       "    .dataframe tbody tr th:only-of-type {\n",
       "        vertical-align: middle;\n",
       "    }\n",
       "\n",
       "    .dataframe tbody tr th {\n",
       "        vertical-align: top;\n",
       "    }\n",
       "\n",
       "    .dataframe thead th {\n",
       "        text-align: right;\n",
       "    }\n",
       "</style>\n",
       "<table border=\"1\" class=\"dataframe\">\n",
       "  <thead>\n",
       "    <tr style=\"text-align: right;\">\n",
       "      <th></th>\n",
       "      <th>DESCRIPTION</th>\n",
       "      <th>CAMPAIGN</th>\n",
       "      <th>START_DAY</th>\n",
       "      <th>END_DAY</th>\n",
       "    </tr>\n",
       "  </thead>\n",
       "  <tbody>\n",
       "    <tr>\n",
       "      <th>0</th>\n",
       "      <td>TypeB</td>\n",
       "      <td>24</td>\n",
       "      <td>659</td>\n",
       "      <td>719</td>\n",
       "    </tr>\n",
       "    <tr>\n",
       "      <th>1</th>\n",
       "      <td>TypeC</td>\n",
       "      <td>15</td>\n",
       "      <td>547</td>\n",
       "      <td>708</td>\n",
       "    </tr>\n",
       "    <tr>\n",
       "      <th>2</th>\n",
       "      <td>TypeB</td>\n",
       "      <td>25</td>\n",
       "      <td>659</td>\n",
       "      <td>691</td>\n",
       "    </tr>\n",
       "    <tr>\n",
       "      <th>3</th>\n",
       "      <td>TypeC</td>\n",
       "      <td>20</td>\n",
       "      <td>615</td>\n",
       "      <td>685</td>\n",
       "    </tr>\n",
       "    <tr>\n",
       "      <th>4</th>\n",
       "      <td>TypeB</td>\n",
       "      <td>23</td>\n",
       "      <td>646</td>\n",
       "      <td>684</td>\n",
       "    </tr>\n",
       "  </tbody>\n",
       "</table>\n",
       "</div>"
      ],
      "text/plain": [
       "  DESCRIPTION  CAMPAIGN  START_DAY  END_DAY\n",
       "0       TypeB        24        659      719\n",
       "1       TypeC        15        547      708\n",
       "2       TypeB        25        659      691\n",
       "3       TypeC        20        615      685\n",
       "4       TypeB        23        646      684"
      ]
     },
     "execution_count": 435,
     "metadata": {},
     "output_type": "execute_result"
    }
   ],
   "source": [
    "CAMPAIGN_DESC_RAW.head(5)\n"
   ]
  },
  {
   "cell_type": "code",
   "execution_count": 436,
   "id": "db9172cb-6013-41d8-bcf1-f50e23efc3f9",
   "metadata": {},
   "outputs": [
    {
     "data": {
      "text/html": [
       "<div>\n",
       "<style scoped>\n",
       "    .dataframe tbody tr th:only-of-type {\n",
       "        vertical-align: middle;\n",
       "    }\n",
       "\n",
       "    .dataframe tbody tr th {\n",
       "        vertical-align: top;\n",
       "    }\n",
       "\n",
       "    .dataframe thead th {\n",
       "        text-align: right;\n",
       "    }\n",
       "</style>\n",
       "<table border=\"1\" class=\"dataframe\">\n",
       "  <thead>\n",
       "    <tr style=\"text-align: right;\">\n",
       "      <th></th>\n",
       "      <th>DESCRIPTION</th>\n",
       "      <th>HOUSEHOLD_KEY</th>\n",
       "      <th>CAMPAIGN</th>\n",
       "    </tr>\n",
       "  </thead>\n",
       "  <tbody>\n",
       "    <tr>\n",
       "      <th>0</th>\n",
       "      <td>TypeA</td>\n",
       "      <td>17</td>\n",
       "      <td>26</td>\n",
       "    </tr>\n",
       "    <tr>\n",
       "      <th>1</th>\n",
       "      <td>TypeA</td>\n",
       "      <td>27</td>\n",
       "      <td>26</td>\n",
       "    </tr>\n",
       "    <tr>\n",
       "      <th>2</th>\n",
       "      <td>TypeA</td>\n",
       "      <td>212</td>\n",
       "      <td>26</td>\n",
       "    </tr>\n",
       "    <tr>\n",
       "      <th>3</th>\n",
       "      <td>TypeA</td>\n",
       "      <td>208</td>\n",
       "      <td>26</td>\n",
       "    </tr>\n",
       "    <tr>\n",
       "      <th>4</th>\n",
       "      <td>TypeA</td>\n",
       "      <td>192</td>\n",
       "      <td>26</td>\n",
       "    </tr>\n",
       "  </tbody>\n",
       "</table>\n",
       "</div>"
      ],
      "text/plain": [
       "  DESCRIPTION  HOUSEHOLD_KEY  CAMPAIGN\n",
       "0       TypeA             17        26\n",
       "1       TypeA             27        26\n",
       "2       TypeA            212        26\n",
       "3       TypeA            208        26\n",
       "4       TypeA            192        26"
      ]
     },
     "execution_count": 436,
     "metadata": {},
     "output_type": "execute_result"
    }
   ],
   "source": [
    "CAMPAIGN_RAW.head(5)\n"
   ]
  },
  {
   "cell_type": "code",
   "execution_count": 437,
   "id": "feffbcb3-3c1b-442b-9cff-7f2d2acfc1d1",
   "metadata": {},
   "outputs": [
    {
     "data": {
      "text/html": [
       "<div>\n",
       "<style scoped>\n",
       "    .dataframe tbody tr th:only-of-type {\n",
       "        vertical-align: middle;\n",
       "    }\n",
       "\n",
       "    .dataframe tbody tr th {\n",
       "        vertical-align: top;\n",
       "    }\n",
       "\n",
       "    .dataframe thead th {\n",
       "        text-align: right;\n",
       "    }\n",
       "</style>\n",
       "<table border=\"1\" class=\"dataframe\">\n",
       "  <thead>\n",
       "    <tr style=\"text-align: right;\">\n",
       "      <th></th>\n",
       "      <th>PRODUCT_ID</th>\n",
       "      <th>MANUFACTURER</th>\n",
       "      <th>DEPARTMENT</th>\n",
       "      <th>BRAND</th>\n",
       "      <th>COMMODITY_DESC</th>\n",
       "      <th>SUB_COMMODITY_DESC</th>\n",
       "      <th>CURR_SIZE_OF_PRODUCT</th>\n",
       "    </tr>\n",
       "  </thead>\n",
       "  <tbody>\n",
       "    <tr>\n",
       "      <th>0</th>\n",
       "      <td>25671</td>\n",
       "      <td>2</td>\n",
       "      <td>GROCERY</td>\n",
       "      <td>National</td>\n",
       "      <td>FRZN ICE</td>\n",
       "      <td>ICE - CRUSHED/CUBED</td>\n",
       "      <td>22 LB</td>\n",
       "    </tr>\n",
       "    <tr>\n",
       "      <th>1</th>\n",
       "      <td>26081</td>\n",
       "      <td>2</td>\n",
       "      <td>MISC. TRANS.</td>\n",
       "      <td>National</td>\n",
       "      <td>NO COMMODITY DESCRIPTION</td>\n",
       "      <td>NO SUBCOMMODITY DESCRIPTION</td>\n",
       "      <td></td>\n",
       "    </tr>\n",
       "    <tr>\n",
       "      <th>2</th>\n",
       "      <td>26093</td>\n",
       "      <td>69</td>\n",
       "      <td>PASTRY</td>\n",
       "      <td>Private</td>\n",
       "      <td>BREAD</td>\n",
       "      <td>BREAD:ITALIAN/FRENCH</td>\n",
       "      <td></td>\n",
       "    </tr>\n",
       "    <tr>\n",
       "      <th>3</th>\n",
       "      <td>26190</td>\n",
       "      <td>69</td>\n",
       "      <td>GROCERY</td>\n",
       "      <td>Private</td>\n",
       "      <td>FRUIT - SHELF STABLE</td>\n",
       "      <td>APPLE SAUCE</td>\n",
       "      <td>50 OZ</td>\n",
       "    </tr>\n",
       "    <tr>\n",
       "      <th>4</th>\n",
       "      <td>26355</td>\n",
       "      <td>69</td>\n",
       "      <td>GROCERY</td>\n",
       "      <td>Private</td>\n",
       "      <td>COOKIES/CONES</td>\n",
       "      <td>SPECIALTY COOKIES</td>\n",
       "      <td>14 OZ</td>\n",
       "    </tr>\n",
       "  </tbody>\n",
       "</table>\n",
       "</div>"
      ],
      "text/plain": [
       "   PRODUCT_ID  MANUFACTURER    DEPARTMENT     BRAND            COMMODITY_DESC  \\\n",
       "0       25671             2       GROCERY  National                  FRZN ICE   \n",
       "1       26081             2  MISC. TRANS.  National  NO COMMODITY DESCRIPTION   \n",
       "2       26093            69        PASTRY   Private                     BREAD   \n",
       "3       26190            69       GROCERY   Private      FRUIT - SHELF STABLE   \n",
       "4       26355            69       GROCERY   Private             COOKIES/CONES   \n",
       "\n",
       "            SUB_COMMODITY_DESC CURR_SIZE_OF_PRODUCT  \n",
       "0          ICE - CRUSHED/CUBED                22 LB  \n",
       "1  NO SUBCOMMODITY DESCRIPTION                       \n",
       "2         BREAD:ITALIAN/FRENCH                       \n",
       "3                  APPLE SAUCE                50 OZ  \n",
       "4            SPECIALTY COOKIES                14 OZ  "
      ]
     },
     "execution_count": 437,
     "metadata": {},
     "output_type": "execute_result"
    }
   ],
   "source": [
    "PRODUCT_RAW.head(5)\n"
   ]
  },
  {
   "cell_type": "code",
   "execution_count": 438,
   "id": "b2e19c40-239f-4f02-b7ce-db1cc4210c9f",
   "metadata": {},
   "outputs": [
    {
     "data": {
      "text/html": [
       "<div>\n",
       "<style scoped>\n",
       "    .dataframe tbody tr th:only-of-type {\n",
       "        vertical-align: middle;\n",
       "    }\n",
       "\n",
       "    .dataframe tbody tr th {\n",
       "        vertical-align: top;\n",
       "    }\n",
       "\n",
       "    .dataframe thead th {\n",
       "        text-align: right;\n",
       "    }\n",
       "</style>\n",
       "<table border=\"1\" class=\"dataframe\">\n",
       "  <thead>\n",
       "    <tr style=\"text-align: right;\">\n",
       "      <th></th>\n",
       "      <th>COUPON_UPC</th>\n",
       "      <th>PRODUCT_ID</th>\n",
       "      <th>CAMPAIGN</th>\n",
       "    </tr>\n",
       "  </thead>\n",
       "  <tbody>\n",
       "    <tr>\n",
       "      <th>0</th>\n",
       "      <td>10000089061</td>\n",
       "      <td>27160</td>\n",
       "      <td>4</td>\n",
       "    </tr>\n",
       "    <tr>\n",
       "      <th>1</th>\n",
       "      <td>10000089064</td>\n",
       "      <td>27754</td>\n",
       "      <td>9</td>\n",
       "    </tr>\n",
       "    <tr>\n",
       "      <th>2</th>\n",
       "      <td>10000089073</td>\n",
       "      <td>28897</td>\n",
       "      <td>12</td>\n",
       "    </tr>\n",
       "    <tr>\n",
       "      <th>3</th>\n",
       "      <td>51800009050</td>\n",
       "      <td>28919</td>\n",
       "      <td>28</td>\n",
       "    </tr>\n",
       "    <tr>\n",
       "      <th>4</th>\n",
       "      <td>52100000076</td>\n",
       "      <td>28929</td>\n",
       "      <td>25</td>\n",
       "    </tr>\n",
       "  </tbody>\n",
       "</table>\n",
       "</div>"
      ],
      "text/plain": [
       "    COUPON_UPC  PRODUCT_ID  CAMPAIGN\n",
       "0  10000089061       27160         4\n",
       "1  10000089064       27754         9\n",
       "2  10000089073       28897        12\n",
       "3  51800009050       28919        28\n",
       "4  52100000076       28929        25"
      ]
     },
     "execution_count": 438,
     "metadata": {},
     "output_type": "execute_result"
    }
   ],
   "source": [
    "COUPON_RAW.head(5)\n"
   ]
  },
  {
   "cell_type": "code",
   "execution_count": 439,
   "id": "8a183232-c9fd-42f8-9e03-c81b15333048",
   "metadata": {},
   "outputs": [
    {
     "data": {
      "text/html": [
       "<div>\n",
       "<style scoped>\n",
       "    .dataframe tbody tr th:only-of-type {\n",
       "        vertical-align: middle;\n",
       "    }\n",
       "\n",
       "    .dataframe tbody tr th {\n",
       "        vertical-align: top;\n",
       "    }\n",
       "\n",
       "    .dataframe thead th {\n",
       "        text-align: right;\n",
       "    }\n",
       "</style>\n",
       "<table border=\"1\" class=\"dataframe\">\n",
       "  <thead>\n",
       "    <tr style=\"text-align: right;\">\n",
       "      <th></th>\n",
       "      <th>HOUSEHOLD_KEY</th>\n",
       "      <th>DAY</th>\n",
       "      <th>COUPON_UPC</th>\n",
       "      <th>CAMPAIGN</th>\n",
       "    </tr>\n",
       "  </thead>\n",
       "  <tbody>\n",
       "    <tr>\n",
       "      <th>0</th>\n",
       "      <td>1</td>\n",
       "      <td>421</td>\n",
       "      <td>10000085364</td>\n",
       "      <td>8</td>\n",
       "    </tr>\n",
       "    <tr>\n",
       "      <th>1</th>\n",
       "      <td>1</td>\n",
       "      <td>421</td>\n",
       "      <td>51700010076</td>\n",
       "      <td>8</td>\n",
       "    </tr>\n",
       "    <tr>\n",
       "      <th>2</th>\n",
       "      <td>1</td>\n",
       "      <td>427</td>\n",
       "      <td>54200000033</td>\n",
       "      <td>8</td>\n",
       "    </tr>\n",
       "    <tr>\n",
       "      <th>3</th>\n",
       "      <td>1</td>\n",
       "      <td>597</td>\n",
       "      <td>10000085476</td>\n",
       "      <td>18</td>\n",
       "    </tr>\n",
       "    <tr>\n",
       "      <th>4</th>\n",
       "      <td>1</td>\n",
       "      <td>597</td>\n",
       "      <td>54200029176</td>\n",
       "      <td>18</td>\n",
       "    </tr>\n",
       "  </tbody>\n",
       "</table>\n",
       "</div>"
      ],
      "text/plain": [
       "   HOUSEHOLD_KEY  DAY   COUPON_UPC  CAMPAIGN\n",
       "0              1  421  10000085364         8\n",
       "1              1  421  51700010076         8\n",
       "2              1  427  54200000033         8\n",
       "3              1  597  10000085476        18\n",
       "4              1  597  54200029176        18"
      ]
     },
     "execution_count": 439,
     "metadata": {},
     "output_type": "execute_result"
    }
   ],
   "source": [
    "COUPON_REDEMPT_RAW.head(5)\n"
   ]
  },
  {
   "cell_type": "code",
   "execution_count": 440,
   "id": "b449457a-e537-4b85-ba86-fe6723557b83",
   "metadata": {},
   "outputs": [
    {
     "data": {
      "text/html": [
       "<div>\n",
       "<style scoped>\n",
       "    .dataframe tbody tr th:only-of-type {\n",
       "        vertical-align: middle;\n",
       "    }\n",
       "\n",
       "    .dataframe tbody tr th {\n",
       "        vertical-align: top;\n",
       "    }\n",
       "\n",
       "    .dataframe thead th {\n",
       "        text-align: right;\n",
       "    }\n",
       "</style>\n",
       "<table border=\"1\" class=\"dataframe\">\n",
       "  <thead>\n",
       "    <tr style=\"text-align: right;\">\n",
       "      <th></th>\n",
       "      <th>HOUSEHOLD_KEY</th>\n",
       "      <th>BASKET_ID</th>\n",
       "      <th>DAY</th>\n",
       "      <th>PRODUCT_ID</th>\n",
       "      <th>QUANTITY</th>\n",
       "      <th>SALES_VALUE</th>\n",
       "      <th>STORE_ID</th>\n",
       "      <th>RETAIL_DISC</th>\n",
       "      <th>TRANS_TIME</th>\n",
       "      <th>WEEK_NO</th>\n",
       "      <th>COUPON_DISC</th>\n",
       "      <th>COUPON_MATCH_DISC</th>\n",
       "    </tr>\n",
       "  </thead>\n",
       "  <tbody>\n",
       "    <tr>\n",
       "      <th>0</th>\n",
       "      <td>1370</td>\n",
       "      <td>35486432036</td>\n",
       "      <td>523</td>\n",
       "      <td>1085095</td>\n",
       "      <td>1</td>\n",
       "      <td>1.47</td>\n",
       "      <td>318</td>\n",
       "      <td>-0.49</td>\n",
       "      <td>1447</td>\n",
       "      <td>75</td>\n",
       "      <td>0</td>\n",
       "      <td>0</td>\n",
       "    </tr>\n",
       "    <tr>\n",
       "      <th>1</th>\n",
       "      <td>1370</td>\n",
       "      <td>35486432036</td>\n",
       "      <td>523</td>\n",
       "      <td>1096343</td>\n",
       "      <td>2</td>\n",
       "      <td>2.50</td>\n",
       "      <td>318</td>\n",
       "      <td>-0.08</td>\n",
       "      <td>1447</td>\n",
       "      <td>75</td>\n",
       "      <td>0</td>\n",
       "      <td>0</td>\n",
       "    </tr>\n",
       "    <tr>\n",
       "      <th>2</th>\n",
       "      <td>1370</td>\n",
       "      <td>35486432036</td>\n",
       "      <td>523</td>\n",
       "      <td>1099089</td>\n",
       "      <td>1</td>\n",
       "      <td>8.99</td>\n",
       "      <td>318</td>\n",
       "      <td>0.00</td>\n",
       "      <td>1447</td>\n",
       "      <td>75</td>\n",
       "      <td>0</td>\n",
       "      <td>0</td>\n",
       "    </tr>\n",
       "    <tr>\n",
       "      <th>3</th>\n",
       "      <td>1370</td>\n",
       "      <td>35486432036</td>\n",
       "      <td>523</td>\n",
       "      <td>1105616</td>\n",
       "      <td>1</td>\n",
       "      <td>1.39</td>\n",
       "      <td>318</td>\n",
       "      <td>-0.10</td>\n",
       "      <td>1447</td>\n",
       "      <td>75</td>\n",
       "      <td>0</td>\n",
       "      <td>0</td>\n",
       "    </tr>\n",
       "    <tr>\n",
       "      <th>4</th>\n",
       "      <td>1370</td>\n",
       "      <td>35486432036</td>\n",
       "      <td>523</td>\n",
       "      <td>1106523</td>\n",
       "      <td>1</td>\n",
       "      <td>2.22</td>\n",
       "      <td>318</td>\n",
       "      <td>0.00</td>\n",
       "      <td>1447</td>\n",
       "      <td>75</td>\n",
       "      <td>0</td>\n",
       "      <td>0</td>\n",
       "    </tr>\n",
       "  </tbody>\n",
       "</table>\n",
       "</div>"
      ],
      "text/plain": [
       "   HOUSEHOLD_KEY    BASKET_ID  DAY  PRODUCT_ID  QUANTITY  SALES_VALUE  \\\n",
       "0           1370  35486432036  523     1085095         1         1.47   \n",
       "1           1370  35486432036  523     1096343         2         2.50   \n",
       "2           1370  35486432036  523     1099089         1         8.99   \n",
       "3           1370  35486432036  523     1105616         1         1.39   \n",
       "4           1370  35486432036  523     1106523         1         2.22   \n",
       "\n",
       "   STORE_ID  RETAIL_DISC  TRANS_TIME  WEEK_NO  COUPON_DISC  COUPON_MATCH_DISC  \n",
       "0       318        -0.49        1447       75            0                  0  \n",
       "1       318        -0.08        1447       75            0                  0  \n",
       "2       318         0.00        1447       75            0                  0  \n",
       "3       318        -0.10        1447       75            0                  0  \n",
       "4       318         0.00        1447       75            0                  0  "
      ]
     },
     "execution_count": 440,
     "metadata": {},
     "output_type": "execute_result"
    }
   ],
   "source": [
    "TRANSACTION_RAW.head(5)"
   ]
  },
  {
   "cell_type": "code",
   "execution_count": 441,
   "id": "67c23343-2f1e-4871-9b4d-806df2a205af",
   "metadata": {},
   "outputs": [
    {
     "data": {
      "text/plain": [
       "(2500, 8)"
      ]
     },
     "execution_count": 441,
     "metadata": {},
     "output_type": "execute_result"
    }
   ],
   "source": [
    "demographic_RAW.shape"
   ]
  },
  {
   "cell_type": "code",
   "execution_count": 442,
   "id": "e052e0d5-48fa-4439-bb16-993150e5a3ac",
   "metadata": {},
   "outputs": [
    {
     "data": {
      "text/plain": [
       "(2595732, 12)"
      ]
     },
     "execution_count": 442,
     "metadata": {},
     "output_type": "execute_result"
    }
   ],
   "source": [
    "TRANSACTION_RAW.shape"
   ]
  },
  {
   "cell_type": "code",
   "execution_count": 443,
   "id": "dd30781f-e4ed-40db-960e-29e92ed8da5b",
   "metadata": {},
   "outputs": [
    {
     "data": {
      "text/plain": [
       "(2318, 4)"
      ]
     },
     "execution_count": 443,
     "metadata": {},
     "output_type": "execute_result"
    }
   ],
   "source": [
    "COUPON_REDEMPT_RAW.shape"
   ]
  },
  {
   "cell_type": "code",
   "execution_count": 444,
   "id": "91ca86c8-3c5d-45ed-a523-5f8e30c98262",
   "metadata": {},
   "outputs": [
    {
     "data": {
      "text/plain": [
       "(124548, 3)"
      ]
     },
     "execution_count": 444,
     "metadata": {},
     "output_type": "execute_result"
    }
   ],
   "source": [
    "COUPON_RAW.shape"
   ]
  },
  {
   "cell_type": "code",
   "execution_count": 445,
   "id": "21e608c6-57da-4656-9b4c-7311876c3a0d",
   "metadata": {},
   "outputs": [
    {
     "data": {
      "text/plain": [
       "(92353, 7)"
      ]
     },
     "execution_count": 445,
     "metadata": {},
     "output_type": "execute_result"
    }
   ],
   "source": [
    "\n",
    "PRODUCT_RAW.shape"
   ]
  },
  {
   "cell_type": "code",
   "execution_count": 446,
   "id": "945cb4a5-46dc-46d7-8bf0-b7fbd67e3a0a",
   "metadata": {},
   "outputs": [
    {
     "data": {
      "text/plain": [
       "(7208, 3)"
      ]
     },
     "execution_count": 446,
     "metadata": {},
     "output_type": "execute_result"
    }
   ],
   "source": [
    "CAMPAIGN_RAW.shape"
   ]
  },
  {
   "cell_type": "code",
   "execution_count": 447,
   "id": "055cb0b0-8889-4926-a279-c381e841dcce",
   "metadata": {},
   "outputs": [
    {
     "data": {
      "text/plain": [
       "(30, 4)"
      ]
     },
     "execution_count": 447,
     "metadata": {},
     "output_type": "execute_result"
    }
   ],
   "source": [
    "CAMPAIGN_DESC_RAW.shape"
   ]
  },
  {
   "cell_type": "code",
   "execution_count": 448,
   "id": "0c524c06-725c-49a7-82b1-3ac540aad00e",
   "metadata": {},
   "outputs": [
    {
     "data": {
      "text/plain": [
       "AGE_DESC               0\n",
       "MARITAL_STATUS_CODE    0\n",
       "INCOME_DESC            0\n",
       "HOMEOWNER_DESC         0\n",
       "HH_COMP_DESC           0\n",
       "HOUSEHOLD_SIZE_DESC    0\n",
       "KID_CATEGORY_DESC      0\n",
       "HOUSEHOLD_KEY          0\n",
       "dtype: int64"
      ]
     },
     "execution_count": 448,
     "metadata": {},
     "output_type": "execute_result"
    }
   ],
   "source": [
    "demographic_RAW.isnull().sum()"
   ]
  },
  {
   "cell_type": "code",
   "execution_count": 449,
   "id": "09331ba5-56fe-4eb3-845b-c67779ecd0c9",
   "metadata": {},
   "outputs": [
    {
     "data": {
      "text/plain": [
       "DESCRIPTION    0\n",
       "CAMPAIGN       0\n",
       "START_DAY      0\n",
       "END_DAY        0\n",
       "dtype: int64"
      ]
     },
     "execution_count": 449,
     "metadata": {},
     "output_type": "execute_result"
    }
   ],
   "source": [
    "CAMPAIGN_DESC_RAW.isnull().sum()"
   ]
  },
  {
   "cell_type": "code",
   "execution_count": 450,
   "id": "2914616e-4a04-4f0f-8f73-d6f5334f33ad",
   "metadata": {},
   "outputs": [
    {
     "data": {
      "text/plain": [
       "DESCRIPTION      0\n",
       "HOUSEHOLD_KEY    0\n",
       "CAMPAIGN         0\n",
       "dtype: int64"
      ]
     },
     "execution_count": 450,
     "metadata": {},
     "output_type": "execute_result"
    }
   ],
   "source": [
    "CAMPAIGN_RAW.isnull().sum()"
   ]
  },
  {
   "cell_type": "code",
   "execution_count": 451,
   "id": "03eb31cd-3d63-4982-80fc-297428b35a5b",
   "metadata": {},
   "outputs": [
    {
     "data": {
      "text/plain": [
       "PRODUCT_ID              0\n",
       "MANUFACTURER            0\n",
       "DEPARTMENT              0\n",
       "BRAND                   0\n",
       "COMMODITY_DESC          0\n",
       "SUB_COMMODITY_DESC      0\n",
       "CURR_SIZE_OF_PRODUCT    0\n",
       "dtype: int64"
      ]
     },
     "execution_count": 451,
     "metadata": {},
     "output_type": "execute_result"
    }
   ],
   "source": [
    "PRODUCT_RAW.isnull().sum()"
   ]
  },
  {
   "cell_type": "code",
   "execution_count": 452,
   "id": "f4eab904-9e0b-4b4b-a685-eb7df3962f34",
   "metadata": {},
   "outputs": [
    {
     "data": {
      "text/plain": [
       "COUPON_UPC    0\n",
       "PRODUCT_ID    0\n",
       "CAMPAIGN      0\n",
       "dtype: int64"
      ]
     },
     "execution_count": 452,
     "metadata": {},
     "output_type": "execute_result"
    }
   ],
   "source": [
    "COUPON_RAW.isnull().sum()"
   ]
  },
  {
   "cell_type": "code",
   "execution_count": 453,
   "id": "a5f0d4b8-8b90-430c-bf94-19318775b325",
   "metadata": {},
   "outputs": [
    {
     "data": {
      "text/plain": [
       "HOUSEHOLD_KEY    0\n",
       "DAY              0\n",
       "COUPON_UPC       0\n",
       "CAMPAIGN         0\n",
       "dtype: int64"
      ]
     },
     "execution_count": 453,
     "metadata": {},
     "output_type": "execute_result"
    }
   ],
   "source": [
    "COUPON_REDEMPT_RAW.isnull().sum()"
   ]
  },
  {
   "cell_type": "code",
   "execution_count": 454,
   "id": "03f79586-5a64-47f2-bec2-d00948acd06d",
   "metadata": {},
   "outputs": [
    {
     "data": {
      "text/plain": [
       "HOUSEHOLD_KEY        0\n",
       "BASKET_ID            0\n",
       "DAY                  0\n",
       "PRODUCT_ID           0\n",
       "QUANTITY             0\n",
       "SALES_VALUE          0\n",
       "STORE_ID             0\n",
       "RETAIL_DISC          0\n",
       "TRANS_TIME           0\n",
       "WEEK_NO              0\n",
       "COUPON_DISC          0\n",
       "COUPON_MATCH_DISC    0\n",
       "dtype: int64"
      ]
     },
     "execution_count": 454,
     "metadata": {},
     "output_type": "execute_result"
    }
   ],
   "source": [
    "TRANSACTION_RAW.isnull().sum()"
   ]
  },
  {
   "cell_type": "code",
   "execution_count": 455,
   "id": "67be3ed1-1005-428b-9632-900261ee849a",
   "metadata": {},
   "outputs": [
    {
     "data": {
      "text/html": [
       "<div>\n",
       "<style scoped>\n",
       "    .dataframe tbody tr th:only-of-type {\n",
       "        vertical-align: middle;\n",
       "    }\n",
       "\n",
       "    .dataframe tbody tr th {\n",
       "        vertical-align: top;\n",
       "    }\n",
       "\n",
       "    .dataframe thead th {\n",
       "        text-align: right;\n",
       "    }\n",
       "</style>\n",
       "<table border=\"1\" class=\"dataframe\">\n",
       "  <thead>\n",
       "    <tr style=\"text-align: right;\">\n",
       "      <th></th>\n",
       "      <th>HOUSEHOLD_KEY</th>\n",
       "    </tr>\n",
       "  </thead>\n",
       "  <tbody>\n",
       "    <tr>\n",
       "      <th>count</th>\n",
       "      <td>2500.00000</td>\n",
       "    </tr>\n",
       "    <tr>\n",
       "      <th>mean</th>\n",
       "      <td>1250.50000</td>\n",
       "    </tr>\n",
       "    <tr>\n",
       "      <th>std</th>\n",
       "      <td>721.83216</td>\n",
       "    </tr>\n",
       "    <tr>\n",
       "      <th>min</th>\n",
       "      <td>1.00000</td>\n",
       "    </tr>\n",
       "    <tr>\n",
       "      <th>25%</th>\n",
       "      <td>625.75000</td>\n",
       "    </tr>\n",
       "    <tr>\n",
       "      <th>50%</th>\n",
       "      <td>1250.50000</td>\n",
       "    </tr>\n",
       "    <tr>\n",
       "      <th>75%</th>\n",
       "      <td>1875.25000</td>\n",
       "    </tr>\n",
       "    <tr>\n",
       "      <th>max</th>\n",
       "      <td>2500.00000</td>\n",
       "    </tr>\n",
       "  </tbody>\n",
       "</table>\n",
       "</div>"
      ],
      "text/plain": [
       "       HOUSEHOLD_KEY\n",
       "count     2500.00000\n",
       "mean      1250.50000\n",
       "std        721.83216\n",
       "min          1.00000\n",
       "25%        625.75000\n",
       "50%       1250.50000\n",
       "75%       1875.25000\n",
       "max       2500.00000"
      ]
     },
     "execution_count": 455,
     "metadata": {},
     "output_type": "execute_result"
    }
   ],
   "source": [
    "demographic_RAW.describe()"
   ]
  },
  {
   "cell_type": "code",
   "execution_count": 456,
   "id": "a99fd2d7-9a70-41a0-bf75-6d1e7e9b55f7",
   "metadata": {},
   "outputs": [
    {
     "data": {
      "text/html": [
       "<div>\n",
       "<style scoped>\n",
       "    .dataframe tbody tr th:only-of-type {\n",
       "        vertical-align: middle;\n",
       "    }\n",
       "\n",
       "    .dataframe tbody tr th {\n",
       "        vertical-align: top;\n",
       "    }\n",
       "\n",
       "    .dataframe thead th {\n",
       "        text-align: right;\n",
       "    }\n",
       "</style>\n",
       "<table border=\"1\" class=\"dataframe\">\n",
       "  <thead>\n",
       "    <tr style=\"text-align: right;\">\n",
       "      <th></th>\n",
       "      <th>CAMPAIGN</th>\n",
       "      <th>START_DAY</th>\n",
       "      <th>END_DAY</th>\n",
       "    </tr>\n",
       "  </thead>\n",
       "  <tbody>\n",
       "    <tr>\n",
       "      <th>count</th>\n",
       "      <td>30.000000</td>\n",
       "      <td>30.000000</td>\n",
       "      <td>30.000000</td>\n",
       "    </tr>\n",
       "    <tr>\n",
       "      <th>mean</th>\n",
       "      <td>15.500000</td>\n",
       "      <td>463.866667</td>\n",
       "      <td>510.466667</td>\n",
       "    </tr>\n",
       "    <tr>\n",
       "      <th>std</th>\n",
       "      <td>8.803408</td>\n",
       "      <td>134.488490</td>\n",
       "      <td>137.730555</td>\n",
       "    </tr>\n",
       "    <tr>\n",
       "      <th>min</th>\n",
       "      <td>1.000000</td>\n",
       "      <td>224.000000</td>\n",
       "      <td>264.000000</td>\n",
       "    </tr>\n",
       "    <tr>\n",
       "      <th>25%</th>\n",
       "      <td>8.250000</td>\n",
       "      <td>360.000000</td>\n",
       "      <td>405.750000</td>\n",
       "    </tr>\n",
       "    <tr>\n",
       "      <th>50%</th>\n",
       "      <td>15.500000</td>\n",
       "      <td>470.000000</td>\n",
       "      <td>502.000000</td>\n",
       "    </tr>\n",
       "    <tr>\n",
       "      <th>75%</th>\n",
       "      <td>22.750000</td>\n",
       "      <td>584.000000</td>\n",
       "      <td>640.250000</td>\n",
       "    </tr>\n",
       "    <tr>\n",
       "      <th>max</th>\n",
       "      <td>30.000000</td>\n",
       "      <td>659.000000</td>\n",
       "      <td>719.000000</td>\n",
       "    </tr>\n",
       "  </tbody>\n",
       "</table>\n",
       "</div>"
      ],
      "text/plain": [
       "        CAMPAIGN   START_DAY     END_DAY\n",
       "count  30.000000   30.000000   30.000000\n",
       "mean   15.500000  463.866667  510.466667\n",
       "std     8.803408  134.488490  137.730555\n",
       "min     1.000000  224.000000  264.000000\n",
       "25%     8.250000  360.000000  405.750000\n",
       "50%    15.500000  470.000000  502.000000\n",
       "75%    22.750000  584.000000  640.250000\n",
       "max    30.000000  659.000000  719.000000"
      ]
     },
     "execution_count": 456,
     "metadata": {},
     "output_type": "execute_result"
    }
   ],
   "source": [
    "CAMPAIGN_DESC_RAW.describe()"
   ]
  },
  {
   "cell_type": "code",
   "execution_count": 457,
   "id": "4b2e71ed-8362-48ad-954b-ce82243e382d",
   "metadata": {},
   "outputs": [
    {
     "data": {
      "text/html": [
       "<div>\n",
       "<style scoped>\n",
       "    .dataframe tbody tr th:only-of-type {\n",
       "        vertical-align: middle;\n",
       "    }\n",
       "\n",
       "    .dataframe tbody tr th {\n",
       "        vertical-align: top;\n",
       "    }\n",
       "\n",
       "    .dataframe thead th {\n",
       "        text-align: right;\n",
       "    }\n",
       "</style>\n",
       "<table border=\"1\" class=\"dataframe\">\n",
       "  <thead>\n",
       "    <tr style=\"text-align: right;\">\n",
       "      <th></th>\n",
       "      <th>HOUSEHOLD_KEY</th>\n",
       "      <th>CAMPAIGN</th>\n",
       "    </tr>\n",
       "  </thead>\n",
       "  <tbody>\n",
       "    <tr>\n",
       "      <th>count</th>\n",
       "      <td>7208.000000</td>\n",
       "      <td>7208.000000</td>\n",
       "    </tr>\n",
       "    <tr>\n",
       "      <th>mean</th>\n",
       "      <td>1268.696726</td>\n",
       "      <td>15.659545</td>\n",
       "    </tr>\n",
       "    <tr>\n",
       "      <th>std</th>\n",
       "      <td>731.936391</td>\n",
       "      <td>6.949705</td>\n",
       "    </tr>\n",
       "    <tr>\n",
       "      <th>min</th>\n",
       "      <td>1.000000</td>\n",
       "      <td>1.000000</td>\n",
       "    </tr>\n",
       "    <tr>\n",
       "      <th>25%</th>\n",
       "      <td>644.000000</td>\n",
       "      <td>9.000000</td>\n",
       "    </tr>\n",
       "    <tr>\n",
       "      <th>50%</th>\n",
       "      <td>1263.000000</td>\n",
       "      <td>14.000000</td>\n",
       "    </tr>\n",
       "    <tr>\n",
       "      <th>75%</th>\n",
       "      <td>1924.000000</td>\n",
       "      <td>20.000000</td>\n",
       "    </tr>\n",
       "    <tr>\n",
       "      <th>max</th>\n",
       "      <td>2500.000000</td>\n",
       "      <td>30.000000</td>\n",
       "    </tr>\n",
       "  </tbody>\n",
       "</table>\n",
       "</div>"
      ],
      "text/plain": [
       "       HOUSEHOLD_KEY     CAMPAIGN\n",
       "count    7208.000000  7208.000000\n",
       "mean     1268.696726    15.659545\n",
       "std       731.936391     6.949705\n",
       "min         1.000000     1.000000\n",
       "25%       644.000000     9.000000\n",
       "50%      1263.000000    14.000000\n",
       "75%      1924.000000    20.000000\n",
       "max      2500.000000    30.000000"
      ]
     },
     "execution_count": 457,
     "metadata": {},
     "output_type": "execute_result"
    }
   ],
   "source": [
    "CAMPAIGN_RAW.describe()"
   ]
  },
  {
   "cell_type": "code",
   "execution_count": 458,
   "id": "a27b02c3-f133-4e23-9463-a763ab6151d0",
   "metadata": {},
   "outputs": [
    {
     "data": {
      "text/html": [
       "<div>\n",
       "<style scoped>\n",
       "    .dataframe tbody tr th:only-of-type {\n",
       "        vertical-align: middle;\n",
       "    }\n",
       "\n",
       "    .dataframe tbody tr th {\n",
       "        vertical-align: top;\n",
       "    }\n",
       "\n",
       "    .dataframe thead th {\n",
       "        text-align: right;\n",
       "    }\n",
       "</style>\n",
       "<table border=\"1\" class=\"dataframe\">\n",
       "  <thead>\n",
       "    <tr style=\"text-align: right;\">\n",
       "      <th></th>\n",
       "      <th>PRODUCT_ID</th>\n",
       "      <th>MANUFACTURER</th>\n",
       "    </tr>\n",
       "  </thead>\n",
       "  <tbody>\n",
       "    <tr>\n",
       "      <th>count</th>\n",
       "      <td>9.235300e+04</td>\n",
       "      <td>92353.00000</td>\n",
       "    </tr>\n",
       "    <tr>\n",
       "      <th>mean</th>\n",
       "      <td>5.328353e+06</td>\n",
       "      <td>1739.22833</td>\n",
       "    </tr>\n",
       "    <tr>\n",
       "      <th>std</th>\n",
       "      <td>5.359937e+06</td>\n",
       "      <td>1818.26957</td>\n",
       "    </tr>\n",
       "    <tr>\n",
       "      <th>min</th>\n",
       "      <td>2.567100e+04</td>\n",
       "      <td>1.00000</td>\n",
       "    </tr>\n",
       "    <tr>\n",
       "      <th>25%</th>\n",
       "      <td>9.706280e+05</td>\n",
       "      <td>328.00000</td>\n",
       "    </tr>\n",
       "    <tr>\n",
       "      <th>50%</th>\n",
       "      <td>1.621091e+06</td>\n",
       "      <td>1094.00000</td>\n",
       "    </tr>\n",
       "    <tr>\n",
       "      <th>75%</th>\n",
       "      <td>9.704770e+06</td>\n",
       "      <td>2264.00000</td>\n",
       "    </tr>\n",
       "    <tr>\n",
       "      <th>max</th>\n",
       "      <td>1.831630e+07</td>\n",
       "      <td>6477.00000</td>\n",
       "    </tr>\n",
       "  </tbody>\n",
       "</table>\n",
       "</div>"
      ],
      "text/plain": [
       "         PRODUCT_ID  MANUFACTURER\n",
       "count  9.235300e+04   92353.00000\n",
       "mean   5.328353e+06    1739.22833\n",
       "std    5.359937e+06    1818.26957\n",
       "min    2.567100e+04       1.00000\n",
       "25%    9.706280e+05     328.00000\n",
       "50%    1.621091e+06    1094.00000\n",
       "75%    9.704770e+06    2264.00000\n",
       "max    1.831630e+07    6477.00000"
      ]
     },
     "execution_count": 458,
     "metadata": {},
     "output_type": "execute_result"
    }
   ],
   "source": [
    "PRODUCT_RAW.describe()"
   ]
  },
  {
   "cell_type": "code",
   "execution_count": 459,
   "id": "da2fce82-6725-4c6b-9093-0c51d640cbbe",
   "metadata": {},
   "outputs": [
    {
     "data": {
      "text/html": [
       "<div>\n",
       "<style scoped>\n",
       "    .dataframe tbody tr th:only-of-type {\n",
       "        vertical-align: middle;\n",
       "    }\n",
       "\n",
       "    .dataframe tbody tr th {\n",
       "        vertical-align: top;\n",
       "    }\n",
       "\n",
       "    .dataframe thead th {\n",
       "        text-align: right;\n",
       "    }\n",
       "</style>\n",
       "<table border=\"1\" class=\"dataframe\">\n",
       "  <thead>\n",
       "    <tr style=\"text-align: right;\">\n",
       "      <th></th>\n",
       "      <th>COUPON_UPC</th>\n",
       "      <th>PRODUCT_ID</th>\n",
       "      <th>CAMPAIGN</th>\n",
       "    </tr>\n",
       "  </thead>\n",
       "  <tbody>\n",
       "    <tr>\n",
       "      <th>count</th>\n",
       "      <td>1.245480e+05</td>\n",
       "      <td>1.245480e+05</td>\n",
       "      <td>124548.000000</td>\n",
       "    </tr>\n",
       "    <tr>\n",
       "      <th>mean</th>\n",
       "      <td>2.198225e+10</td>\n",
       "      <td>4.651277e+06</td>\n",
       "      <td>15.855935</td>\n",
       "    </tr>\n",
       "    <tr>\n",
       "      <th>std</th>\n",
       "      <td>1.961641e+10</td>\n",
       "      <td>4.843450e+06</td>\n",
       "      <td>6.015524</td>\n",
       "    </tr>\n",
       "    <tr>\n",
       "      <th>min</th>\n",
       "      <td>1.000009e+10</td>\n",
       "      <td>2.567100e+04</td>\n",
       "      <td>1.000000</td>\n",
       "    </tr>\n",
       "    <tr>\n",
       "      <th>25%</th>\n",
       "      <td>1.000009e+10</td>\n",
       "      <td>9.593030e+05</td>\n",
       "      <td>13.000000</td>\n",
       "    </tr>\n",
       "    <tr>\n",
       "      <th>50%</th>\n",
       "      <td>1.000009e+10</td>\n",
       "      <td>1.411451e+06</td>\n",
       "      <td>14.000000</td>\n",
       "    </tr>\n",
       "    <tr>\n",
       "      <th>75%</th>\n",
       "      <td>5.111108e+10</td>\n",
       "      <td>8.357538e+06</td>\n",
       "      <td>18.000000</td>\n",
       "    </tr>\n",
       "    <tr>\n",
       "      <th>max</th>\n",
       "      <td>5.998660e+10</td>\n",
       "      <td>1.814854e+07</td>\n",
       "      <td>30.000000</td>\n",
       "    </tr>\n",
       "  </tbody>\n",
       "</table>\n",
       "</div>"
      ],
      "text/plain": [
       "         COUPON_UPC    PRODUCT_ID       CAMPAIGN\n",
       "count  1.245480e+05  1.245480e+05  124548.000000\n",
       "mean   2.198225e+10  4.651277e+06      15.855935\n",
       "std    1.961641e+10  4.843450e+06       6.015524\n",
       "min    1.000009e+10  2.567100e+04       1.000000\n",
       "25%    1.000009e+10  9.593030e+05      13.000000\n",
       "50%    1.000009e+10  1.411451e+06      14.000000\n",
       "75%    5.111108e+10  8.357538e+06      18.000000\n",
       "max    5.998660e+10  1.814854e+07      30.000000"
      ]
     },
     "execution_count": 459,
     "metadata": {},
     "output_type": "execute_result"
    }
   ],
   "source": [
    "COUPON_RAW.describe()"
   ]
  },
  {
   "cell_type": "code",
   "execution_count": 460,
   "id": "9b6c99e8-d856-4912-9a7d-a588abba38f5",
   "metadata": {},
   "outputs": [
    {
     "data": {
      "text/html": [
       "<div>\n",
       "<style scoped>\n",
       "    .dataframe tbody tr th:only-of-type {\n",
       "        vertical-align: middle;\n",
       "    }\n",
       "\n",
       "    .dataframe tbody tr th {\n",
       "        vertical-align: top;\n",
       "    }\n",
       "\n",
       "    .dataframe thead th {\n",
       "        text-align: right;\n",
       "    }\n",
       "</style>\n",
       "<table border=\"1\" class=\"dataframe\">\n",
       "  <thead>\n",
       "    <tr style=\"text-align: right;\">\n",
       "      <th></th>\n",
       "      <th>HOUSEHOLD_KEY</th>\n",
       "      <th>DAY</th>\n",
       "      <th>COUPON_UPC</th>\n",
       "      <th>CAMPAIGN</th>\n",
       "    </tr>\n",
       "  </thead>\n",
       "  <tbody>\n",
       "    <tr>\n",
       "      <th>count</th>\n",
       "      <td>2318.000000</td>\n",
       "      <td>2318.000000</td>\n",
       "      <td>2.318000e+03</td>\n",
       "      <td>2318.000000</td>\n",
       "    </tr>\n",
       "    <tr>\n",
       "      <th>mean</th>\n",
       "      <td>1302.816652</td>\n",
       "      <td>528.217429</td>\n",
       "      <td>4.123049e+10</td>\n",
       "      <td>15.551337</td>\n",
       "    </tr>\n",
       "    <tr>\n",
       "      <th>std</th>\n",
       "      <td>783.002545</td>\n",
       "      <td>100.360985</td>\n",
       "      <td>1.986068e+10</td>\n",
       "      <td>5.716636</td>\n",
       "    </tr>\n",
       "    <tr>\n",
       "      <th>min</th>\n",
       "      <td>1.000000</td>\n",
       "      <td>225.000000</td>\n",
       "      <td>1.000009e+10</td>\n",
       "      <td>1.000000</td>\n",
       "    </tr>\n",
       "    <tr>\n",
       "      <th>25%</th>\n",
       "      <td>588.000000</td>\n",
       "      <td>458.250000</td>\n",
       "      <td>1.000009e+10</td>\n",
       "      <td>13.000000</td>\n",
       "    </tr>\n",
       "    <tr>\n",
       "      <th>50%</th>\n",
       "      <td>1396.500000</td>\n",
       "      <td>532.000000</td>\n",
       "      <td>5.234003e+10</td>\n",
       "      <td>14.000000</td>\n",
       "    </tr>\n",
       "    <tr>\n",
       "      <th>75%</th>\n",
       "      <td>2004.000000</td>\n",
       "      <td>605.000000</td>\n",
       "      <td>5.430002e+10</td>\n",
       "      <td>18.000000</td>\n",
       "    </tr>\n",
       "    <tr>\n",
       "      <th>max</th>\n",
       "      <td>2500.000000</td>\n",
       "      <td>704.000000</td>\n",
       "      <td>5.897850e+10</td>\n",
       "      <td>30.000000</td>\n",
       "    </tr>\n",
       "  </tbody>\n",
       "</table>\n",
       "</div>"
      ],
      "text/plain": [
       "       HOUSEHOLD_KEY          DAY    COUPON_UPC     CAMPAIGN\n",
       "count    2318.000000  2318.000000  2.318000e+03  2318.000000\n",
       "mean     1302.816652   528.217429  4.123049e+10    15.551337\n",
       "std       783.002545   100.360985  1.986068e+10     5.716636\n",
       "min         1.000000   225.000000  1.000009e+10     1.000000\n",
       "25%       588.000000   458.250000  1.000009e+10    13.000000\n",
       "50%      1396.500000   532.000000  5.234003e+10    14.000000\n",
       "75%      2004.000000   605.000000  5.430002e+10    18.000000\n",
       "max      2500.000000   704.000000  5.897850e+10    30.000000"
      ]
     },
     "execution_count": 460,
     "metadata": {},
     "output_type": "execute_result"
    }
   ],
   "source": [
    "COUPON_REDEMPT_RAW.describe()"
   ]
  },
  {
   "cell_type": "code",
   "execution_count": 461,
   "id": "2c9248a3-69d7-4efd-a7de-c5214be71b0a",
   "metadata": {},
   "outputs": [
    {
     "data": {
      "text/html": [
       "<div>\n",
       "<style scoped>\n",
       "    .dataframe tbody tr th:only-of-type {\n",
       "        vertical-align: middle;\n",
       "    }\n",
       "\n",
       "    .dataframe tbody tr th {\n",
       "        vertical-align: top;\n",
       "    }\n",
       "\n",
       "    .dataframe thead th {\n",
       "        text-align: right;\n",
       "    }\n",
       "</style>\n",
       "<table border=\"1\" class=\"dataframe\">\n",
       "  <thead>\n",
       "    <tr style=\"text-align: right;\">\n",
       "      <th></th>\n",
       "      <th>HOUSEHOLD_KEY</th>\n",
       "      <th>BASKET_ID</th>\n",
       "      <th>DAY</th>\n",
       "      <th>PRODUCT_ID</th>\n",
       "      <th>QUANTITY</th>\n",
       "      <th>SALES_VALUE</th>\n",
       "      <th>STORE_ID</th>\n",
       "      <th>RETAIL_DISC</th>\n",
       "      <th>TRANS_TIME</th>\n",
       "      <th>WEEK_NO</th>\n",
       "      <th>COUPON_DISC</th>\n",
       "      <th>COUPON_MATCH_DISC</th>\n",
       "    </tr>\n",
       "  </thead>\n",
       "  <tbody>\n",
       "    <tr>\n",
       "      <th>count</th>\n",
       "      <td>2.595732e+06</td>\n",
       "      <td>2.595732e+06</td>\n",
       "      <td>2.595732e+06</td>\n",
       "      <td>2.595732e+06</td>\n",
       "      <td>2.595732e+06</td>\n",
       "      <td>2.595732e+06</td>\n",
       "      <td>2.595732e+06</td>\n",
       "      <td>2.595732e+06</td>\n",
       "      <td>2.595732e+06</td>\n",
       "      <td>2.595732e+06</td>\n",
       "      <td>2.595732e+06</td>\n",
       "      <td>2.595732e+06</td>\n",
       "    </tr>\n",
       "    <tr>\n",
       "      <th>mean</th>\n",
       "      <td>1.271953e+03</td>\n",
       "      <td>3.402620e+10</td>\n",
       "      <td>3.887562e+02</td>\n",
       "      <td>2.891435e+06</td>\n",
       "      <td>1.004286e+02</td>\n",
       "      <td>3.104120e+00</td>\n",
       "      <td>3.142673e+03</td>\n",
       "      <td>-5.387054e-01</td>\n",
       "      <td>1.561586e+03</td>\n",
       "      <td>5.622150e+01</td>\n",
       "      <td>-1.803152e-02</td>\n",
       "      <td>-2.578463e-03</td>\n",
       "    </tr>\n",
       "    <tr>\n",
       "      <th>std</th>\n",
       "      <td>7.260660e+02</td>\n",
       "      <td>4.711649e+09</td>\n",
       "      <td>1.897210e+02</td>\n",
       "      <td>3.837404e+06</td>\n",
       "      <td>1.153436e+03</td>\n",
       "      <td>4.182274e+00</td>\n",
       "      <td>8.937113e+03</td>\n",
       "      <td>1.249191e+00</td>\n",
       "      <td>3.998378e+02</td>\n",
       "      <td>2.710223e+01</td>\n",
       "      <td>2.276589e-01</td>\n",
       "      <td>5.232086e-02</td>\n",
       "    </tr>\n",
       "    <tr>\n",
       "      <th>min</th>\n",
       "      <td>1.000000e+00</td>\n",
       "      <td>2.698485e+10</td>\n",
       "      <td>1.000000e+00</td>\n",
       "      <td>2.567100e+04</td>\n",
       "      <td>0.000000e+00</td>\n",
       "      <td>0.000000e+00</td>\n",
       "      <td>1.000000e+00</td>\n",
       "      <td>-1.800000e+02</td>\n",
       "      <td>0.000000e+00</td>\n",
       "      <td>1.000000e+00</td>\n",
       "      <td>-5.600000e+01</td>\n",
       "      <td>-8.000000e+00</td>\n",
       "    </tr>\n",
       "    <tr>\n",
       "      <th>25%</th>\n",
       "      <td>6.560000e+02</td>\n",
       "      <td>3.040805e+10</td>\n",
       "      <td>2.290000e+02</td>\n",
       "      <td>9.174590e+05</td>\n",
       "      <td>1.000000e+00</td>\n",
       "      <td>1.290000e+00</td>\n",
       "      <td>3.300000e+02</td>\n",
       "      <td>-6.900000e-01</td>\n",
       "      <td>1.308000e+03</td>\n",
       "      <td>3.300000e+01</td>\n",
       "      <td>0.000000e+00</td>\n",
       "      <td>0.000000e+00</td>\n",
       "    </tr>\n",
       "    <tr>\n",
       "      <th>50%</th>\n",
       "      <td>1.272000e+03</td>\n",
       "      <td>3.276081e+10</td>\n",
       "      <td>3.900000e+02</td>\n",
       "      <td>1.028816e+06</td>\n",
       "      <td>1.000000e+00</td>\n",
       "      <td>2.000000e+00</td>\n",
       "      <td>3.720000e+02</td>\n",
       "      <td>-1.000000e-02</td>\n",
       "      <td>1.613000e+03</td>\n",
       "      <td>5.600000e+01</td>\n",
       "      <td>0.000000e+00</td>\n",
       "      <td>0.000000e+00</td>\n",
       "    </tr>\n",
       "    <tr>\n",
       "      <th>75%</th>\n",
       "      <td>1.913000e+03</td>\n",
       "      <td>4.012685e+10</td>\n",
       "      <td>5.530000e+02</td>\n",
       "      <td>1.133018e+06</td>\n",
       "      <td>1.000000e+00</td>\n",
       "      <td>3.490000e+00</td>\n",
       "      <td>4.220000e+02</td>\n",
       "      <td>0.000000e+00</td>\n",
       "      <td>1.843000e+03</td>\n",
       "      <td>8.000000e+01</td>\n",
       "      <td>0.000000e+00</td>\n",
       "      <td>0.000000e+00</td>\n",
       "    </tr>\n",
       "    <tr>\n",
       "      <th>max</th>\n",
       "      <td>2.500000e+03</td>\n",
       "      <td>4.230536e+10</td>\n",
       "      <td>7.110000e+02</td>\n",
       "      <td>1.831630e+07</td>\n",
       "      <td>8.963800e+04</td>\n",
       "      <td>8.400000e+02</td>\n",
       "      <td>3.428000e+04</td>\n",
       "      <td>3.990000e+00</td>\n",
       "      <td>2.359000e+03</td>\n",
       "      <td>1.020000e+02</td>\n",
       "      <td>0.000000e+00</td>\n",
       "      <td>0.000000e+00</td>\n",
       "    </tr>\n",
       "  </tbody>\n",
       "</table>\n",
       "</div>"
      ],
      "text/plain": [
       "       HOUSEHOLD_KEY     BASKET_ID           DAY    PRODUCT_ID      QUANTITY  \\\n",
       "count   2.595732e+06  2.595732e+06  2.595732e+06  2.595732e+06  2.595732e+06   \n",
       "mean    1.271953e+03  3.402620e+10  3.887562e+02  2.891435e+06  1.004286e+02   \n",
       "std     7.260660e+02  4.711649e+09  1.897210e+02  3.837404e+06  1.153436e+03   \n",
       "min     1.000000e+00  2.698485e+10  1.000000e+00  2.567100e+04  0.000000e+00   \n",
       "25%     6.560000e+02  3.040805e+10  2.290000e+02  9.174590e+05  1.000000e+00   \n",
       "50%     1.272000e+03  3.276081e+10  3.900000e+02  1.028816e+06  1.000000e+00   \n",
       "75%     1.913000e+03  4.012685e+10  5.530000e+02  1.133018e+06  1.000000e+00   \n",
       "max     2.500000e+03  4.230536e+10  7.110000e+02  1.831630e+07  8.963800e+04   \n",
       "\n",
       "        SALES_VALUE      STORE_ID   RETAIL_DISC    TRANS_TIME       WEEK_NO  \\\n",
       "count  2.595732e+06  2.595732e+06  2.595732e+06  2.595732e+06  2.595732e+06   \n",
       "mean   3.104120e+00  3.142673e+03 -5.387054e-01  1.561586e+03  5.622150e+01   \n",
       "std    4.182274e+00  8.937113e+03  1.249191e+00  3.998378e+02  2.710223e+01   \n",
       "min    0.000000e+00  1.000000e+00 -1.800000e+02  0.000000e+00  1.000000e+00   \n",
       "25%    1.290000e+00  3.300000e+02 -6.900000e-01  1.308000e+03  3.300000e+01   \n",
       "50%    2.000000e+00  3.720000e+02 -1.000000e-02  1.613000e+03  5.600000e+01   \n",
       "75%    3.490000e+00  4.220000e+02  0.000000e+00  1.843000e+03  8.000000e+01   \n",
       "max    8.400000e+02  3.428000e+04  3.990000e+00  2.359000e+03  1.020000e+02   \n",
       "\n",
       "        COUPON_DISC  COUPON_MATCH_DISC  \n",
       "count  2.595732e+06       2.595732e+06  \n",
       "mean  -1.803152e-02      -2.578463e-03  \n",
       "std    2.276589e-01       5.232086e-02  \n",
       "min   -5.600000e+01      -8.000000e+00  \n",
       "25%    0.000000e+00       0.000000e+00  \n",
       "50%    0.000000e+00       0.000000e+00  \n",
       "75%    0.000000e+00       0.000000e+00  \n",
       "max    0.000000e+00       0.000000e+00  "
      ]
     },
     "execution_count": 461,
     "metadata": {},
     "output_type": "execute_result"
    }
   ],
   "source": [
    "TRANSACTION_RAW.describe()"
   ]
  },
  {
   "cell_type": "code",
   "execution_count": 462,
   "id": "24275304-fe5c-4989-80e0-31104bf8d9a6",
   "metadata": {},
   "outputs": [],
   "source": [
    "from datetime import datetime, timedelta"
   ]
  },
  {
   "cell_type": "code",
   "execution_count": 463,
   "id": "ff6f8378-1d3a-48d3-bf63-3a954d1af986",
   "metadata": {},
   "outputs": [],
   "source": [
    "start_date = pd.to_datetime('2020-01-01')"
   ]
  },
  {
   "cell_type": "code",
   "execution_count": 464,
   "id": "4238817f-af26-46ca-8178-0a9027060b0e",
   "metadata": {},
   "outputs": [
    {
     "data": {
      "text/html": [
       "<div>\n",
       "<style scoped>\n",
       "    .dataframe tbody tr th:only-of-type {\n",
       "        vertical-align: middle;\n",
       "    }\n",
       "\n",
       "    .dataframe tbody tr th {\n",
       "        vertical-align: top;\n",
       "    }\n",
       "\n",
       "    .dataframe thead th {\n",
       "        text-align: right;\n",
       "    }\n",
       "</style>\n",
       "<table border=\"1\" class=\"dataframe\">\n",
       "  <thead>\n",
       "    <tr style=\"text-align: right;\">\n",
       "      <th></th>\n",
       "      <th>HOUSEHOLD_KEY</th>\n",
       "      <th>BASKET_ID</th>\n",
       "      <th>DAY</th>\n",
       "      <th>PRODUCT_ID</th>\n",
       "      <th>QUANTITY</th>\n",
       "      <th>SALES_VALUE</th>\n",
       "      <th>STORE_ID</th>\n",
       "      <th>RETAIL_DISC</th>\n",
       "      <th>TRANS_TIME</th>\n",
       "      <th>WEEK_NO</th>\n",
       "      <th>COUPON_DISC</th>\n",
       "      <th>COUPON_MATCH_DISC</th>\n",
       "    </tr>\n",
       "  </thead>\n",
       "  <tbody>\n",
       "    <tr>\n",
       "      <th>0</th>\n",
       "      <td>1370</td>\n",
       "      <td>35486432036</td>\n",
       "      <td>523</td>\n",
       "      <td>1085095</td>\n",
       "      <td>1</td>\n",
       "      <td>1.47</td>\n",
       "      <td>318</td>\n",
       "      <td>-0.49</td>\n",
       "      <td>1447</td>\n",
       "      <td>75</td>\n",
       "      <td>0</td>\n",
       "      <td>0</td>\n",
       "    </tr>\n",
       "    <tr>\n",
       "      <th>1</th>\n",
       "      <td>1370</td>\n",
       "      <td>35486432036</td>\n",
       "      <td>523</td>\n",
       "      <td>1096343</td>\n",
       "      <td>2</td>\n",
       "      <td>2.50</td>\n",
       "      <td>318</td>\n",
       "      <td>-0.08</td>\n",
       "      <td>1447</td>\n",
       "      <td>75</td>\n",
       "      <td>0</td>\n",
       "      <td>0</td>\n",
       "    </tr>\n",
       "    <tr>\n",
       "      <th>2</th>\n",
       "      <td>1370</td>\n",
       "      <td>35486432036</td>\n",
       "      <td>523</td>\n",
       "      <td>1099089</td>\n",
       "      <td>1</td>\n",
       "      <td>8.99</td>\n",
       "      <td>318</td>\n",
       "      <td>0.00</td>\n",
       "      <td>1447</td>\n",
       "      <td>75</td>\n",
       "      <td>0</td>\n",
       "      <td>0</td>\n",
       "    </tr>\n",
       "    <tr>\n",
       "      <th>3</th>\n",
       "      <td>1370</td>\n",
       "      <td>35486432036</td>\n",
       "      <td>523</td>\n",
       "      <td>1105616</td>\n",
       "      <td>1</td>\n",
       "      <td>1.39</td>\n",
       "      <td>318</td>\n",
       "      <td>-0.10</td>\n",
       "      <td>1447</td>\n",
       "      <td>75</td>\n",
       "      <td>0</td>\n",
       "      <td>0</td>\n",
       "    </tr>\n",
       "    <tr>\n",
       "      <th>4</th>\n",
       "      <td>1370</td>\n",
       "      <td>35486432036</td>\n",
       "      <td>523</td>\n",
       "      <td>1106523</td>\n",
       "      <td>1</td>\n",
       "      <td>2.22</td>\n",
       "      <td>318</td>\n",
       "      <td>0.00</td>\n",
       "      <td>1447</td>\n",
       "      <td>75</td>\n",
       "      <td>0</td>\n",
       "      <td>0</td>\n",
       "    </tr>\n",
       "  </tbody>\n",
       "</table>\n",
       "</div>"
      ],
      "text/plain": [
       "   HOUSEHOLD_KEY    BASKET_ID  DAY  PRODUCT_ID  QUANTITY  SALES_VALUE  \\\n",
       "0           1370  35486432036  523     1085095         1         1.47   \n",
       "1           1370  35486432036  523     1096343         2         2.50   \n",
       "2           1370  35486432036  523     1099089         1         8.99   \n",
       "3           1370  35486432036  523     1105616         1         1.39   \n",
       "4           1370  35486432036  523     1106523         1         2.22   \n",
       "\n",
       "   STORE_ID  RETAIL_DISC  TRANS_TIME  WEEK_NO  COUPON_DISC  COUPON_MATCH_DISC  \n",
       "0       318        -0.49        1447       75            0                  0  \n",
       "1       318        -0.08        1447       75            0                  0  \n",
       "2       318         0.00        1447       75            0                  0  \n",
       "3       318        -0.10        1447       75            0                  0  \n",
       "4       318         0.00        1447       75            0                  0  "
      ]
     },
     "execution_count": 464,
     "metadata": {},
     "output_type": "execute_result"
    }
   ],
   "source": [
    "TRANSACTION_RAW.head(5)"
   ]
  },
  {
   "cell_type": "code",
   "execution_count": 465,
   "id": "c7ca5650-e9ef-4c65-8557-36d6972794e0",
   "metadata": {},
   "outputs": [],
   "source": [
    "TRANSACTION_RAW['DATE'] = start_date + pd.to_timedelta(TRANSACTION_RAW['DAY'],unit = 'D')"
   ]
  },
  {
   "cell_type": "code",
   "execution_count": 466,
   "id": "99a9665e-6e7d-4935-a73b-1dd0aebfcc41",
   "metadata": {},
   "outputs": [
    {
     "data": {
      "text/plain": [
       "0   2021-06-07\n",
       "1   2021-06-07\n",
       "2   2021-06-07\n",
       "3   2021-06-07\n",
       "4   2021-06-07\n",
       "Name: DATE, dtype: datetime64[ns]"
      ]
     },
     "execution_count": 466,
     "metadata": {},
     "output_type": "execute_result"
    }
   ],
   "source": [
    "TRANSACTION_RAW['DATE'].head(5)"
   ]
  },
  {
   "cell_type": "code",
   "execution_count": 467,
   "id": "048b67d7-ba20-4973-9771-4a8c1a867442",
   "metadata": {},
   "outputs": [
    {
     "data": {
      "text/html": [
       "<div>\n",
       "<style scoped>\n",
       "    .dataframe tbody tr th:only-of-type {\n",
       "        vertical-align: middle;\n",
       "    }\n",
       "\n",
       "    .dataframe tbody tr th {\n",
       "        vertical-align: top;\n",
       "    }\n",
       "\n",
       "    .dataframe thead th {\n",
       "        text-align: right;\n",
       "    }\n",
       "</style>\n",
       "<table border=\"1\" class=\"dataframe\">\n",
       "  <thead>\n",
       "    <tr style=\"text-align: right;\">\n",
       "      <th></th>\n",
       "      <th>HOUSEHOLD_KEY</th>\n",
       "      <th>DAY</th>\n",
       "      <th>COUPON_UPC</th>\n",
       "      <th>CAMPAIGN</th>\n",
       "    </tr>\n",
       "  </thead>\n",
       "  <tbody>\n",
       "    <tr>\n",
       "      <th>0</th>\n",
       "      <td>1</td>\n",
       "      <td>421</td>\n",
       "      <td>10000085364</td>\n",
       "      <td>8</td>\n",
       "    </tr>\n",
       "    <tr>\n",
       "      <th>1</th>\n",
       "      <td>1</td>\n",
       "      <td>421</td>\n",
       "      <td>51700010076</td>\n",
       "      <td>8</td>\n",
       "    </tr>\n",
       "    <tr>\n",
       "      <th>2</th>\n",
       "      <td>1</td>\n",
       "      <td>427</td>\n",
       "      <td>54200000033</td>\n",
       "      <td>8</td>\n",
       "    </tr>\n",
       "    <tr>\n",
       "      <th>3</th>\n",
       "      <td>1</td>\n",
       "      <td>597</td>\n",
       "      <td>10000085476</td>\n",
       "      <td>18</td>\n",
       "    </tr>\n",
       "    <tr>\n",
       "      <th>4</th>\n",
       "      <td>1</td>\n",
       "      <td>597</td>\n",
       "      <td>54200029176</td>\n",
       "      <td>18</td>\n",
       "    </tr>\n",
       "  </tbody>\n",
       "</table>\n",
       "</div>"
      ],
      "text/plain": [
       "   HOUSEHOLD_KEY  DAY   COUPON_UPC  CAMPAIGN\n",
       "0              1  421  10000085364         8\n",
       "1              1  421  51700010076         8\n",
       "2              1  427  54200000033         8\n",
       "3              1  597  10000085476        18\n",
       "4              1  597  54200029176        18"
      ]
     },
     "execution_count": 467,
     "metadata": {},
     "output_type": "execute_result"
    }
   ],
   "source": [
    "COUPON_REDEMPT_RAW.head()"
   ]
  },
  {
   "cell_type": "code",
   "execution_count": 468,
   "id": "e3d4ee09-8f86-4862-b0aa-144500fe3de7",
   "metadata": {},
   "outputs": [],
   "source": [
    "COUPON_REDEMPT_RAW['Date'] = start_date + pd.to_timedelta(COUPON_REDEMPT_RAW['DAY'],unit = 'D')"
   ]
  },
  {
   "cell_type": "code",
   "execution_count": 469,
   "id": "19ec7f11-5688-42b6-8c17-8bd0d8bebbab",
   "metadata": {},
   "outputs": [
    {
     "data": {
      "text/plain": [
       "0   2021-02-25\n",
       "1   2021-02-25\n",
       "2   2021-03-03\n",
       "3   2021-08-20\n",
       "4   2021-08-20\n",
       "Name: Date, dtype: datetime64[ns]"
      ]
     },
     "execution_count": 469,
     "metadata": {},
     "output_type": "execute_result"
    }
   ],
   "source": [
    "COUPON_REDEMPT_RAW['Date'].head()"
   ]
  },
  {
   "cell_type": "code",
   "execution_count": 470,
   "id": "dc469f03-b8d8-49a8-8376-25a68a0e7008",
   "metadata": {},
   "outputs": [
    {
     "data": {
      "text/html": [
       "<div>\n",
       "<style scoped>\n",
       "    .dataframe tbody tr th:only-of-type {\n",
       "        vertical-align: middle;\n",
       "    }\n",
       "\n",
       "    .dataframe tbody tr th {\n",
       "        vertical-align: top;\n",
       "    }\n",
       "\n",
       "    .dataframe thead th {\n",
       "        text-align: right;\n",
       "    }\n",
       "</style>\n",
       "<table border=\"1\" class=\"dataframe\">\n",
       "  <thead>\n",
       "    <tr style=\"text-align: right;\">\n",
       "      <th></th>\n",
       "      <th>DESCRIPTION</th>\n",
       "      <th>CAMPAIGN</th>\n",
       "      <th>START_DAY</th>\n",
       "      <th>END_DAY</th>\n",
       "    </tr>\n",
       "  </thead>\n",
       "  <tbody>\n",
       "    <tr>\n",
       "      <th>0</th>\n",
       "      <td>TypeB</td>\n",
       "      <td>24</td>\n",
       "      <td>659</td>\n",
       "      <td>719</td>\n",
       "    </tr>\n",
       "    <tr>\n",
       "      <th>1</th>\n",
       "      <td>TypeC</td>\n",
       "      <td>15</td>\n",
       "      <td>547</td>\n",
       "      <td>708</td>\n",
       "    </tr>\n",
       "    <tr>\n",
       "      <th>2</th>\n",
       "      <td>TypeB</td>\n",
       "      <td>25</td>\n",
       "      <td>659</td>\n",
       "      <td>691</td>\n",
       "    </tr>\n",
       "    <tr>\n",
       "      <th>3</th>\n",
       "      <td>TypeC</td>\n",
       "      <td>20</td>\n",
       "      <td>615</td>\n",
       "      <td>685</td>\n",
       "    </tr>\n",
       "    <tr>\n",
       "      <th>4</th>\n",
       "      <td>TypeB</td>\n",
       "      <td>23</td>\n",
       "      <td>646</td>\n",
       "      <td>684</td>\n",
       "    </tr>\n",
       "  </tbody>\n",
       "</table>\n",
       "</div>"
      ],
      "text/plain": [
       "  DESCRIPTION  CAMPAIGN  START_DAY  END_DAY\n",
       "0       TypeB        24        659      719\n",
       "1       TypeC        15        547      708\n",
       "2       TypeB        25        659      691\n",
       "3       TypeC        20        615      685\n",
       "4       TypeB        23        646      684"
      ]
     },
     "execution_count": 470,
     "metadata": {},
     "output_type": "execute_result"
    }
   ],
   "source": [
    "CAMPAIGN_DESC_RAW.head()"
   ]
  },
  {
   "cell_type": "code",
   "execution_count": 471,
   "id": "e654cf34-522d-4463-a4d0-172451d6e719",
   "metadata": {},
   "outputs": [],
   "source": [
    "CAMPAIGN_DESC_RAW['Start_day'] = start_date + pd.to_timedelta(CAMPAIGN_DESC_RAW['START_DAY'],unit = 'D')"
   ]
  },
  {
   "cell_type": "code",
   "execution_count": 472,
   "id": "88eee413-a1e0-4260-9e29-129a400671be",
   "metadata": {},
   "outputs": [],
   "source": [
    "CAMPAIGN_DESC_RAW['End_day'] = start_date + pd.to_timedelta(CAMPAIGN_DESC_RAW['END_DAY'],unit = 'D')"
   ]
  },
  {
   "cell_type": "code",
   "execution_count": 473,
   "id": "2c96652d-f165-4b09-8a44-c451d5864ec5",
   "metadata": {},
   "outputs": [],
   "source": [
    "CAMPAIGN_DESC_RAW['Campaign_duration'] = CAMPAIGN_DESC_RAW['END_DAY'] - CAMPAIGN_DESC_RAW['START_DAY']"
   ]
  },
  {
   "cell_type": "code",
   "execution_count": 474,
   "id": "e51a52bf-eb00-400b-8ead-7ca54da53b4f",
   "metadata": {},
   "outputs": [
    {
     "data": {
      "text/plain": [
       "Timestamp('2021-12-12 00:00:00')"
      ]
     },
     "execution_count": 474,
     "metadata": {},
     "output_type": "execute_result"
    }
   ],
   "source": [
    "TRANSACTION_RAW['DATE'].max()"
   ]
  },
  {
   "cell_type": "code",
   "execution_count": 475,
   "id": "5c9cc4d0-f978-4c4c-a67c-5c1427c27f4d",
   "metadata": {},
   "outputs": [
    {
     "data": {
      "text/plain": [
       "Timestamp('2021-12-20 00:00:00')"
      ]
     },
     "execution_count": 475,
     "metadata": {},
     "output_type": "execute_result"
    }
   ],
   "source": [
    "CAMPAIGN_DESC_RAW['End_day'].max()"
   ]
  },
  {
   "cell_type": "code",
   "execution_count": 476,
   "id": "264ecf59-0633-4524-b2f3-037b1d7e4272",
   "metadata": {},
   "outputs": [
    {
     "data": {
      "text/plain": [
       "Timestamp('2021-12-05 00:00:00')"
      ]
     },
     "execution_count": 476,
     "metadata": {},
     "output_type": "execute_result"
    }
   ],
   "source": [
    "COUPON_REDEMPT_RAW['Date'].max()"
   ]
  },
  {
   "cell_type": "code",
   "execution_count": 477,
   "id": "8b9698c4-eb51-4a6c-b714-062586387385",
   "metadata": {},
   "outputs": [
    {
     "data": {
      "text/plain": [
       "AGE_DESC\n",
       "45-54    901\n",
       "35-44    594\n",
       "25-34    445\n",
       "65+      230\n",
       "55-64    187\n",
       "19-24    143\n",
       "Name: count, dtype: int64"
      ]
     },
     "execution_count": 477,
     "metadata": {},
     "output_type": "execute_result"
    }
   ],
   "source": [
    "demographic_RAW['AGE_DESC'].value_counts()"
   ]
  },
  {
   "cell_type": "code",
   "execution_count": 478,
   "id": "8b4ee08a-d1c6-494e-8bdb-171295b5f1bb",
   "metadata": {},
   "outputs": [
    {
     "data": {
      "text/plain": [
       "HOUSEHOLD_SIZE_DESC\n",
       "2     1004\n",
       "1      783\n",
       "3      338\n",
       "5+     206\n",
       "4      169\n",
       "Name: count, dtype: int64"
      ]
     },
     "execution_count": 478,
     "metadata": {},
     "output_type": "execute_result"
    }
   ],
   "source": [
    "demographic_RAW['HOUSEHOLD_SIZE_DESC'].value_counts()"
   ]
  },
  {
   "cell_type": "code",
   "execution_count": 479,
   "id": "9af3eaa4-5739-440d-965d-a6486235ae07",
   "metadata": {},
   "outputs": [
    {
     "data": {
      "text/plain": [
       "MARITAL_STATUS_CODE\n",
       "U    1087\n",
       "A    1052\n",
       "B     361\n",
       "Name: count, dtype: int64"
      ]
     },
     "execution_count": 479,
     "metadata": {},
     "output_type": "execute_result"
    }
   ],
   "source": [
    "demographic_RAW['MARITAL_STATUS_CODE'].value_counts()"
   ]
  },
  {
   "cell_type": "code",
   "execution_count": 480,
   "id": "a6309861-62d0-4270-8318-55217e5c9be4",
   "metadata": {},
   "outputs": [
    {
     "data": {
      "text/plain": [
       "INCOME_DESC\n",
       "50-74K       588\n",
       "35-49K       540\n",
       "75-99K       305\n",
       "15-24K       238\n",
       "25-34K       237\n",
       "Under 15K    193\n",
       "125-149K     118\n",
       "100-124K     109\n",
       "150-174K      96\n",
       "175-199K      33\n",
       "250K+         29\n",
       "200-249K      14\n",
       "Name: count, dtype: int64"
      ]
     },
     "execution_count": 480,
     "metadata": {},
     "output_type": "execute_result"
    }
   ],
   "source": [
    "demographic_RAW['INCOME_DESC'].value_counts()"
   ]
  },
  {
   "cell_type": "code",
   "execution_count": 481,
   "id": "3843119f-ee35-43f0-889c-2a9a7389a86a",
   "metadata": {},
   "outputs": [
    {
     "data": {
      "text/plain": [
       "HOMEOWNER_DESC\n",
       "Homeowner          1573\n",
       "Unknown             728\n",
       "Renter              132\n",
       "Probable Renter      34\n",
       "Probable Owner       33\n",
       "Name: count, dtype: int64"
      ]
     },
     "execution_count": 481,
     "metadata": {},
     "output_type": "execute_result"
    }
   ],
   "source": [
    "demographic_RAW['HOMEOWNER_DESC'].value_counts()"
   ]
  },
  {
   "cell_type": "code",
   "execution_count": 482,
   "id": "eddcf5a4-3e28-4ac0-89e9-ece549d7ba6d",
   "metadata": {},
   "outputs": [
    {
     "data": {
      "text/plain": [
       "HH_COMP_DESC\n",
       "2 Adults No Kids    800\n",
       "2 Adults Kids       584\n",
       "Single Female       446\n",
       "Single Male         292\n",
       "Unknown             229\n",
       "1 Adult Kids        149\n",
       "Name: count, dtype: int64"
      ]
     },
     "execution_count": 482,
     "metadata": {},
     "output_type": "execute_result"
    }
   ],
   "source": [
    "demographic_RAW['HH_COMP_DESC'].value_counts()"
   ]
  },
  {
   "cell_type": "code",
   "execution_count": 483,
   "id": "8b6c54f0-02b5-42b7-ad0a-c03b9b9f61f0",
   "metadata": {},
   "outputs": [
    {
     "data": {
      "text/plain": [
       "46.6"
      ]
     },
     "execution_count": 483,
     "metadata": {},
     "output_type": "execute_result"
    }
   ],
   "source": [
    "CAMPAIGN_DESC_RAW['Campaign_duration'].mean()"
   ]
  },
  {
   "cell_type": "code",
   "execution_count": null,
   "id": "f27f2c9a-b86a-4ec1-b5e0-f7e8b218482a",
   "metadata": {},
   "outputs": [],
   "source": [
    "##Average campaign durationn is 46.6"
   ]
  },
  {
   "cell_type": "code",
   "execution_count": 484,
   "id": "a74da1c0-f574-4e11-9b4d-d8337a51d85f",
   "metadata": {},
   "outputs": [
    {
     "data": {
      "text/plain": [
       "<Axes: xlabel='CAMPAIGN', ylabel='Campaign_duration'>"
      ]
     },
     "execution_count": 484,
     "metadata": {},
     "output_type": "execute_result"
    },
    {
     "data": {
      "image/png": "[encoded data removed]",
      "text/plain": [
       "<Figure size 1500x500 with 1 Axes>"
      ]
     },
     "metadata": {},
     "output_type": "display_data"
    }
   ],
   "source": [
    "plt.figure(figsize=(15,5))\n",
    "sns.barplot(x='CAMPAIGN',y='Campaign_duration',data = CAMPAIGN_DESC_RAW)"
   ]
  },
  {
   "cell_type": "code",
   "execution_count": 485,
   "id": "44b33a89-3855-4421-a9b5-9b1701ad2455",
   "metadata": {},
   "outputs": [
    {
     "data": {
      "text/html": [
       "<div>\n",
       "<style scoped>\n",
       "    .dataframe tbody tr th:only-of-type {\n",
       "        vertical-align: middle;\n",
       "    }\n",
       "\n",
       "    .dataframe tbody tr th {\n",
       "        vertical-align: top;\n",
       "    }\n",
       "\n",
       "    .dataframe thead th {\n",
       "        text-align: right;\n",
       "    }\n",
       "</style>\n",
       "<table border=\"1\" class=\"dataframe\">\n",
       "  <thead>\n",
       "    <tr style=\"text-align: right;\">\n",
       "      <th></th>\n",
       "      <th>CAMPAIGN</th>\n",
       "      <th>Campaign_duration</th>\n",
       "    </tr>\n",
       "    <tr>\n",
       "      <th>DESCRIPTION</th>\n",
       "      <th></th>\n",
       "      <th></th>\n",
       "    </tr>\n",
       "  </thead>\n",
       "  <tbody>\n",
       "    <tr>\n",
       "      <th>TypeA</th>\n",
       "      <td>5</td>\n",
       "      <td>47.200000</td>\n",
       "    </tr>\n",
       "    <tr>\n",
       "      <th>TypeB</th>\n",
       "      <td>19</td>\n",
       "      <td>37.631579</td>\n",
       "    </tr>\n",
       "    <tr>\n",
       "      <th>TypeC</th>\n",
       "      <td>6</td>\n",
       "      <td>74.500000</td>\n",
       "    </tr>\n",
       "  </tbody>\n",
       "</table>\n",
       "</div>"
      ],
      "text/plain": [
       "             CAMPAIGN  Campaign_duration\n",
       "DESCRIPTION                             \n",
       "TypeA               5          47.200000\n",
       "TypeB              19          37.631579\n",
       "TypeC               6          74.500000"
      ]
     },
     "execution_count": 485,
     "metadata": {},
     "output_type": "execute_result"
    }
   ],
   "source": [
    "CAMPAIGN_DESC_RAW.groupby('DESCRIPTION').aggregate({'CAMPAIGN':'count', 'Campaign_duration':'mean'})"
   ]
  },
  {
   "cell_type": "code",
   "execution_count": 486,
   "id": "68848342-4cbf-4abf-8d82-8eb3208fd836",
   "metadata": {},
   "outputs": [],
   "source": [
    "CAMPAIGN_DESC_RAW['Start_month'] = CAMPAIGN_DESC_RAW['Start_day'].dt.strftime('%m')"
   ]
  },
  {
   "cell_type": "code",
   "execution_count": 487,
   "id": "16790f3f-6447-4254-b970-5de645f52add",
   "metadata": {},
   "outputs": [],
   "source": [
    "CAMPAIGN_DESC_RAW['End_month'] = CAMPAIGN_DESC_RAW['End_day'].dt.strftime('%m')"
   ]
  },
  {
   "cell_type": "code",
   "execution_count": 488,
   "id": "186fc066-5ef1-4c5d-ba25-2a308f8d69df",
   "metadata": {},
   "outputs": [
    {
     "data": {
      "text/html": [
       "<div>\n",
       "<style scoped>\n",
       "    .dataframe tbody tr th:only-of-type {\n",
       "        vertical-align: middle;\n",
       "    }\n",
       "\n",
       "    .dataframe tbody tr th {\n",
       "        vertical-align: top;\n",
       "    }\n",
       "\n",
       "    .dataframe thead th {\n",
       "        text-align: right;\n",
       "    }\n",
       "</style>\n",
       "<table border=\"1\" class=\"dataframe\">\n",
       "  <thead>\n",
       "    <tr style=\"text-align: right;\">\n",
       "      <th></th>\n",
       "      <th>DESCRIPTION</th>\n",
       "      <th>CAMPAIGN</th>\n",
       "      <th>START_DAY</th>\n",
       "      <th>END_DAY</th>\n",
       "      <th>Start_day</th>\n",
       "      <th>End_day</th>\n",
       "      <th>Campaign_duration</th>\n",
       "      <th>Start_month</th>\n",
       "      <th>End_month</th>\n",
       "    </tr>\n",
       "  </thead>\n",
       "  <tbody>\n",
       "    <tr>\n",
       "      <th>0</th>\n",
       "      <td>TypeB</td>\n",
       "      <td>24</td>\n",
       "      <td>659</td>\n",
       "      <td>719</td>\n",
       "      <td>2021-10-21</td>\n",
       "      <td>2021-12-20</td>\n",
       "      <td>60</td>\n",
       "      <td>10</td>\n",
       "      <td>12</td>\n",
       "    </tr>\n",
       "    <tr>\n",
       "      <th>1</th>\n",
       "      <td>TypeC</td>\n",
       "      <td>15</td>\n",
       "      <td>547</td>\n",
       "      <td>708</td>\n",
       "      <td>2021-07-01</td>\n",
       "      <td>2021-12-09</td>\n",
       "      <td>161</td>\n",
       "      <td>07</td>\n",
       "      <td>12</td>\n",
       "    </tr>\n",
       "    <tr>\n",
       "      <th>2</th>\n",
       "      <td>TypeB</td>\n",
       "      <td>25</td>\n",
       "      <td>659</td>\n",
       "      <td>691</td>\n",
       "      <td>2021-10-21</td>\n",
       "      <td>2021-11-22</td>\n",
       "      <td>32</td>\n",
       "      <td>10</td>\n",
       "      <td>11</td>\n",
       "    </tr>\n",
       "    <tr>\n",
       "      <th>3</th>\n",
       "      <td>TypeC</td>\n",
       "      <td>20</td>\n",
       "      <td>615</td>\n",
       "      <td>685</td>\n",
       "      <td>2021-09-07</td>\n",
       "      <td>2021-11-16</td>\n",
       "      <td>70</td>\n",
       "      <td>09</td>\n",
       "      <td>11</td>\n",
       "    </tr>\n",
       "    <tr>\n",
       "      <th>4</th>\n",
       "      <td>TypeB</td>\n",
       "      <td>23</td>\n",
       "      <td>646</td>\n",
       "      <td>684</td>\n",
       "      <td>2021-10-08</td>\n",
       "      <td>2021-11-15</td>\n",
       "      <td>38</td>\n",
       "      <td>10</td>\n",
       "      <td>11</td>\n",
       "    </tr>\n",
       "  </tbody>\n",
       "</table>\n",
       "</div>"
      ],
      "text/plain": [
       "  DESCRIPTION  CAMPAIGN  START_DAY  END_DAY  Start_day    End_day  \\\n",
       "0       TypeB        24        659      719 2021-10-21 2021-12-20   \n",
       "1       TypeC        15        547      708 2021-07-01 2021-12-09   \n",
       "2       TypeB        25        659      691 2021-10-21 2021-11-22   \n",
       "3       TypeC        20        615      685 2021-09-07 2021-11-16   \n",
       "4       TypeB        23        646      684 2021-10-08 2021-11-15   \n",
       "\n",
       "   Campaign_duration Start_month End_month  \n",
       "0                 60          10        12  \n",
       "1                161          07        12  \n",
       "2                 32          10        11  \n",
       "3                 70          09        11  \n",
       "4                 38          10        11  "
      ]
     },
     "execution_count": 488,
     "metadata": {},
     "output_type": "execute_result"
    }
   ],
   "source": [
    "CAMPAIGN_DESC_RAW.head()"
   ]
  },
  {
   "cell_type": "code",
   "execution_count": 489,
   "id": "728cfa42-3c76-411a-9189-81826599cde3",
   "metadata": {},
   "outputs": [
    {
     "data": {
      "text/plain": [
       "DESCRIPTION      0\n",
       "HOUSEHOLD_KEY    0\n",
       "CAMPAIGN         0\n",
       "dtype: int64"
      ]
     },
     "execution_count": 489,
     "metadata": {},
     "output_type": "execute_result"
    }
   ],
   "source": [
    "CAMPAIGN_RAW.isnull().sum()"
   ]
  },
  {
   "cell_type": "code",
   "execution_count": 490,
   "id": "f8977591-c586-4763-b5b6-1bc6fa3ffa71",
   "metadata": {},
   "outputs": [
    {
     "data": {
      "text/plain": [
       "1584"
      ]
     },
     "execution_count": 490,
     "metadata": {},
     "output_type": "execute_result"
    }
   ],
   "source": [
    "CAMPAIGN_RAW['HOUSEHOLD_KEY'].nunique()"
   ]
  },
  {
   "cell_type": "code",
   "execution_count": 491,
   "id": "34e9ac36-6cfb-41dd-be6b-6a520b788019",
   "metadata": {},
   "outputs": [
    {
     "data": {
      "text/plain": [
       "2500"
      ]
     },
     "execution_count": 491,
     "metadata": {},
     "output_type": "execute_result"
    }
   ],
   "source": [
    "TRANSACTION_RAW['HOUSEHOLD_KEY'].nunique()"
   ]
  },
  {
   "cell_type": "code",
   "execution_count": null,
   "id": "490b2db4-c7e6-4b5e-821e-7a094292540e",
   "metadata": {},
   "outputs": [],
   "source": [
    "##There are 1584 households have participed to the campaign, leaving 916 households who never participated to any campaign."
   ]
  },
  {
   "cell_type": "code",
   "execution_count": 492,
   "id": "464f39e7-719e-46cc-a322-9c0a64842fc8",
   "metadata": {},
   "outputs": [
    {
     "data": {
      "text/plain": [
       "HOUSEHOLD_KEY\n",
       "1       8\n",
       "2       1\n",
       "3       3\n",
       "4       1\n",
       "6       4\n",
       "       ..\n",
       "2496    5\n",
       "2497    3\n",
       "2498    6\n",
       "2499    2\n",
       "2500    8\n",
       "Name: CAMPAIGN, Length: 1584, dtype: int64"
      ]
     },
     "execution_count": 492,
     "metadata": {},
     "output_type": "execute_result"
    }
   ],
   "source": [
    "CAMPAIGN_RAW.groupby('HOUSEHOLD_KEY')['CAMPAIGN'].count()"
   ]
  },
  {
   "cell_type": "code",
   "execution_count": 493,
   "id": "fbf942d9-7221-422b-a586-4d64af2d7fec",
   "metadata": {},
   "outputs": [
    {
     "data": {
      "text/plain": [
       "Text(0, 0.5, 'Number of Households Reached To')"
      ]
     },
     "execution_count": 493,
     "metadata": {},
     "output_type": "execute_result"
    },
    {
     "data": {
      "image/png": "[encoded data removed]",
      "text/plain": [
       "<Figure size 1500x500 with 1 Axes>"
      ]
     },
     "metadata": {},
     "output_type": "display_data"
    }
   ],
   "source": [
    "plt.figure(figsize=(15,5))\n",
    "CAMPAIGN_RAW.groupby('CAMPAIGN')['HOUSEHOLD_KEY'].count().plot.bar()\n",
    "plt.ylabel('Number of Households Reached To')"
   ]
  },
  {
   "cell_type": "code",
   "execution_count": 494,
   "id": "a48ee8dd-808c-4043-968c-5e6305cc6d76",
   "metadata": {},
   "outputs": [
    {
     "data": {
      "text/plain": [
       "1135"
      ]
     },
     "execution_count": 494,
     "metadata": {},
     "output_type": "execute_result"
    }
   ],
   "source": [
    "COUPON_RAW['COUPON_UPC'].nunique()"
   ]
  },
  {
   "cell_type": "code",
   "execution_count": 495,
   "id": "48df6dd3-508e-4de5-a4ef-7060dc75ce51",
   "metadata": {},
   "outputs": [
    {
     "data": {
      "text/plain": [
       "COUPON_UPC    0\n",
       "PRODUCT_ID    0\n",
       "CAMPAIGN      0\n",
       "dtype: int64"
      ]
     },
     "execution_count": 495,
     "metadata": {},
     "output_type": "execute_result"
    }
   ],
   "source": [
    "COUPON_RAW.isnull().sum()"
   ]
  },
  {
   "cell_type": "code",
   "execution_count": 496,
   "id": "b1964029-1b3c-4687-bc7b-606c9900d789",
   "metadata": {},
   "outputs": [],
   "source": [
    "Coupon_given = \tCOUPON_RAW.groupby('CAMPAIGN').aggregate(Total_product = ('PRODUCT_ID', 'nunique'),\n",
    "                                                        Total_Coupon_Given = ('COUPON_UPC', 'nunique'))"
   ]
  },
  {
   "cell_type": "code",
   "execution_count": 497,
   "id": "7d5d0e7e-b2ec-4384-b7e3-5137cb776d85",
   "metadata": {},
   "outputs": [
    {
     "data": {
      "text/html": [
       "<div>\n",
       "<style scoped>\n",
       "    .dataframe tbody tr th:only-of-type {\n",
       "        vertical-align: middle;\n",
       "    }\n",
       "\n",
       "    .dataframe tbody tr th {\n",
       "        vertical-align: top;\n",
       "    }\n",
       "\n",
       "    .dataframe thead th {\n",
       "        text-align: right;\n",
       "    }\n",
       "</style>\n",
       "<table border=\"1\" class=\"dataframe\">\n",
       "  <thead>\n",
       "    <tr style=\"text-align: right;\">\n",
       "      <th></th>\n",
       "      <th>Total_product</th>\n",
       "      <th>Total_Coupon_Given</th>\n",
       "    </tr>\n",
       "    <tr>\n",
       "      <th>CAMPAIGN</th>\n",
       "      <th></th>\n",
       "      <th></th>\n",
       "    </tr>\n",
       "  </thead>\n",
       "  <tbody>\n",
       "    <tr>\n",
       "      <th>13</th>\n",
       "      <td>35616</td>\n",
       "      <td>207</td>\n",
       "    </tr>\n",
       "    <tr>\n",
       "      <th>18</th>\n",
       "      <td>35513</td>\n",
       "      <td>209</td>\n",
       "    </tr>\n",
       "    <tr>\n",
       "      <th>8</th>\n",
       "      <td>17178</td>\n",
       "      <td>209</td>\n",
       "    </tr>\n",
       "    <tr>\n",
       "      <th>26</th>\n",
       "      <td>3396</td>\n",
       "      <td>181</td>\n",
       "    </tr>\n",
       "    <tr>\n",
       "      <th>30</th>\n",
       "      <td>3205</td>\n",
       "      <td>181</td>\n",
       "    </tr>\n",
       "  </tbody>\n",
       "</table>\n",
       "</div>"
      ],
      "text/plain": [
       "          Total_product  Total_Coupon_Given\n",
       "CAMPAIGN                                   \n",
       "13                35616                 207\n",
       "18                35513                 209\n",
       "8                 17178                 209\n",
       "26                 3396                 181\n",
       "30                 3205                 181"
      ]
     },
     "execution_count": 497,
     "metadata": {},
     "output_type": "execute_result"
    }
   ],
   "source": [
    "Coupon_given.sort_values(by = 'Total_product', ascending = False).head()"
   ]
  },
  {
   "cell_type": "code",
   "execution_count": 498,
   "id": "568e9a33-171b-4f16-92f6-a3e623d0e1b5",
   "metadata": {},
   "outputs": [],
   "source": [
    "Coupon_given = Coupon_given.merge(right = CAMPAIGN_DESC_RAW, on = 'CAMPAIGN', how = 'left')"
   ]
  },
  {
   "cell_type": "code",
   "execution_count": 499,
   "id": "b7804bf7-b20e-49c0-86b0-eb817398b960",
   "metadata": {},
   "outputs": [
    {
     "data": {
      "text/html": [
       "<div>\n",
       "<style scoped>\n",
       "    .dataframe tbody tr th:only-of-type {\n",
       "        vertical-align: middle;\n",
       "    }\n",
       "\n",
       "    .dataframe tbody tr th {\n",
       "        vertical-align: top;\n",
       "    }\n",
       "\n",
       "    .dataframe thead th {\n",
       "        text-align: right;\n",
       "    }\n",
       "</style>\n",
       "<table border=\"1\" class=\"dataframe\">\n",
       "  <thead>\n",
       "    <tr style=\"text-align: right;\">\n",
       "      <th></th>\n",
       "      <th>CAMPAIGN</th>\n",
       "      <th>Total_product</th>\n",
       "      <th>Total_Coupon_Given</th>\n",
       "      <th>DESCRIPTION</th>\n",
       "      <th>START_DAY</th>\n",
       "      <th>END_DAY</th>\n",
       "      <th>Start_day</th>\n",
       "      <th>End_day</th>\n",
       "      <th>Campaign_duration</th>\n",
       "      <th>Start_month</th>\n",
       "      <th>End_month</th>\n",
       "    </tr>\n",
       "  </thead>\n",
       "  <tbody>\n",
       "    <tr>\n",
       "      <th>0</th>\n",
       "      <td>1</td>\n",
       "      <td>383</td>\n",
       "      <td>11</td>\n",
       "      <td>TypeB</td>\n",
       "      <td>346</td>\n",
       "      <td>383</td>\n",
       "      <td>2020-12-12</td>\n",
       "      <td>2021-01-18</td>\n",
       "      <td>37</td>\n",
       "      <td>12</td>\n",
       "      <td>01</td>\n",
       "    </tr>\n",
       "    <tr>\n",
       "      <th>1</th>\n",
       "      <td>2</td>\n",
       "      <td>301</td>\n",
       "      <td>16</td>\n",
       "      <td>TypeB</td>\n",
       "      <td>351</td>\n",
       "      <td>383</td>\n",
       "      <td>2020-12-17</td>\n",
       "      <td>2021-01-18</td>\n",
       "      <td>32</td>\n",
       "      <td>12</td>\n",
       "      <td>01</td>\n",
       "    </tr>\n",
       "    <tr>\n",
       "      <th>2</th>\n",
       "      <td>3</td>\n",
       "      <td>506</td>\n",
       "      <td>34</td>\n",
       "      <td>TypeC</td>\n",
       "      <td>356</td>\n",
       "      <td>412</td>\n",
       "      <td>2020-12-22</td>\n",
       "      <td>2021-02-16</td>\n",
       "      <td>56</td>\n",
       "      <td>12</td>\n",
       "      <td>02</td>\n",
       "    </tr>\n",
       "    <tr>\n",
       "      <th>3</th>\n",
       "      <td>4</td>\n",
       "      <td>200</td>\n",
       "      <td>12</td>\n",
       "      <td>TypeB</td>\n",
       "      <td>372</td>\n",
       "      <td>404</td>\n",
       "      <td>2021-01-07</td>\n",
       "      <td>2021-02-08</td>\n",
       "      <td>32</td>\n",
       "      <td>01</td>\n",
       "      <td>02</td>\n",
       "    </tr>\n",
       "    <tr>\n",
       "      <th>4</th>\n",
       "      <td>5</td>\n",
       "      <td>443</td>\n",
       "      <td>11</td>\n",
       "      <td>TypeB</td>\n",
       "      <td>377</td>\n",
       "      <td>411</td>\n",
       "      <td>2021-01-12</td>\n",
       "      <td>2021-02-15</td>\n",
       "      <td>34</td>\n",
       "      <td>01</td>\n",
       "      <td>02</td>\n",
       "    </tr>\n",
       "  </tbody>\n",
       "</table>\n",
       "</div>"
      ],
      "text/plain": [
       "   CAMPAIGN  Total_product  Total_Coupon_Given DESCRIPTION  START_DAY  \\\n",
       "0         1            383                  11       TypeB        346   \n",
       "1         2            301                  16       TypeB        351   \n",
       "2         3            506                  34       TypeC        356   \n",
       "3         4            200                  12       TypeB        372   \n",
       "4         5            443                  11       TypeB        377   \n",
       "\n",
       "   END_DAY  Start_day    End_day  Campaign_duration Start_month End_month  \n",
       "0      383 2020-12-12 2021-01-18                 37          12        01  \n",
       "1      383 2020-12-17 2021-01-18                 32          12        01  \n",
       "2      412 2020-12-22 2021-02-16                 56          12        02  \n",
       "3      404 2021-01-07 2021-02-08                 32          01        02  \n",
       "4      411 2021-01-12 2021-02-15                 34          01        02  "
      ]
     },
     "execution_count": 499,
     "metadata": {},
     "output_type": "execute_result"
    }
   ],
   "source": [
    "Coupon_given.head()"
   ]
  },
  {
   "cell_type": "code",
   "execution_count": 500,
   "id": "026eaef6-81ac-4ca5-9b03-2f0bbc460051",
   "metadata": {},
   "outputs": [
    {
     "data": {
      "text/html": [
       "<div>\n",
       "<style scoped>\n",
       "    .dataframe tbody tr th:only-of-type {\n",
       "        vertical-align: middle;\n",
       "    }\n",
       "\n",
       "    .dataframe tbody tr th {\n",
       "        vertical-align: top;\n",
       "    }\n",
       "\n",
       "    .dataframe thead th {\n",
       "        text-align: right;\n",
       "    }\n",
       "</style>\n",
       "<table border=\"1\" class=\"dataframe\">\n",
       "  <thead>\n",
       "    <tr style=\"text-align: right;\">\n",
       "      <th></th>\n",
       "      <th>CAMPAIGN</th>\n",
       "      <th>Total_product</th>\n",
       "      <th>Total_Coupon_Given</th>\n",
       "      <th>DESCRIPTION</th>\n",
       "      <th>START_DAY</th>\n",
       "      <th>END_DAY</th>\n",
       "      <th>Start_day</th>\n",
       "      <th>End_day</th>\n",
       "      <th>Campaign_duration</th>\n",
       "      <th>Start_month</th>\n",
       "      <th>End_month</th>\n",
       "    </tr>\n",
       "  </thead>\n",
       "  <tbody>\n",
       "    <tr>\n",
       "      <th>0</th>\n",
       "      <td>1</td>\n",
       "      <td>383</td>\n",
       "      <td>11</td>\n",
       "      <td>TypeB</td>\n",
       "      <td>346</td>\n",
       "      <td>383</td>\n",
       "      <td>2020-12-12</td>\n",
       "      <td>2021-01-18</td>\n",
       "      <td>37</td>\n",
       "      <td>12</td>\n",
       "      <td>01</td>\n",
       "    </tr>\n",
       "    <tr>\n",
       "      <th>1</th>\n",
       "      <td>2</td>\n",
       "      <td>301</td>\n",
       "      <td>16</td>\n",
       "      <td>TypeB</td>\n",
       "      <td>351</td>\n",
       "      <td>383</td>\n",
       "      <td>2020-12-17</td>\n",
       "      <td>2021-01-18</td>\n",
       "      <td>32</td>\n",
       "      <td>12</td>\n",
       "      <td>01</td>\n",
       "    </tr>\n",
       "    <tr>\n",
       "      <th>2</th>\n",
       "      <td>3</td>\n",
       "      <td>506</td>\n",
       "      <td>34</td>\n",
       "      <td>TypeC</td>\n",
       "      <td>356</td>\n",
       "      <td>412</td>\n",
       "      <td>2020-12-22</td>\n",
       "      <td>2021-02-16</td>\n",
       "      <td>56</td>\n",
       "      <td>12</td>\n",
       "      <td>02</td>\n",
       "    </tr>\n",
       "    <tr>\n",
       "      <th>3</th>\n",
       "      <td>4</td>\n",
       "      <td>200</td>\n",
       "      <td>12</td>\n",
       "      <td>TypeB</td>\n",
       "      <td>372</td>\n",
       "      <td>404</td>\n",
       "      <td>2021-01-07</td>\n",
       "      <td>2021-02-08</td>\n",
       "      <td>32</td>\n",
       "      <td>01</td>\n",
       "      <td>02</td>\n",
       "    </tr>\n",
       "    <tr>\n",
       "      <th>4</th>\n",
       "      <td>5</td>\n",
       "      <td>443</td>\n",
       "      <td>11</td>\n",
       "      <td>TypeB</td>\n",
       "      <td>377</td>\n",
       "      <td>411</td>\n",
       "      <td>2021-01-12</td>\n",
       "      <td>2021-02-15</td>\n",
       "      <td>34</td>\n",
       "      <td>01</td>\n",
       "      <td>02</td>\n",
       "    </tr>\n",
       "  </tbody>\n",
       "</table>\n",
       "</div>"
      ],
      "text/plain": [
       "   CAMPAIGN  Total_product  Total_Coupon_Given DESCRIPTION  START_DAY  \\\n",
       "0         1            383                  11       TypeB        346   \n",
       "1         2            301                  16       TypeB        351   \n",
       "2         3            506                  34       TypeC        356   \n",
       "3         4            200                  12       TypeB        372   \n",
       "4         5            443                  11       TypeB        377   \n",
       "\n",
       "   END_DAY  Start_day    End_day  Campaign_duration Start_month End_month  \n",
       "0      383 2020-12-12 2021-01-18                 37          12        01  \n",
       "1      383 2020-12-17 2021-01-18                 32          12        01  \n",
       "2      412 2020-12-22 2021-02-16                 56          12        02  \n",
       "3      404 2021-01-07 2021-02-08                 32          01        02  \n",
       "4      411 2021-01-12 2021-02-15                 34          01        02  "
      ]
     },
     "execution_count": 500,
     "metadata": {},
     "output_type": "execute_result"
    }
   ],
   "source": [
    "Coupon_given.loc[:,('CAMPAIGN','Total_product','Total_Coupon_Given','DESCRIPTION','Campaign_duration','Start_day','End_day')].sort_values(by='Total_product',\n",
    "                    ascending=False).head(10)\n",
    "Coupon_given.head()"
   ]
  },
  {
   "cell_type": "code",
   "execution_count": 501,
   "id": "fcd8ce76-bae8-4c87-9e77-78b0b076c506",
   "metadata": {},
   "outputs": [
    {
     "data": {
      "text/html": [
       "<div>\n",
       "<style scoped>\n",
       "    .dataframe tbody tr th:only-of-type {\n",
       "        vertical-align: middle;\n",
       "    }\n",
       "\n",
       "    .dataframe tbody tr th {\n",
       "        vertical-align: top;\n",
       "    }\n",
       "\n",
       "    .dataframe thead th {\n",
       "        text-align: right;\n",
       "    }\n",
       "</style>\n",
       "<table border=\"1\" class=\"dataframe\">\n",
       "  <thead>\n",
       "    <tr style=\"text-align: right;\">\n",
       "      <th></th>\n",
       "      <th>COUPON_UPC</th>\n",
       "      <th>PRODUCT_ID</th>\n",
       "      <th>CAMPAIGN</th>\n",
       "    </tr>\n",
       "  </thead>\n",
       "  <tbody>\n",
       "    <tr>\n",
       "      <th>0</th>\n",
       "      <td>10000089061</td>\n",
       "      <td>27160</td>\n",
       "      <td>4</td>\n",
       "    </tr>\n",
       "    <tr>\n",
       "      <th>1</th>\n",
       "      <td>10000089064</td>\n",
       "      <td>27754</td>\n",
       "      <td>9</td>\n",
       "    </tr>\n",
       "    <tr>\n",
       "      <th>2</th>\n",
       "      <td>10000089073</td>\n",
       "      <td>28897</td>\n",
       "      <td>12</td>\n",
       "    </tr>\n",
       "    <tr>\n",
       "      <th>3</th>\n",
       "      <td>51800009050</td>\n",
       "      <td>28919</td>\n",
       "      <td>28</td>\n",
       "    </tr>\n",
       "    <tr>\n",
       "      <th>4</th>\n",
       "      <td>52100000076</td>\n",
       "      <td>28929</td>\n",
       "      <td>25</td>\n",
       "    </tr>\n",
       "  </tbody>\n",
       "</table>\n",
       "</div>"
      ],
      "text/plain": [
       "    COUPON_UPC  PRODUCT_ID  CAMPAIGN\n",
       "0  10000089061       27160         4\n",
       "1  10000089064       27754         9\n",
       "2  10000089073       28897        12\n",
       "3  51800009050       28919        28\n",
       "4  52100000076       28929        25"
      ]
     },
     "execution_count": 501,
     "metadata": {},
     "output_type": "execute_result"
    }
   ],
   "source": [
    "COUPON_RAW.head()"
   ]
  },
  {
   "cell_type": "code",
   "execution_count": 502,
   "id": "17c23450-64ba-4e97-9622-3fbed2427079",
   "metadata": {},
   "outputs": [
    {
     "data": {
      "text/html": [
       "<div>\n",
       "<style scoped>\n",
       "    .dataframe tbody tr th:only-of-type {\n",
       "        vertical-align: middle;\n",
       "    }\n",
       "\n",
       "    .dataframe tbody tr th {\n",
       "        vertical-align: top;\n",
       "    }\n",
       "\n",
       "    .dataframe thead th {\n",
       "        text-align: right;\n",
       "    }\n",
       "</style>\n",
       "<table border=\"1\" class=\"dataframe\">\n",
       "  <thead>\n",
       "    <tr style=\"text-align: right;\">\n",
       "      <th></th>\n",
       "      <th>PRODUCT_ID</th>\n",
       "      <th>MANUFACTURER</th>\n",
       "      <th>DEPARTMENT</th>\n",
       "      <th>BRAND</th>\n",
       "      <th>COMMODITY_DESC</th>\n",
       "      <th>SUB_COMMODITY_DESC</th>\n",
       "      <th>CURR_SIZE_OF_PRODUCT</th>\n",
       "    </tr>\n",
       "  </thead>\n",
       "  <tbody>\n",
       "    <tr>\n",
       "      <th>0</th>\n",
       "      <td>25671</td>\n",
       "      <td>2</td>\n",
       "      <td>GROCERY</td>\n",
       "      <td>National</td>\n",
       "      <td>FRZN ICE</td>\n",
       "      <td>ICE - CRUSHED/CUBED</td>\n",
       "      <td>22 LB</td>\n",
       "    </tr>\n",
       "    <tr>\n",
       "      <th>1</th>\n",
       "      <td>26081</td>\n",
       "      <td>2</td>\n",
       "      <td>MISC. TRANS.</td>\n",
       "      <td>National</td>\n",
       "      <td>NO COMMODITY DESCRIPTION</td>\n",
       "      <td>NO SUBCOMMODITY DESCRIPTION</td>\n",
       "      <td></td>\n",
       "    </tr>\n",
       "    <tr>\n",
       "      <th>2</th>\n",
       "      <td>26093</td>\n",
       "      <td>69</td>\n",
       "      <td>PASTRY</td>\n",
       "      <td>Private</td>\n",
       "      <td>BREAD</td>\n",
       "      <td>BREAD:ITALIAN/FRENCH</td>\n",
       "      <td></td>\n",
       "    </tr>\n",
       "    <tr>\n",
       "      <th>3</th>\n",
       "      <td>26190</td>\n",
       "      <td>69</td>\n",
       "      <td>GROCERY</td>\n",
       "      <td>Private</td>\n",
       "      <td>FRUIT - SHELF STABLE</td>\n",
       "      <td>APPLE SAUCE</td>\n",
       "      <td>50 OZ</td>\n",
       "    </tr>\n",
       "    <tr>\n",
       "      <th>4</th>\n",
       "      <td>26355</td>\n",
       "      <td>69</td>\n",
       "      <td>GROCERY</td>\n",
       "      <td>Private</td>\n",
       "      <td>COOKIES/CONES</td>\n",
       "      <td>SPECIALTY COOKIES</td>\n",
       "      <td>14 OZ</td>\n",
       "    </tr>\n",
       "  </tbody>\n",
       "</table>\n",
       "</div>"
      ],
      "text/plain": [
       "   PRODUCT_ID  MANUFACTURER    DEPARTMENT     BRAND            COMMODITY_DESC  \\\n",
       "0       25671             2       GROCERY  National                  FRZN ICE   \n",
       "1       26081             2  MISC. TRANS.  National  NO COMMODITY DESCRIPTION   \n",
       "2       26093            69        PASTRY   Private                     BREAD   \n",
       "3       26190            69       GROCERY   Private      FRUIT - SHELF STABLE   \n",
       "4       26355            69       GROCERY   Private             COOKIES/CONES   \n",
       "\n",
       "            SUB_COMMODITY_DESC CURR_SIZE_OF_PRODUCT  \n",
       "0          ICE - CRUSHED/CUBED                22 LB  \n",
       "1  NO SUBCOMMODITY DESCRIPTION                       \n",
       "2         BREAD:ITALIAN/FRENCH                       \n",
       "3                  APPLE SAUCE                50 OZ  \n",
       "4            SPECIALTY COOKIES                14 OZ  "
      ]
     },
     "execution_count": 502,
     "metadata": {},
     "output_type": "execute_result"
    }
   ],
   "source": [
    "PRODUCT_RAW.head()"
   ]
  },
  {
   "cell_type": "code",
   "execution_count": 503,
   "id": "0b27de94-a153-4bc3-8582-acb2dd7df696",
   "metadata": {},
   "outputs": [
    {
     "data": {
      "text/html": [
       "<div>\n",
       "<style scoped>\n",
       "    .dataframe tbody tr th:only-of-type {\n",
       "        vertical-align: middle;\n",
       "    }\n",
       "\n",
       "    .dataframe tbody tr th {\n",
       "        vertical-align: top;\n",
       "    }\n",
       "\n",
       "    .dataframe thead th {\n",
       "        text-align: right;\n",
       "    }\n",
       "</style>\n",
       "<table border=\"1\" class=\"dataframe\">\n",
       "  <thead>\n",
       "    <tr style=\"text-align: right;\">\n",
       "      <th></th>\n",
       "      <th>COUPON_UPC</th>\n",
       "      <th>PRODUCT_ID</th>\n",
       "      <th>CAMPAIGN</th>\n",
       "      <th>MANUFACTURER</th>\n",
       "      <th>DEPARTMENT</th>\n",
       "      <th>BRAND</th>\n",
       "      <th>COMMODITY_DESC</th>\n",
       "      <th>SUB_COMMODITY_DESC</th>\n",
       "      <th>CURR_SIZE_OF_PRODUCT</th>\n",
       "    </tr>\n",
       "  </thead>\n",
       "  <tbody>\n",
       "    <tr>\n",
       "      <th>0</th>\n",
       "      <td>10000089061</td>\n",
       "      <td>27160</td>\n",
       "      <td>4</td>\n",
       "      <td>69</td>\n",
       "      <td>GROCERY</td>\n",
       "      <td>Private</td>\n",
       "      <td>SHORTENING/OIL</td>\n",
       "      <td>VEGETABLE/SALAD OIL</td>\n",
       "      <td>48 OZ</td>\n",
       "    </tr>\n",
       "    <tr>\n",
       "      <th>1</th>\n",
       "      <td>10000089064</td>\n",
       "      <td>27754</td>\n",
       "      <td>9</td>\n",
       "      <td>69</td>\n",
       "      <td>GROCERY</td>\n",
       "      <td>Private</td>\n",
       "      <td>FRZN VEGETABLE/VEG DSH</td>\n",
       "      <td>FRZN BAGGED VEGETABLES - PLAIN</td>\n",
       "      <td>16 OZ</td>\n",
       "    </tr>\n",
       "    <tr>\n",
       "      <th>2</th>\n",
       "      <td>10000089073</td>\n",
       "      <td>28897</td>\n",
       "      <td>12</td>\n",
       "      <td>69</td>\n",
       "      <td>GROCERY</td>\n",
       "      <td>Private</td>\n",
       "      <td>EGGS</td>\n",
       "      <td>EGGS - X-LARGE</td>\n",
       "      <td>A D   1 DZ</td>\n",
       "    </tr>\n",
       "    <tr>\n",
       "      <th>3</th>\n",
       "      <td>51800009050</td>\n",
       "      <td>28919</td>\n",
       "      <td>28</td>\n",
       "      <td>236</td>\n",
       "      <td>GROCERY</td>\n",
       "      <td>National</td>\n",
       "      <td>REFRGRATD DOUGH PRODUCTS</td>\n",
       "      <td>REFRIGERATED COOKIES-CHUB</td>\n",
       "      <td>16.5 OZ</td>\n",
       "    </tr>\n",
       "    <tr>\n",
       "      <th>4</th>\n",
       "      <td>52100000076</td>\n",
       "      <td>28929</td>\n",
       "      <td>25</td>\n",
       "      <td>317</td>\n",
       "      <td>GROCERY</td>\n",
       "      <td>National</td>\n",
       "      <td>CHEESE</td>\n",
       "      <td>STRING CHEESE</td>\n",
       "      <td>AB    8 OZ</td>\n",
       "    </tr>\n",
       "  </tbody>\n",
       "</table>\n",
       "</div>"
      ],
      "text/plain": [
       "    COUPON_UPC  PRODUCT_ID  CAMPAIGN  MANUFACTURER DEPARTMENT     BRAND  \\\n",
       "0  10000089061       27160         4            69    GROCERY   Private   \n",
       "1  10000089064       27754         9            69    GROCERY   Private   \n",
       "2  10000089073       28897        12            69    GROCERY   Private   \n",
       "3  51800009050       28919        28           236    GROCERY  National   \n",
       "4  52100000076       28929        25           317    GROCERY  National   \n",
       "\n",
       "             COMMODITY_DESC              SUB_COMMODITY_DESC  \\\n",
       "0            SHORTENING/OIL             VEGETABLE/SALAD OIL   \n",
       "1    FRZN VEGETABLE/VEG DSH  FRZN BAGGED VEGETABLES - PLAIN   \n",
       "2                      EGGS                  EGGS - X-LARGE   \n",
       "3  REFRGRATD DOUGH PRODUCTS       REFRIGERATED COOKIES-CHUB   \n",
       "4                    CHEESE                   STRING CHEESE   \n",
       "\n",
       "  CURR_SIZE_OF_PRODUCT  \n",
       "0                48 OZ  \n",
       "1                16 OZ  \n",
       "2           A D   1 DZ  \n",
       "3              16.5 OZ  \n",
       "4           AB    8 OZ  "
      ]
     },
     "execution_count": 503,
     "metadata": {},
     "output_type": "execute_result"
    }
   ],
   "source": [
    "Coupon_product = COUPON_RAW.merge(right = PRODUCT_RAW, on = 'PRODUCT_ID', how = 'left')\n",
    "Coupon_product.head()"
   ]
  },
  {
   "cell_type": "code",
   "execution_count": 504,
   "id": "daab966e-a60e-4899-8c87-0fcf3f6d5e8a",
   "metadata": {},
   "outputs": [
    {
     "data": {
      "text/plain": [
       "COMMODITY_DESC\n",
       "HAIR CARE PRODUCTS        6261\n",
       "MAKEUP AND TREATMENT      5585\n",
       "FRZN MEAT/MEAT DINNERS    4893\n",
       "FROZEN PIZZA              3658\n",
       "BEEF                      3314\n",
       "Name: count, dtype: int64"
      ]
     },
     "execution_count": 504,
     "metadata": {},
     "output_type": "execute_result"
    }
   ],
   "source": [
    "Coupon_product['COMMODITY_DESC'].value_counts().head()"
   ]
  },
  {
   "cell_type": "code",
   "execution_count": 505,
   "id": "60a0c0d5-9343-4bbf-b28c-78209b1a08c3",
   "metadata": {},
   "outputs": [
    {
     "data": {
      "text/plain": [
       "Index(['HOUSEHOLD_KEY', 'DAY', 'COUPON_UPC', 'CAMPAIGN', 'Date'], dtype='object')"
      ]
     },
     "execution_count": 505,
     "metadata": {},
     "output_type": "execute_result"
    }
   ],
   "source": [
    "COUPON_REDEMPT_RAW.columns"
   ]
  },
  {
   "cell_type": "code",
   "execution_count": 506,
   "id": "a7f5926c-8b76-4cd4-89b8-b88d62c52f9a",
   "metadata": {},
   "outputs": [
    {
     "data": {
      "text/plain": [
       "556"
      ]
     },
     "execution_count": 506,
     "metadata": {},
     "output_type": "execute_result"
    }
   ],
   "source": [
    "COUPON_REDEMPT_RAW['COUPON_UPC'].nunique()"
   ]
  },
  {
   "cell_type": "code",
   "execution_count": 507,
   "id": "9b8b61b9-d3b1-4042-8067-edb380774b1b",
   "metadata": {},
   "outputs": [
    {
     "data": {
      "text/plain": [
       "<Axes: xlabel='CAMPAIGN'>"
      ]
     },
     "execution_count": 507,
     "metadata": {},
     "output_type": "execute_result"
    },
    {
     "data": {
      "image/png": "[encoded data removed]",
      "text/plain": [
       "<Figure size 640x480 with 1 Axes>"
      ]
     },
     "metadata": {},
     "output_type": "display_data"
    }
   ],
   "source": [
    "COUPON_REDEMPT_RAW.groupby('CAMPAIGN').aggregate(total_coupon_redemt=('COUPON_UPC', 'nunique')).sort_values(by = 'total_coupon_redemt', ascending = False).plot.bar()"
   ]
  },
  {
   "cell_type": "code",
   "execution_count": 508,
   "id": "b114925d-2686-4dc3-be18-892afb8224ee",
   "metadata": {},
   "outputs": [],
   "source": [
    "Coupon_redeem = COUPON_REDEMPT_RAW.groupby('CAMPAIGN').aggregate(total_coupon_redemt = ('COUPON_UPC', 'nunique'))"
   ]
  },
  {
   "cell_type": "code",
   "execution_count": 509,
   "id": "5a70a9b5-5506-4e56-b4d0-7f4a0f608d5f",
   "metadata": {},
   "outputs": [
    {
     "data": {
      "text/html": [
       "<div>\n",
       "<style scoped>\n",
       "    .dataframe tbody tr th:only-of-type {\n",
       "        vertical-align: middle;\n",
       "    }\n",
       "\n",
       "    .dataframe tbody tr th {\n",
       "        vertical-align: top;\n",
       "    }\n",
       "\n",
       "    .dataframe thead th {\n",
       "        text-align: right;\n",
       "    }\n",
       "</style>\n",
       "<table border=\"1\" class=\"dataframe\">\n",
       "  <thead>\n",
       "    <tr style=\"text-align: right;\">\n",
       "      <th></th>\n",
       "      <th>total_coupon_redemt</th>\n",
       "    </tr>\n",
       "    <tr>\n",
       "      <th>CAMPAIGN</th>\n",
       "      <th></th>\n",
       "    </tr>\n",
       "  </thead>\n",
       "  <tbody>\n",
       "    <tr>\n",
       "      <th>13</th>\n",
       "      <td>129</td>\n",
       "    </tr>\n",
       "    <tr>\n",
       "      <th>18</th>\n",
       "      <td>121</td>\n",
       "    </tr>\n",
       "    <tr>\n",
       "      <th>8</th>\n",
       "      <td>105</td>\n",
       "    </tr>\n",
       "    <tr>\n",
       "      <th>26</th>\n",
       "      <td>53</td>\n",
       "    </tr>\n",
       "    <tr>\n",
       "      <th>30</th>\n",
       "      <td>41</td>\n",
       "    </tr>\n",
       "    <tr>\n",
       "      <th>29</th>\n",
       "      <td>17</td>\n",
       "    </tr>\n",
       "    <tr>\n",
       "      <th>23</th>\n",
       "      <td>16</td>\n",
       "    </tr>\n",
       "    <tr>\n",
       "      <th>25</th>\n",
       "      <td>15</td>\n",
       "    </tr>\n",
       "    <tr>\n",
       "      <th>20</th>\n",
       "      <td>15</td>\n",
       "    </tr>\n",
       "    <tr>\n",
       "      <th>9</th>\n",
       "      <td>14</td>\n",
       "    </tr>\n",
       "    <tr>\n",
       "      <th>14</th>\n",
       "      <td>14</td>\n",
       "    </tr>\n",
       "    <tr>\n",
       "      <th>17</th>\n",
       "      <td>13</td>\n",
       "    </tr>\n",
       "    <tr>\n",
       "      <th>22</th>\n",
       "      <td>12</td>\n",
       "    </tr>\n",
       "    <tr>\n",
       "      <th>12</th>\n",
       "      <td>11</td>\n",
       "    </tr>\n",
       "    <tr>\n",
       "      <th>16</th>\n",
       "      <td>10</td>\n",
       "    </tr>\n",
       "    <tr>\n",
       "      <th>19</th>\n",
       "      <td>9</td>\n",
       "    </tr>\n",
       "    <tr>\n",
       "      <th>10</th>\n",
       "      <td>7</td>\n",
       "    </tr>\n",
       "    <tr>\n",
       "      <th>11</th>\n",
       "      <td>6</td>\n",
       "    </tr>\n",
       "    <tr>\n",
       "      <th>4</th>\n",
       "      <td>6</td>\n",
       "    </tr>\n",
       "    <tr>\n",
       "      <th>21</th>\n",
       "      <td>5</td>\n",
       "    </tr>\n",
       "    <tr>\n",
       "      <th>7</th>\n",
       "      <td>5</td>\n",
       "    </tr>\n",
       "    <tr>\n",
       "      <th>5</th>\n",
       "      <td>5</td>\n",
       "    </tr>\n",
       "    <tr>\n",
       "      <th>2</th>\n",
       "      <td>4</td>\n",
       "    </tr>\n",
       "    <tr>\n",
       "      <th>15</th>\n",
       "      <td>2</td>\n",
       "    </tr>\n",
       "    <tr>\n",
       "      <th>24</th>\n",
       "      <td>2</td>\n",
       "    </tr>\n",
       "    <tr>\n",
       "      <th>3</th>\n",
       "      <td>2</td>\n",
       "    </tr>\n",
       "    <tr>\n",
       "      <th>6</th>\n",
       "      <td>1</td>\n",
       "    </tr>\n",
       "    <tr>\n",
       "      <th>27</th>\n",
       "      <td>1</td>\n",
       "    </tr>\n",
       "    <tr>\n",
       "      <th>28</th>\n",
       "      <td>1</td>\n",
       "    </tr>\n",
       "    <tr>\n",
       "      <th>1</th>\n",
       "      <td>1</td>\n",
       "    </tr>\n",
       "  </tbody>\n",
       "</table>\n",
       "</div>"
      ],
      "text/plain": [
       "          total_coupon_redemt\n",
       "CAMPAIGN                     \n",
       "13                        129\n",
       "18                        121\n",
       "8                         105\n",
       "26                         53\n",
       "30                         41\n",
       "29                         17\n",
       "23                         16\n",
       "25                         15\n",
       "20                         15\n",
       "9                          14\n",
       "14                         14\n",
       "17                         13\n",
       "22                         12\n",
       "12                         11\n",
       "16                         10\n",
       "19                          9\n",
       "10                          7\n",
       "11                          6\n",
       "4                           6\n",
       "21                          5\n",
       "7                           5\n",
       "5                           5\n",
       "2                           4\n",
       "15                          2\n",
       "24                          2\n",
       "3                           2\n",
       "6                           1\n",
       "27                          1\n",
       "28                          1\n",
       "1                           1"
      ]
     },
     "execution_count": 509,
     "metadata": {},
     "output_type": "execute_result"
    }
   ],
   "source": [
    "Coupon_redeem.sort_values(by = 'total_coupon_redemt', ascending  = False)"
   ]
  },
  {
   "cell_type": "code",
   "execution_count": 510,
   "id": "0c05b477-ba66-4668-ab5e-69ff18cde4b6",
   "metadata": {},
   "outputs": [
    {
     "data": {
      "text/html": [
       "<div>\n",
       "<style scoped>\n",
       "    .dataframe tbody tr th:only-of-type {\n",
       "        vertical-align: middle;\n",
       "    }\n",
       "\n",
       "    .dataframe tbody tr th {\n",
       "        vertical-align: top;\n",
       "    }\n",
       "\n",
       "    .dataframe thead th {\n",
       "        text-align: right;\n",
       "    }\n",
       "</style>\n",
       "<table border=\"1\" class=\"dataframe\">\n",
       "  <thead>\n",
       "    <tr style=\"text-align: right;\">\n",
       "      <th></th>\n",
       "      <th>CAMPAIGN</th>\n",
       "      <th>Total_product</th>\n",
       "      <th>Total_Coupon_Given</th>\n",
       "      <th>DESCRIPTION</th>\n",
       "      <th>START_DAY</th>\n",
       "      <th>END_DAY</th>\n",
       "      <th>Start_day</th>\n",
       "      <th>End_day</th>\n",
       "      <th>Campaign_duration</th>\n",
       "      <th>Start_month</th>\n",
       "      <th>End_month</th>\n",
       "    </tr>\n",
       "  </thead>\n",
       "  <tbody>\n",
       "    <tr>\n",
       "      <th>0</th>\n",
       "      <td>1</td>\n",
       "      <td>383</td>\n",
       "      <td>11</td>\n",
       "      <td>TypeB</td>\n",
       "      <td>346</td>\n",
       "      <td>383</td>\n",
       "      <td>2020-12-12</td>\n",
       "      <td>2021-01-18</td>\n",
       "      <td>37</td>\n",
       "      <td>12</td>\n",
       "      <td>01</td>\n",
       "    </tr>\n",
       "    <tr>\n",
       "      <th>1</th>\n",
       "      <td>2</td>\n",
       "      <td>301</td>\n",
       "      <td>16</td>\n",
       "      <td>TypeB</td>\n",
       "      <td>351</td>\n",
       "      <td>383</td>\n",
       "      <td>2020-12-17</td>\n",
       "      <td>2021-01-18</td>\n",
       "      <td>32</td>\n",
       "      <td>12</td>\n",
       "      <td>01</td>\n",
       "    </tr>\n",
       "    <tr>\n",
       "      <th>2</th>\n",
       "      <td>3</td>\n",
       "      <td>506</td>\n",
       "      <td>34</td>\n",
       "      <td>TypeC</td>\n",
       "      <td>356</td>\n",
       "      <td>412</td>\n",
       "      <td>2020-12-22</td>\n",
       "      <td>2021-02-16</td>\n",
       "      <td>56</td>\n",
       "      <td>12</td>\n",
       "      <td>02</td>\n",
       "    </tr>\n",
       "    <tr>\n",
       "      <th>3</th>\n",
       "      <td>4</td>\n",
       "      <td>200</td>\n",
       "      <td>12</td>\n",
       "      <td>TypeB</td>\n",
       "      <td>372</td>\n",
       "      <td>404</td>\n",
       "      <td>2021-01-07</td>\n",
       "      <td>2021-02-08</td>\n",
       "      <td>32</td>\n",
       "      <td>01</td>\n",
       "      <td>02</td>\n",
       "    </tr>\n",
       "    <tr>\n",
       "      <th>4</th>\n",
       "      <td>5</td>\n",
       "      <td>443</td>\n",
       "      <td>11</td>\n",
       "      <td>TypeB</td>\n",
       "      <td>377</td>\n",
       "      <td>411</td>\n",
       "      <td>2021-01-12</td>\n",
       "      <td>2021-02-15</td>\n",
       "      <td>34</td>\n",
       "      <td>01</td>\n",
       "      <td>02</td>\n",
       "    </tr>\n",
       "  </tbody>\n",
       "</table>\n",
       "</div>"
      ],
      "text/plain": [
       "   CAMPAIGN  Total_product  Total_Coupon_Given DESCRIPTION  START_DAY  \\\n",
       "0         1            383                  11       TypeB        346   \n",
       "1         2            301                  16       TypeB        351   \n",
       "2         3            506                  34       TypeC        356   \n",
       "3         4            200                  12       TypeB        372   \n",
       "4         5            443                  11       TypeB        377   \n",
       "\n",
       "   END_DAY  Start_day    End_day  Campaign_duration Start_month End_month  \n",
       "0      383 2020-12-12 2021-01-18                 37          12        01  \n",
       "1      383 2020-12-17 2021-01-18                 32          12        01  \n",
       "2      412 2020-12-22 2021-02-16                 56          12        02  \n",
       "3      404 2021-01-07 2021-02-08                 32          01        02  \n",
       "4      411 2021-01-12 2021-02-15                 34          01        02  "
      ]
     },
     "execution_count": 510,
     "metadata": {},
     "output_type": "execute_result"
    }
   ],
   "source": [
    "Coupon_given.head()"
   ]
  },
  {
   "cell_type": "code",
   "execution_count": 511,
   "id": "f323a4e5-7b36-418f-b358-27f549f6c140",
   "metadata": {},
   "outputs": [
    {
     "data": {
      "text/html": [
       "<div>\n",
       "<style scoped>\n",
       "    .dataframe tbody tr th:only-of-type {\n",
       "        vertical-align: middle;\n",
       "    }\n",
       "\n",
       "    .dataframe tbody tr th {\n",
       "        vertical-align: top;\n",
       "    }\n",
       "\n",
       "    .dataframe thead th {\n",
       "        text-align: right;\n",
       "    }\n",
       "</style>\n",
       "<table border=\"1\" class=\"dataframe\">\n",
       "  <thead>\n",
       "    <tr style=\"text-align: right;\">\n",
       "      <th></th>\n",
       "      <th>total_coupon_redemt</th>\n",
       "    </tr>\n",
       "    <tr>\n",
       "      <th>CAMPAIGN</th>\n",
       "      <th></th>\n",
       "    </tr>\n",
       "  </thead>\n",
       "  <tbody>\n",
       "    <tr>\n",
       "      <th>1</th>\n",
       "      <td>1</td>\n",
       "    </tr>\n",
       "    <tr>\n",
       "      <th>2</th>\n",
       "      <td>4</td>\n",
       "    </tr>\n",
       "    <tr>\n",
       "      <th>3</th>\n",
       "      <td>2</td>\n",
       "    </tr>\n",
       "    <tr>\n",
       "      <th>4</th>\n",
       "      <td>6</td>\n",
       "    </tr>\n",
       "    <tr>\n",
       "      <th>5</th>\n",
       "      <td>5</td>\n",
       "    </tr>\n",
       "  </tbody>\n",
       "</table>\n",
       "</div>"
      ],
      "text/plain": [
       "          total_coupon_redemt\n",
       "CAMPAIGN                     \n",
       "1                           1\n",
       "2                           4\n",
       "3                           2\n",
       "4                           6\n",
       "5                           5"
      ]
     },
     "execution_count": 511,
     "metadata": {},
     "output_type": "execute_result"
    }
   ],
   "source": [
    "Coupon_redeem.head()"
   ]
  },
  {
   "cell_type": "code",
   "execution_count": 512,
   "id": "82003f08-f6f9-45eb-9d48-3f1559d4ed3a",
   "metadata": {},
   "outputs": [],
   "source": [
    "Coupon_redeem = Coupon_redeem.merge(right = Coupon_given, on = 'CAMPAIGN', how= 'left')"
   ]
  },
  {
   "cell_type": "code",
   "execution_count": 513,
   "id": "0cc19381-2df8-4ba6-a325-40f763650796",
   "metadata": {},
   "outputs": [
    {
     "data": {
      "text/html": [
       "<div>\n",
       "<style scoped>\n",
       "    .dataframe tbody tr th:only-of-type {\n",
       "        vertical-align: middle;\n",
       "    }\n",
       "\n",
       "    .dataframe tbody tr th {\n",
       "        vertical-align: top;\n",
       "    }\n",
       "\n",
       "    .dataframe thead th {\n",
       "        text-align: right;\n",
       "    }\n",
       "</style>\n",
       "<table border=\"1\" class=\"dataframe\">\n",
       "  <thead>\n",
       "    <tr style=\"text-align: right;\">\n",
       "      <th></th>\n",
       "      <th>CAMPAIGN</th>\n",
       "      <th>total_coupon_redemt</th>\n",
       "      <th>Total_product</th>\n",
       "      <th>Total_Coupon_Given</th>\n",
       "      <th>DESCRIPTION</th>\n",
       "      <th>START_DAY</th>\n",
       "      <th>END_DAY</th>\n",
       "      <th>Start_day</th>\n",
       "      <th>End_day</th>\n",
       "      <th>Campaign_duration</th>\n",
       "      <th>Start_month</th>\n",
       "      <th>End_month</th>\n",
       "    </tr>\n",
       "  </thead>\n",
       "  <tbody>\n",
       "    <tr>\n",
       "      <th>0</th>\n",
       "      <td>1</td>\n",
       "      <td>1</td>\n",
       "      <td>383</td>\n",
       "      <td>11</td>\n",
       "      <td>TypeB</td>\n",
       "      <td>346</td>\n",
       "      <td>383</td>\n",
       "      <td>2020-12-12</td>\n",
       "      <td>2021-01-18</td>\n",
       "      <td>37</td>\n",
       "      <td>12</td>\n",
       "      <td>01</td>\n",
       "    </tr>\n",
       "    <tr>\n",
       "      <th>1</th>\n",
       "      <td>2</td>\n",
       "      <td>4</td>\n",
       "      <td>301</td>\n",
       "      <td>16</td>\n",
       "      <td>TypeB</td>\n",
       "      <td>351</td>\n",
       "      <td>383</td>\n",
       "      <td>2020-12-17</td>\n",
       "      <td>2021-01-18</td>\n",
       "      <td>32</td>\n",
       "      <td>12</td>\n",
       "      <td>01</td>\n",
       "    </tr>\n",
       "    <tr>\n",
       "      <th>2</th>\n",
       "      <td>3</td>\n",
       "      <td>2</td>\n",
       "      <td>506</td>\n",
       "      <td>34</td>\n",
       "      <td>TypeC</td>\n",
       "      <td>356</td>\n",
       "      <td>412</td>\n",
       "      <td>2020-12-22</td>\n",
       "      <td>2021-02-16</td>\n",
       "      <td>56</td>\n",
       "      <td>12</td>\n",
       "      <td>02</td>\n",
       "    </tr>\n",
       "    <tr>\n",
       "      <th>3</th>\n",
       "      <td>4</td>\n",
       "      <td>6</td>\n",
       "      <td>200</td>\n",
       "      <td>12</td>\n",
       "      <td>TypeB</td>\n",
       "      <td>372</td>\n",
       "      <td>404</td>\n",
       "      <td>2021-01-07</td>\n",
       "      <td>2021-02-08</td>\n",
       "      <td>32</td>\n",
       "      <td>01</td>\n",
       "      <td>02</td>\n",
       "    </tr>\n",
       "    <tr>\n",
       "      <th>4</th>\n",
       "      <td>5</td>\n",
       "      <td>5</td>\n",
       "      <td>443</td>\n",
       "      <td>11</td>\n",
       "      <td>TypeB</td>\n",
       "      <td>377</td>\n",
       "      <td>411</td>\n",
       "      <td>2021-01-12</td>\n",
       "      <td>2021-02-15</td>\n",
       "      <td>34</td>\n",
       "      <td>01</td>\n",
       "      <td>02</td>\n",
       "    </tr>\n",
       "  </tbody>\n",
       "</table>\n",
       "</div>"
      ],
      "text/plain": [
       "   CAMPAIGN  total_coupon_redemt  Total_product  Total_Coupon_Given  \\\n",
       "0         1                    1            383                  11   \n",
       "1         2                    4            301                  16   \n",
       "2         3                    2            506                  34   \n",
       "3         4                    6            200                  12   \n",
       "4         5                    5            443                  11   \n",
       "\n",
       "  DESCRIPTION  START_DAY  END_DAY  Start_day    End_day  Campaign_duration  \\\n",
       "0       TypeB        346      383 2020-12-12 2021-01-18                 37   \n",
       "1       TypeB        351      383 2020-12-17 2021-01-18                 32   \n",
       "2       TypeC        356      412 2020-12-22 2021-02-16                 56   \n",
       "3       TypeB        372      404 2021-01-07 2021-02-08                 32   \n",
       "4       TypeB        377      411 2021-01-12 2021-02-15                 34   \n",
       "\n",
       "  Start_month End_month  \n",
       "0          12        01  \n",
       "1          12        01  \n",
       "2          12        02  \n",
       "3          01        02  \n",
       "4          01        02  "
      ]
     },
     "execution_count": 513,
     "metadata": {},
     "output_type": "execute_result"
    }
   ],
   "source": [
    "Coupon_redeem.head()"
   ]
  },
  {
   "cell_type": "code",
   "execution_count": 514,
   "id": "3e205b8a-4984-4bff-98cd-ef605b320f7f",
   "metadata": {},
   "outputs": [],
   "source": [
    "Coupon_redeem['Coupon_redeem_rate']=(Coupon_redeem['total_coupon_redemt']/Coupon_redeem['Total_Coupon_Given'])*100"
   ]
  },
  {
   "cell_type": "code",
   "execution_count": 515,
   "id": "4c48c830-554e-4a19-a109-de4d5ba562c8",
   "metadata": {},
   "outputs": [
    {
     "data": {
      "text/html": [
       "<div>\n",
       "<style scoped>\n",
       "    .dataframe tbody tr th:only-of-type {\n",
       "        vertical-align: middle;\n",
       "    }\n",
       "\n",
       "    .dataframe tbody tr th {\n",
       "        vertical-align: top;\n",
       "    }\n",
       "\n",
       "    .dataframe thead th {\n",
       "        text-align: right;\n",
       "    }\n",
       "</style>\n",
       "<table border=\"1\" class=\"dataframe\">\n",
       "  <thead>\n",
       "    <tr style=\"text-align: right;\">\n",
       "      <th></th>\n",
       "      <th>CAMPAIGN</th>\n",
       "      <th>total_coupon_redemt</th>\n",
       "      <th>Total_product</th>\n",
       "      <th>Total_Coupon_Given</th>\n",
       "      <th>DESCRIPTION</th>\n",
       "      <th>START_DAY</th>\n",
       "      <th>END_DAY</th>\n",
       "      <th>Start_day</th>\n",
       "      <th>End_day</th>\n",
       "      <th>Campaign_duration</th>\n",
       "      <th>Start_month</th>\n",
       "      <th>End_month</th>\n",
       "      <th>Coupon_redeem_rate</th>\n",
       "    </tr>\n",
       "  </thead>\n",
       "  <tbody>\n",
       "    <tr>\n",
       "      <th>23</th>\n",
       "      <td>24</td>\n",
       "      <td>2</td>\n",
       "      <td>1887</td>\n",
       "      <td>2</td>\n",
       "      <td>TypeB</td>\n",
       "      <td>659</td>\n",
       "      <td>719</td>\n",
       "      <td>2021-10-21</td>\n",
       "      <td>2021-12-20</td>\n",
       "      <td>60</td>\n",
       "      <td>10</td>\n",
       "      <td>12</td>\n",
       "      <td>100.000000</td>\n",
       "    </tr>\n",
       "    <tr>\n",
       "      <th>5</th>\n",
       "      <td>6</td>\n",
       "      <td>1</td>\n",
       "      <td>18</td>\n",
       "      <td>1</td>\n",
       "      <td>TypeC</td>\n",
       "      <td>393</td>\n",
       "      <td>425</td>\n",
       "      <td>2021-01-28</td>\n",
       "      <td>2021-03-01</td>\n",
       "      <td>32</td>\n",
       "      <td>01</td>\n",
       "      <td>03</td>\n",
       "      <td>100.000000</td>\n",
       "    </tr>\n",
       "    <tr>\n",
       "      <th>14</th>\n",
       "      <td>15</td>\n",
       "      <td>2</td>\n",
       "      <td>55</td>\n",
       "      <td>2</td>\n",
       "      <td>TypeC</td>\n",
       "      <td>547</td>\n",
       "      <td>708</td>\n",
       "      <td>2021-07-01</td>\n",
       "      <td>2021-12-09</td>\n",
       "      <td>161</td>\n",
       "      <td>07</td>\n",
       "      <td>12</td>\n",
       "      <td>100.000000</td>\n",
       "    </tr>\n",
       "    <tr>\n",
       "      <th>22</th>\n",
       "      <td>23</td>\n",
       "      <td>16</td>\n",
       "      <td>767</td>\n",
       "      <td>18</td>\n",
       "      <td>TypeB</td>\n",
       "      <td>646</td>\n",
       "      <td>684</td>\n",
       "      <td>2021-10-08</td>\n",
       "      <td>2021-11-15</td>\n",
       "      <td>38</td>\n",
       "      <td>10</td>\n",
       "      <td>11</td>\n",
       "      <td>88.888889</td>\n",
       "    </tr>\n",
       "    <tr>\n",
       "      <th>24</th>\n",
       "      <td>25</td>\n",
       "      <td>15</td>\n",
       "      <td>826</td>\n",
       "      <td>17</td>\n",
       "      <td>TypeB</td>\n",
       "      <td>659</td>\n",
       "      <td>691</td>\n",
       "      <td>2021-10-21</td>\n",
       "      <td>2021-11-22</td>\n",
       "      <td>32</td>\n",
       "      <td>10</td>\n",
       "      <td>11</td>\n",
       "      <td>88.235294</td>\n",
       "    </tr>\n",
       "  </tbody>\n",
       "</table>\n",
       "</div>"
      ],
      "text/plain": [
       "    CAMPAIGN  total_coupon_redemt  Total_product  Total_Coupon_Given  \\\n",
       "23        24                    2           1887                   2   \n",
       "5          6                    1             18                   1   \n",
       "14        15                    2             55                   2   \n",
       "22        23                   16            767                  18   \n",
       "24        25                   15            826                  17   \n",
       "\n",
       "   DESCRIPTION  START_DAY  END_DAY  Start_day    End_day  Campaign_duration  \\\n",
       "23       TypeB        659      719 2021-10-21 2021-12-20                 60   \n",
       "5        TypeC        393      425 2021-01-28 2021-03-01                 32   \n",
       "14       TypeC        547      708 2021-07-01 2021-12-09                161   \n",
       "22       TypeB        646      684 2021-10-08 2021-11-15                 38   \n",
       "24       TypeB        659      691 2021-10-21 2021-11-22                 32   \n",
       "\n",
       "   Start_month End_month  Coupon_redeem_rate  \n",
       "23          10        12          100.000000  \n",
       "5           01        03          100.000000  \n",
       "14          07        12          100.000000  \n",
       "22          10        11           88.888889  \n",
       "24          10        11           88.235294  "
      ]
     },
     "execution_count": 515,
     "metadata": {},
     "output_type": "execute_result"
    }
   ],
   "source": [
    "Coupon_redeem.sort_values(by = 'Coupon_redeem_rate', ascending = False).head()"
   ]
  },
  {
   "cell_type": "code",
   "execution_count": 516,
   "id": "f99eb579-9072-4f6a-a261-ed2d2aed6c88",
   "metadata": {},
   "outputs": [
    {
     "data": {
      "text/plain": [
       "<Axes: xlabel='CAMPAIGN', ylabel='Coupon_redeem_rate'>"
      ]
     },
     "execution_count": 516,
     "metadata": {},
     "output_type": "execute_result"
    },
    {
     "data": {
      "image/png": "[encoded data removed]",
      "text/plain": [
       "<Figure size 1500x500 with 1 Axes>"
      ]
     },
     "metadata": {},
     "output_type": "display_data"
    }
   ],
   "source": [
    "plt.figure(figsize=(15,5))\n",
    "sns.barplot(x='CAMPAIGN',y='Coupon_redeem_rate',data=Coupon_redeem)"
   ]
  },
  {
   "cell_type": "code",
   "execution_count": 517,
   "id": "c54805d1-7596-448a-8e8b-da237f9bbc33",
   "metadata": {},
   "outputs": [
    {
     "data": {
      "text/plain": [
       "(2595732, 13)"
      ]
     },
     "execution_count": 517,
     "metadata": {},
     "output_type": "execute_result"
    }
   ],
   "source": [
    "TRANSACTION_RAW.shape"
   ]
  },
  {
   "cell_type": "code",
   "execution_count": 518,
   "id": "30a75a33-b9ac-478c-b7eb-bdbbe2a6aa40",
   "metadata": {},
   "outputs": [
    {
     "data": {
      "text/plain": [
       "Index(['HOUSEHOLD_KEY', 'BASKET_ID', 'DAY', 'PRODUCT_ID', 'QUANTITY',\n",
       "       'SALES_VALUE', 'STORE_ID', 'RETAIL_DISC', 'TRANS_TIME', 'WEEK_NO',\n",
       "       'COUPON_DISC', 'COUPON_MATCH_DISC', 'DATE'],\n",
       "      dtype='object')"
      ]
     },
     "execution_count": 518,
     "metadata": {},
     "output_type": "execute_result"
    }
   ],
   "source": [
    "TRANSACTION_RAW.columns"
   ]
  },
  {
   "cell_type": "code",
   "execution_count": 519,
   "id": "5c21bb40-dd11-430e-8df3-b2d5af334e5d",
   "metadata": {},
   "outputs": [
    {
     "data": {
      "text/plain": [
       "HOUSEHOLD_KEY        0\n",
       "BASKET_ID            0\n",
       "DAY                  0\n",
       "PRODUCT_ID           0\n",
       "QUANTITY             0\n",
       "SALES_VALUE          0\n",
       "STORE_ID             0\n",
       "RETAIL_DISC          0\n",
       "TRANS_TIME           0\n",
       "WEEK_NO              0\n",
       "COUPON_DISC          0\n",
       "COUPON_MATCH_DISC    0\n",
       "DATE                 0\n",
       "dtype: int64"
      ]
     },
     "execution_count": 519,
     "metadata": {},
     "output_type": "execute_result"
    }
   ],
   "source": [
    "TRANSACTION_RAW.isnull().sum()"
   ]
  },
  {
   "cell_type": "code",
   "execution_count": null,
   "id": "216738a1-1e54-4f6d-9f0d-aaf1a89bda31",
   "metadata": {},
   "outputs": [],
   "source": [
    "TRANSACTION_RAW['BASKET_ID'].count()"
   ]
  },
  {
   "cell_type": "code",
   "execution_count": 520,
   "id": "7765797e-b40a-4df0-83d0-8243df10b0e0",
   "metadata": {},
   "outputs": [
    {
     "data": {
      "text/plain": [
       "276484"
      ]
     },
     "execution_count": 520,
     "metadata": {},
     "output_type": "execute_result"
    }
   ],
   "source": [
    "TRANSACTION_RAW['BASKET_ID'].nunique()"
   ]
  },
  {
   "cell_type": "code",
   "execution_count": 521,
   "id": "65e8bfe0-81d3-4c12-b214-709263869220",
   "metadata": {},
   "outputs": [
    {
     "data": {
      "text/plain": [
       "2500"
      ]
     },
     "execution_count": 521,
     "metadata": {},
     "output_type": "execute_result"
    }
   ],
   "source": [
    "TRANSACTION_RAW['HOUSEHOLD_KEY'].nunique()"
   ]
  },
  {
   "cell_type": "code",
   "execution_count": 522,
   "id": "8b53d115-d4a8-47d2-a9ca-0b7779faa249",
   "metadata": {},
   "outputs": [],
   "source": [
    "txn_bucket = TRANSACTION_RAW.groupby('BASKET_ID').aggregate({'SALES_VALUE':'sum','COUPON_DISC':'sum','COUPON_MATCH_DISC':'sum'})"
   ]
  },
  {
   "cell_type": "code",
   "execution_count": 523,
   "id": "a96f837a-4021-4ad3-874f-a4800b247256",
   "metadata": {},
   "outputs": [
    {
     "data": {
      "text/html": [
       "<div>\n",
       "<style scoped>\n",
       "    .dataframe tbody tr th:only-of-type {\n",
       "        vertical-align: middle;\n",
       "    }\n",
       "\n",
       "    .dataframe tbody tr th {\n",
       "        vertical-align: top;\n",
       "    }\n",
       "\n",
       "    .dataframe thead th {\n",
       "        text-align: right;\n",
       "    }\n",
       "</style>\n",
       "<table border=\"1\" class=\"dataframe\">\n",
       "  <thead>\n",
       "    <tr style=\"text-align: right;\">\n",
       "      <th></th>\n",
       "      <th>SALES_VALUE</th>\n",
       "      <th>COUPON_DISC</th>\n",
       "      <th>COUPON_MATCH_DISC</th>\n",
       "    </tr>\n",
       "    <tr>\n",
       "      <th>BASKET_ID</th>\n",
       "      <th></th>\n",
       "      <th></th>\n",
       "      <th></th>\n",
       "    </tr>\n",
       "  </thead>\n",
       "  <tbody>\n",
       "    <tr>\n",
       "      <th>26984851472</th>\n",
       "      <td>5.91</td>\n",
       "      <td>0</td>\n",
       "      <td>0</td>\n",
       "    </tr>\n",
       "    <tr>\n",
       "      <th>26984851516</th>\n",
       "      <td>12.43</td>\n",
       "      <td>0</td>\n",
       "      <td>0</td>\n",
       "    </tr>\n",
       "    <tr>\n",
       "      <th>26984896261</th>\n",
       "      <td>11.37</td>\n",
       "      <td>0</td>\n",
       "      <td>0</td>\n",
       "    </tr>\n",
       "    <tr>\n",
       "      <th>26984905972</th>\n",
       "      <td>2.55</td>\n",
       "      <td>0</td>\n",
       "      <td>0</td>\n",
       "    </tr>\n",
       "    <tr>\n",
       "      <th>26984945254</th>\n",
       "      <td>3.53</td>\n",
       "      <td>0</td>\n",
       "      <td>0</td>\n",
       "    </tr>\n",
       "  </tbody>\n",
       "</table>\n",
       "</div>"
      ],
      "text/plain": [
       "             SALES_VALUE  COUPON_DISC  COUPON_MATCH_DISC\n",
       "BASKET_ID                                               \n",
       "26984851472         5.91            0                  0\n",
       "26984851516        12.43            0                  0\n",
       "26984896261        11.37            0                  0\n",
       "26984905972         2.55            0                  0\n",
       "26984945254         3.53            0                  0"
      ]
     },
     "execution_count": 523,
     "metadata": {},
     "output_type": "execute_result"
    }
   ],
   "source": [
    "txn_bucket.head()"
   ]
  },
  {
   "cell_type": "code",
   "execution_count": 524,
   "id": "ff8b9285-8627-4508-ae5d-834e3a0b923f",
   "metadata": {},
   "outputs": [],
   "source": [
    "txn_bucket['USE_COUPON'] = txn_bucket['COUPON_DISC']!=0"
   ]
  },
  {
   "cell_type": "code",
   "execution_count": 525,
   "id": "6d0f9176-04ca-4eb5-92a1-d05caed68ab2",
   "metadata": {},
   "outputs": [
    {
     "data": {
      "text/plain": [
       "USE_COUPON\n",
       "False    260812\n",
       "True      15672\n",
       "Name: count, dtype: int64"
      ]
     },
     "execution_count": 525,
     "metadata": {},
     "output_type": "execute_result"
    }
   ],
   "source": [
    "txn_bucket['USE_COUPON'].value_counts()"
   ]
  },
  {
   "cell_type": "code",
   "execution_count": 526,
   "id": "dc5cda28-b66c-40d5-b8fb-283330f5d6fc",
   "metadata": {},
   "outputs": [
    {
     "data": {
      "text/html": [
       "<div>\n",
       "<style scoped>\n",
       "    .dataframe tbody tr th:only-of-type {\n",
       "        vertical-align: middle;\n",
       "    }\n",
       "\n",
       "    .dataframe tbody tr th {\n",
       "        vertical-align: top;\n",
       "    }\n",
       "\n",
       "    .dataframe thead th {\n",
       "        text-align: right;\n",
       "    }\n",
       "</style>\n",
       "<table border=\"1\" class=\"dataframe\">\n",
       "  <thead>\n",
       "    <tr style=\"text-align: right;\">\n",
       "      <th></th>\n",
       "      <th>SALES_VALUE</th>\n",
       "      <th>COUPON_DISC</th>\n",
       "      <th>COUPON_MATCH_DISC</th>\n",
       "      <th>USE_COUPON</th>\n",
       "    </tr>\n",
       "    <tr>\n",
       "      <th>BASKET_ID</th>\n",
       "      <th></th>\n",
       "      <th></th>\n",
       "      <th></th>\n",
       "      <th></th>\n",
       "    </tr>\n",
       "  </thead>\n",
       "  <tbody>\n",
       "    <tr>\n",
       "      <th>32006114302</th>\n",
       "      <td>961.49</td>\n",
       "      <td>0</td>\n",
       "      <td>0</td>\n",
       "      <td>False</td>\n",
       "    </tr>\n",
       "    <tr>\n",
       "      <th>40387571385</th>\n",
       "      <td>681.58</td>\n",
       "      <td>0</td>\n",
       "      <td>0</td>\n",
       "      <td>False</td>\n",
       "    </tr>\n",
       "    <tr>\n",
       "      <th>33347880492</th>\n",
       "      <td>552.92</td>\n",
       "      <td>-3</td>\n",
       "      <td>0</td>\n",
       "      <td>True</td>\n",
       "    </tr>\n",
       "    <tr>\n",
       "      <th>32505140858</th>\n",
       "      <td>545.17</td>\n",
       "      <td>0</td>\n",
       "      <td>0</td>\n",
       "      <td>False</td>\n",
       "    </tr>\n",
       "    <tr>\n",
       "      <th>30983766334</th>\n",
       "      <td>545.07</td>\n",
       "      <td>0</td>\n",
       "      <td>0</td>\n",
       "      <td>False</td>\n",
       "    </tr>\n",
       "  </tbody>\n",
       "</table>\n",
       "</div>"
      ],
      "text/plain": [
       "             SALES_VALUE  COUPON_DISC  COUPON_MATCH_DISC  USE_COUPON\n",
       "BASKET_ID                                                           \n",
       "32006114302       961.49            0                  0       False\n",
       "40387571385       681.58            0                  0       False\n",
       "33347880492       552.92           -3                  0        True\n",
       "32505140858       545.17            0                  0       False\n",
       "30983766334       545.07            0                  0       False"
      ]
     },
     "execution_count": 526,
     "metadata": {},
     "output_type": "execute_result"
    }
   ],
   "source": [
    "txn_bucket.sort_values('SALES_VALUE', ascending = False).head()"
   ]
  },
  {
   "cell_type": "code",
   "execution_count": 527,
   "id": "8195a5f3-5431-4667-8393-4a2511c29789",
   "metadata": {},
   "outputs": [
    {
     "data": {
      "text/plain": [
       "29.14"
      ]
     },
     "execution_count": 527,
     "metadata": {},
     "output_type": "execute_result"
    }
   ],
   "source": [
    "round(txn_bucket['SALES_VALUE'].mean(),2)"
   ]
  },
  {
   "cell_type": "code",
   "execution_count": 528,
   "id": "d5cb185c-56ad-4f5d-bb2c-687aba4aa425",
   "metadata": {},
   "outputs": [
    {
     "data": {
      "text/plain": [
       "Text(0.5, 1.0, 'Basket value boxplot')"
      ]
     },
     "execution_count": 528,
     "metadata": {},
     "output_type": "execute_result"
    },
    {
     "data": {
      "image/png": "[encoded data removed]",
      "text/plain": [
       "<Figure size 2500x500 with 1 Axes>"
      ]
     },
     "metadata": {},
     "output_type": "display_data"
    }
   ],
   "source": [
    "plt.figure(figsize=(25,5))\n",
    "sns.boxplot(x=txn_bucket['SALES_VALUE'])\n",
    "plt.title('Basket value boxplot', fontsize=20)"
   ]
  },
  {
   "cell_type": "code",
   "execution_count": 529,
   "id": "f74d70b2-e6bf-48c9-8f2b-9d5e01e4e5d7",
   "metadata": {},
   "outputs": [
    {
     "data": {
      "text/html": [
       "<div>\n",
       "<style scoped>\n",
       "    .dataframe tbody tr th:only-of-type {\n",
       "        vertical-align: middle;\n",
       "    }\n",
       "\n",
       "    .dataframe tbody tr th {\n",
       "        vertical-align: top;\n",
       "    }\n",
       "\n",
       "    .dataframe thead th {\n",
       "        text-align: right;\n",
       "    }\n",
       "</style>\n",
       "<table border=\"1\" class=\"dataframe\">\n",
       "  <thead>\n",
       "    <tr style=\"text-align: right;\">\n",
       "      <th></th>\n",
       "      <th>Sales_mean</th>\n",
       "      <th>COUPON_DISC_mean</th>\n",
       "      <th>COUPON_MATCH_DISC_mean</th>\n",
       "      <th>No_coupon</th>\n",
       "    </tr>\n",
       "    <tr>\n",
       "      <th>USE_COUPON</th>\n",
       "      <th></th>\n",
       "      <th></th>\n",
       "      <th></th>\n",
       "      <th></th>\n",
       "    </tr>\n",
       "  </thead>\n",
       "  <tbody>\n",
       "    <tr>\n",
       "      <th>False</th>\n",
       "      <td>26.795021</td>\n",
       "      <td>0.000000</td>\n",
       "      <td>-0.000019</td>\n",
       "      <td>260812</td>\n",
       "    </tr>\n",
       "    <tr>\n",
       "      <th>True</th>\n",
       "      <td>68.210833</td>\n",
       "      <td>-2.986536</td>\n",
       "      <td>-0.426748</td>\n",
       "      <td>15672</td>\n",
       "    </tr>\n",
       "  </tbody>\n",
       "</table>\n",
       "</div>"
      ],
      "text/plain": [
       "            Sales_mean  COUPON_DISC_mean  COUPON_MATCH_DISC_mean  No_coupon\n",
       "USE_COUPON                                                                 \n",
       "False        26.795021          0.000000               -0.000019     260812\n",
       "True         68.210833         -2.986536               -0.426748      15672"
      ]
     },
     "execution_count": 529,
     "metadata": {},
     "output_type": "execute_result"
    }
   ],
   "source": [
    "txn_bucket.groupby('USE_COUPON').aggregate(Sales_mean=('SALES_VALUE','mean'),\n",
    "                                            COUPON_DISC_mean=('COUPON_DISC','mean'),\n",
    "                                            COUPON_MATCH_DISC_mean =('COUPON_MATCH_DISC','mean'),\n",
    "                                            No_coupon=('SALES_VALUE','count')\n",
    "    \n",
    ")"
   ]
  },
  {
   "cell_type": "code",
   "execution_count": 530,
   "id": "1d90d890-1f7b-4908-8f78-dc69cc5d9254",
   "metadata": {},
   "outputs": [],
   "source": [
    "txn_desc=TRANSACTION_RAW.merge(right=txn_bucket,on='BASKET_ID',how='left')"
   ]
  },
  {
   "cell_type": "code",
   "execution_count": 531,
   "id": "9fdbe989-8a99-4d50-aa9a-567481e52e6f",
   "metadata": {},
   "outputs": [
    {
     "data": {
      "text/html": [
       "<div>\n",
       "<style scoped>\n",
       "    .dataframe tbody tr th:only-of-type {\n",
       "        vertical-align: middle;\n",
       "    }\n",
       "\n",
       "    .dataframe tbody tr th {\n",
       "        vertical-align: top;\n",
       "    }\n",
       "\n",
       "    .dataframe thead th {\n",
       "        text-align: right;\n",
       "    }\n",
       "</style>\n",
       "<table border=\"1\" class=\"dataframe\">\n",
       "  <thead>\n",
       "    <tr style=\"text-align: right;\">\n",
       "      <th></th>\n",
       "      <th>HOUSEHOLD_KEY</th>\n",
       "      <th>BASKET_ID</th>\n",
       "      <th>DAY</th>\n",
       "      <th>PRODUCT_ID</th>\n",
       "      <th>QUANTITY</th>\n",
       "      <th>SALES_VALUE_x</th>\n",
       "      <th>STORE_ID</th>\n",
       "      <th>RETAIL_DISC</th>\n",
       "      <th>TRANS_TIME</th>\n",
       "      <th>WEEK_NO</th>\n",
       "      <th>COUPON_DISC_x</th>\n",
       "      <th>COUPON_MATCH_DISC_x</th>\n",
       "      <th>DATE</th>\n",
       "      <th>SALES_VALUE_y</th>\n",
       "      <th>COUPON_DISC_y</th>\n",
       "      <th>COUPON_MATCH_DISC_y</th>\n",
       "      <th>USE_COUPON</th>\n",
       "    </tr>\n",
       "  </thead>\n",
       "  <tbody>\n",
       "    <tr>\n",
       "      <th>0</th>\n",
       "      <td>1370</td>\n",
       "      <td>35486432036</td>\n",
       "      <td>523</td>\n",
       "      <td>1085095</td>\n",
       "      <td>1</td>\n",
       "      <td>1.47</td>\n",
       "      <td>318</td>\n",
       "      <td>-0.49</td>\n",
       "      <td>1447</td>\n",
       "      <td>75</td>\n",
       "      <td>0</td>\n",
       "      <td>0</td>\n",
       "      <td>2021-06-07</td>\n",
       "      <td>133.12</td>\n",
       "      <td>0</td>\n",
       "      <td>0</td>\n",
       "      <td>False</td>\n",
       "    </tr>\n",
       "    <tr>\n",
       "      <th>1</th>\n",
       "      <td>1370</td>\n",
       "      <td>35486432036</td>\n",
       "      <td>523</td>\n",
       "      <td>1096343</td>\n",
       "      <td>2</td>\n",
       "      <td>2.50</td>\n",
       "      <td>318</td>\n",
       "      <td>-0.08</td>\n",
       "      <td>1447</td>\n",
       "      <td>75</td>\n",
       "      <td>0</td>\n",
       "      <td>0</td>\n",
       "      <td>2021-06-07</td>\n",
       "      <td>133.12</td>\n",
       "      <td>0</td>\n",
       "      <td>0</td>\n",
       "      <td>False</td>\n",
       "    </tr>\n",
       "    <tr>\n",
       "      <th>2</th>\n",
       "      <td>1370</td>\n",
       "      <td>35486432036</td>\n",
       "      <td>523</td>\n",
       "      <td>1099089</td>\n",
       "      <td>1</td>\n",
       "      <td>8.99</td>\n",
       "      <td>318</td>\n",
       "      <td>0.00</td>\n",
       "      <td>1447</td>\n",
       "      <td>75</td>\n",
       "      <td>0</td>\n",
       "      <td>0</td>\n",
       "      <td>2021-06-07</td>\n",
       "      <td>133.12</td>\n",
       "      <td>0</td>\n",
       "      <td>0</td>\n",
       "      <td>False</td>\n",
       "    </tr>\n",
       "    <tr>\n",
       "      <th>3</th>\n",
       "      <td>1370</td>\n",
       "      <td>35486432036</td>\n",
       "      <td>523</td>\n",
       "      <td>1105616</td>\n",
       "      <td>1</td>\n",
       "      <td>1.39</td>\n",
       "      <td>318</td>\n",
       "      <td>-0.10</td>\n",
       "      <td>1447</td>\n",
       "      <td>75</td>\n",
       "      <td>0</td>\n",
       "      <td>0</td>\n",
       "      <td>2021-06-07</td>\n",
       "      <td>133.12</td>\n",
       "      <td>0</td>\n",
       "      <td>0</td>\n",
       "      <td>False</td>\n",
       "    </tr>\n",
       "    <tr>\n",
       "      <th>4</th>\n",
       "      <td>1370</td>\n",
       "      <td>35486432036</td>\n",
       "      <td>523</td>\n",
       "      <td>1106523</td>\n",
       "      <td>1</td>\n",
       "      <td>2.22</td>\n",
       "      <td>318</td>\n",
       "      <td>0.00</td>\n",
       "      <td>1447</td>\n",
       "      <td>75</td>\n",
       "      <td>0</td>\n",
       "      <td>0</td>\n",
       "      <td>2021-06-07</td>\n",
       "      <td>133.12</td>\n",
       "      <td>0</td>\n",
       "      <td>0</td>\n",
       "      <td>False</td>\n",
       "    </tr>\n",
       "  </tbody>\n",
       "</table>\n",
       "</div>"
      ],
      "text/plain": [
       "   HOUSEHOLD_KEY    BASKET_ID  DAY  PRODUCT_ID  QUANTITY  SALES_VALUE_x  \\\n",
       "0           1370  35486432036  523     1085095         1           1.47   \n",
       "1           1370  35486432036  523     1096343         2           2.50   \n",
       "2           1370  35486432036  523     1099089         1           8.99   \n",
       "3           1370  35486432036  523     1105616         1           1.39   \n",
       "4           1370  35486432036  523     1106523         1           2.22   \n",
       "\n",
       "   STORE_ID  RETAIL_DISC  TRANS_TIME  WEEK_NO  COUPON_DISC_x  \\\n",
       "0       318        -0.49        1447       75              0   \n",
       "1       318        -0.08        1447       75              0   \n",
       "2       318         0.00        1447       75              0   \n",
       "3       318        -0.10        1447       75              0   \n",
       "4       318         0.00        1447       75              0   \n",
       "\n",
       "   COUPON_MATCH_DISC_x       DATE  SALES_VALUE_y  COUPON_DISC_y  \\\n",
       "0                    0 2021-06-07         133.12              0   \n",
       "1                    0 2021-06-07         133.12              0   \n",
       "2                    0 2021-06-07         133.12              0   \n",
       "3                    0 2021-06-07         133.12              0   \n",
       "4                    0 2021-06-07         133.12              0   \n",
       "\n",
       "   COUPON_MATCH_DISC_y  USE_COUPON  \n",
       "0                    0       False  \n",
       "1                    0       False  \n",
       "2                    0       False  \n",
       "3                    0       False  \n",
       "4                    0       False  "
      ]
     },
     "execution_count": 531,
     "metadata": {},
     "output_type": "execute_result"
    }
   ],
   "source": [
    "txn_desc.head()"
   ]
  },
  {
   "cell_type": "code",
   "execution_count": 532,
   "id": "7e8c6dc6-e188-4341-b065-edfb61083440",
   "metadata": {},
   "outputs": [
    {
     "data": {
      "text/html": [
       "<div>\n",
       "<style scoped>\n",
       "    .dataframe tbody tr th:only-of-type {\n",
       "        vertical-align: middle;\n",
       "    }\n",
       "\n",
       "    .dataframe tbody tr th {\n",
       "        vertical-align: top;\n",
       "    }\n",
       "\n",
       "    .dataframe thead th {\n",
       "        text-align: right;\n",
       "    }\n",
       "</style>\n",
       "<table border=\"1\" class=\"dataframe\">\n",
       "  <thead>\n",
       "    <tr style=\"text-align: right;\">\n",
       "      <th></th>\n",
       "      <th>PRODUCT_ID</th>\n",
       "      <th>MANUFACTURER</th>\n",
       "      <th>DEPARTMENT</th>\n",
       "      <th>BRAND</th>\n",
       "      <th>COMMODITY_DESC</th>\n",
       "      <th>SUB_COMMODITY_DESC</th>\n",
       "      <th>CURR_SIZE_OF_PRODUCT</th>\n",
       "    </tr>\n",
       "  </thead>\n",
       "  <tbody>\n",
       "    <tr>\n",
       "      <th>0</th>\n",
       "      <td>25671</td>\n",
       "      <td>2</td>\n",
       "      <td>GROCERY</td>\n",
       "      <td>National</td>\n",
       "      <td>FRZN ICE</td>\n",
       "      <td>ICE - CRUSHED/CUBED</td>\n",
       "      <td>22 LB</td>\n",
       "    </tr>\n",
       "    <tr>\n",
       "      <th>1</th>\n",
       "      <td>26081</td>\n",
       "      <td>2</td>\n",
       "      <td>MISC. TRANS.</td>\n",
       "      <td>National</td>\n",
       "      <td>NO COMMODITY DESCRIPTION</td>\n",
       "      <td>NO SUBCOMMODITY DESCRIPTION</td>\n",
       "      <td></td>\n",
       "    </tr>\n",
       "    <tr>\n",
       "      <th>2</th>\n",
       "      <td>26093</td>\n",
       "      <td>69</td>\n",
       "      <td>PASTRY</td>\n",
       "      <td>Private</td>\n",
       "      <td>BREAD</td>\n",
       "      <td>BREAD:ITALIAN/FRENCH</td>\n",
       "      <td></td>\n",
       "    </tr>\n",
       "    <tr>\n",
       "      <th>3</th>\n",
       "      <td>26190</td>\n",
       "      <td>69</td>\n",
       "      <td>GROCERY</td>\n",
       "      <td>Private</td>\n",
       "      <td>FRUIT - SHELF STABLE</td>\n",
       "      <td>APPLE SAUCE</td>\n",
       "      <td>50 OZ</td>\n",
       "    </tr>\n",
       "    <tr>\n",
       "      <th>4</th>\n",
       "      <td>26355</td>\n",
       "      <td>69</td>\n",
       "      <td>GROCERY</td>\n",
       "      <td>Private</td>\n",
       "      <td>COOKIES/CONES</td>\n",
       "      <td>SPECIALTY COOKIES</td>\n",
       "      <td>14 OZ</td>\n",
       "    </tr>\n",
       "  </tbody>\n",
       "</table>\n",
       "</div>"
      ],
      "text/plain": [
       "   PRODUCT_ID  MANUFACTURER    DEPARTMENT     BRAND            COMMODITY_DESC  \\\n",
       "0       25671             2       GROCERY  National                  FRZN ICE   \n",
       "1       26081             2  MISC. TRANS.  National  NO COMMODITY DESCRIPTION   \n",
       "2       26093            69        PASTRY   Private                     BREAD   \n",
       "3       26190            69       GROCERY   Private      FRUIT - SHELF STABLE   \n",
       "4       26355            69       GROCERY   Private             COOKIES/CONES   \n",
       "\n",
       "            SUB_COMMODITY_DESC CURR_SIZE_OF_PRODUCT  \n",
       "0          ICE - CRUSHED/CUBED                22 LB  \n",
       "1  NO SUBCOMMODITY DESCRIPTION                       \n",
       "2         BREAD:ITALIAN/FRENCH                       \n",
       "3                  APPLE SAUCE                50 OZ  \n",
       "4            SPECIALTY COOKIES                14 OZ  "
      ]
     },
     "execution_count": 532,
     "metadata": {},
     "output_type": "execute_result"
    }
   ],
   "source": [
    "PRODUCT_RAW.head()"
   ]
  },
  {
   "cell_type": "code",
   "execution_count": 533,
   "id": "8b419d09-b2db-4467-a773-4ed362227a37",
   "metadata": {},
   "outputs": [],
   "source": [
    "txn_desc=txn_desc.merge(right=PRODUCT_RAW,on='PRODUCT_ID',how='left')"
   ]
  },
  {
   "cell_type": "code",
   "execution_count": 534,
   "id": "fd7e7ffe-9d44-40ec-8f61-630e20cf0f64",
   "metadata": {},
   "outputs": [
    {
     "data": {
      "text/html": [
       "<div>\n",
       "<style scoped>\n",
       "    .dataframe tbody tr th:only-of-type {\n",
       "        vertical-align: middle;\n",
       "    }\n",
       "\n",
       "    .dataframe tbody tr th {\n",
       "        vertical-align: top;\n",
       "    }\n",
       "\n",
       "    .dataframe thead th {\n",
       "        text-align: right;\n",
       "    }\n",
       "</style>\n",
       "<table border=\"1\" class=\"dataframe\">\n",
       "  <thead>\n",
       "    <tr style=\"text-align: right;\">\n",
       "      <th></th>\n",
       "      <th>HOUSEHOLD_KEY</th>\n",
       "      <th>BASKET_ID</th>\n",
       "      <th>DAY</th>\n",
       "      <th>PRODUCT_ID</th>\n",
       "      <th>QUANTITY</th>\n",
       "      <th>SALES_VALUE_x</th>\n",
       "      <th>STORE_ID</th>\n",
       "      <th>RETAIL_DISC</th>\n",
       "      <th>TRANS_TIME</th>\n",
       "      <th>WEEK_NO</th>\n",
       "      <th>...</th>\n",
       "      <th>SALES_VALUE_y</th>\n",
       "      <th>COUPON_DISC_y</th>\n",
       "      <th>COUPON_MATCH_DISC_y</th>\n",
       "      <th>USE_COUPON</th>\n",
       "      <th>MANUFACTURER</th>\n",
       "      <th>DEPARTMENT</th>\n",
       "      <th>BRAND</th>\n",
       "      <th>COMMODITY_DESC</th>\n",
       "      <th>SUB_COMMODITY_DESC</th>\n",
       "      <th>CURR_SIZE_OF_PRODUCT</th>\n",
       "    </tr>\n",
       "  </thead>\n",
       "  <tbody>\n",
       "    <tr>\n",
       "      <th>0</th>\n",
       "      <td>1370</td>\n",
       "      <td>35486432036</td>\n",
       "      <td>523</td>\n",
       "      <td>1085095</td>\n",
       "      <td>1</td>\n",
       "      <td>1.47</td>\n",
       "      <td>318</td>\n",
       "      <td>-0.49</td>\n",
       "      <td>1447</td>\n",
       "      <td>75</td>\n",
       "      <td>...</td>\n",
       "      <td>133.12</td>\n",
       "      <td>0</td>\n",
       "      <td>0</td>\n",
       "      <td>False</td>\n",
       "      <td>236</td>\n",
       "      <td>GROCERY</td>\n",
       "      <td>National</td>\n",
       "      <td>REFRGRATD DOUGH PRODUCTS</td>\n",
       "      <td>REFRIGERATED SPECILATY ROLLS</td>\n",
       "      <td>12.4 OZ</td>\n",
       "    </tr>\n",
       "    <tr>\n",
       "      <th>1</th>\n",
       "      <td>1370</td>\n",
       "      <td>35486432036</td>\n",
       "      <td>523</td>\n",
       "      <td>1096343</td>\n",
       "      <td>2</td>\n",
       "      <td>2.50</td>\n",
       "      <td>318</td>\n",
       "      <td>-0.08</td>\n",
       "      <td>1447</td>\n",
       "      <td>75</td>\n",
       "      <td>...</td>\n",
       "      <td>133.12</td>\n",
       "      <td>0</td>\n",
       "      <td>0</td>\n",
       "      <td>False</td>\n",
       "      <td>69</td>\n",
       "      <td>GROCERY</td>\n",
       "      <td>Private</td>\n",
       "      <td>FRZN VEGETABLE/VEG DSH</td>\n",
       "      <td>FRZN BAGGED VEGETABLES - PLAIN</td>\n",
       "      <td>16 OZ</td>\n",
       "    </tr>\n",
       "    <tr>\n",
       "      <th>2</th>\n",
       "      <td>1370</td>\n",
       "      <td>35486432036</td>\n",
       "      <td>523</td>\n",
       "      <td>1099089</td>\n",
       "      <td>1</td>\n",
       "      <td>8.99</td>\n",
       "      <td>318</td>\n",
       "      <td>0.00</td>\n",
       "      <td>1447</td>\n",
       "      <td>75</td>\n",
       "      <td>...</td>\n",
       "      <td>133.12</td>\n",
       "      <td>0</td>\n",
       "      <td>0</td>\n",
       "      <td>False</td>\n",
       "      <td>69</td>\n",
       "      <td>MEAT-PCKGD</td>\n",
       "      <td>Private</td>\n",
       "      <td>MEAT - MISC</td>\n",
       "      <td>BREAST - BONELESS(IQF)</td>\n",
       "      <td>3 LB</td>\n",
       "    </tr>\n",
       "    <tr>\n",
       "      <th>3</th>\n",
       "      <td>1370</td>\n",
       "      <td>35486432036</td>\n",
       "      <td>523</td>\n",
       "      <td>1105616</td>\n",
       "      <td>1</td>\n",
       "      <td>1.39</td>\n",
       "      <td>318</td>\n",
       "      <td>-0.10</td>\n",
       "      <td>1447</td>\n",
       "      <td>75</td>\n",
       "      <td>...</td>\n",
       "      <td>133.12</td>\n",
       "      <td>0</td>\n",
       "      <td>0</td>\n",
       "      <td>False</td>\n",
       "      <td>69</td>\n",
       "      <td>GROCERY</td>\n",
       "      <td>Private</td>\n",
       "      <td>BAKED BREAD/BUNS/ROLLS</td>\n",
       "      <td>HAMBURGER BUNS</td>\n",
       "      <td>21 OZ</td>\n",
       "    </tr>\n",
       "    <tr>\n",
       "      <th>4</th>\n",
       "      <td>1370</td>\n",
       "      <td>35486432036</td>\n",
       "      <td>523</td>\n",
       "      <td>1106523</td>\n",
       "      <td>1</td>\n",
       "      <td>2.22</td>\n",
       "      <td>318</td>\n",
       "      <td>0.00</td>\n",
       "      <td>1447</td>\n",
       "      <td>75</td>\n",
       "      <td>...</td>\n",
       "      <td>133.12</td>\n",
       "      <td>0</td>\n",
       "      <td>0</td>\n",
       "      <td>False</td>\n",
       "      <td>69</td>\n",
       "      <td>GROCERY</td>\n",
       "      <td>Private</td>\n",
       "      <td>FLUID MILK PRODUCTS</td>\n",
       "      <td>FLUID MILK WHITE ONLY</td>\n",
       "      <td>1 GA</td>\n",
       "    </tr>\n",
       "  </tbody>\n",
       "</table>\n",
       "<p>5 rows × 23 columns</p>\n",
       "</div>"
      ],
      "text/plain": [
       "   HOUSEHOLD_KEY    BASKET_ID  DAY  PRODUCT_ID  QUANTITY  SALES_VALUE_x  \\\n",
       "0           1370  35486432036  523     1085095         1           1.47   \n",
       "1           1370  35486432036  523     1096343         2           2.50   \n",
       "2           1370  35486432036  523     1099089         1           8.99   \n",
       "3           1370  35486432036  523     1105616         1           1.39   \n",
       "4           1370  35486432036  523     1106523         1           2.22   \n",
       "\n",
       "   STORE_ID  RETAIL_DISC  TRANS_TIME  WEEK_NO  ...  SALES_VALUE_y  \\\n",
       "0       318        -0.49        1447       75  ...         133.12   \n",
       "1       318        -0.08        1447       75  ...         133.12   \n",
       "2       318         0.00        1447       75  ...         133.12   \n",
       "3       318        -0.10        1447       75  ...         133.12   \n",
       "4       318         0.00        1447       75  ...         133.12   \n",
       "\n",
       "   COUPON_DISC_y COUPON_MATCH_DISC_y  USE_COUPON  MANUFACTURER  DEPARTMENT  \\\n",
       "0              0                   0       False           236     GROCERY   \n",
       "1              0                   0       False            69     GROCERY   \n",
       "2              0                   0       False            69  MEAT-PCKGD   \n",
       "3              0                   0       False            69     GROCERY   \n",
       "4              0                   0       False            69     GROCERY   \n",
       "\n",
       "      BRAND            COMMODITY_DESC              SUB_COMMODITY_DESC  \\\n",
       "0  National  REFRGRATD DOUGH PRODUCTS    REFRIGERATED SPECILATY ROLLS   \n",
       "1   Private    FRZN VEGETABLE/VEG DSH  FRZN BAGGED VEGETABLES - PLAIN   \n",
       "2   Private               MEAT - MISC          BREAST - BONELESS(IQF)   \n",
       "3   Private    BAKED BREAD/BUNS/ROLLS                  HAMBURGER BUNS   \n",
       "4   Private       FLUID MILK PRODUCTS           FLUID MILK WHITE ONLY   \n",
       "\n",
       "  CURR_SIZE_OF_PRODUCT  \n",
       "0              12.4 OZ  \n",
       "1                16 OZ  \n",
       "2                 3 LB  \n",
       "3                21 OZ  \n",
       "4                 1 GA  \n",
       "\n",
       "[5 rows x 23 columns]"
      ]
     },
     "execution_count": 534,
     "metadata": {},
     "output_type": "execute_result"
    }
   ],
   "source": [
    "txn_desc.head()"
   ]
  },
  {
   "cell_type": "code",
   "execution_count": 535,
   "id": "de2b39b5-eb38-4d7c-95aa-ad7e94586556",
   "metadata": {},
   "outputs": [],
   "source": [
    "txn_desc.drop(['SALES_VALUE_x','SALES_VALUE_y','COUPON_DISC_y'],axis=1,inplace=True)"
   ]
  },
  {
   "cell_type": "code",
   "execution_count": 536,
   "id": "d1a9c8ba-e23e-4c4c-bb51-566a0c8cc962",
   "metadata": {},
   "outputs": [
    {
     "data": {
      "text/html": [
       "<div>\n",
       "<style scoped>\n",
       "    .dataframe tbody tr th:only-of-type {\n",
       "        vertical-align: middle;\n",
       "    }\n",
       "\n",
       "    .dataframe tbody tr th {\n",
       "        vertical-align: top;\n",
       "    }\n",
       "\n",
       "    .dataframe thead th {\n",
       "        text-align: right;\n",
       "    }\n",
       "</style>\n",
       "<table border=\"1\" class=\"dataframe\">\n",
       "  <thead>\n",
       "    <tr style=\"text-align: right;\">\n",
       "      <th></th>\n",
       "      <th>HOUSEHOLD_KEY</th>\n",
       "      <th>BASKET_ID</th>\n",
       "      <th>DAY</th>\n",
       "      <th>PRODUCT_ID</th>\n",
       "      <th>QUANTITY</th>\n",
       "      <th>STORE_ID</th>\n",
       "      <th>RETAIL_DISC</th>\n",
       "      <th>TRANS_TIME</th>\n",
       "      <th>WEEK_NO</th>\n",
       "      <th>COUPON_DISC_x</th>\n",
       "      <th>COUPON_MATCH_DISC_x</th>\n",
       "      <th>DATE</th>\n",
       "      <th>COUPON_MATCH_DISC_y</th>\n",
       "      <th>USE_COUPON</th>\n",
       "      <th>MANUFACTURER</th>\n",
       "      <th>DEPARTMENT</th>\n",
       "      <th>BRAND</th>\n",
       "      <th>COMMODITY_DESC</th>\n",
       "      <th>SUB_COMMODITY_DESC</th>\n",
       "      <th>CURR_SIZE_OF_PRODUCT</th>\n",
       "    </tr>\n",
       "  </thead>\n",
       "  <tbody>\n",
       "    <tr>\n",
       "      <th>0</th>\n",
       "      <td>1370</td>\n",
       "      <td>35486432036</td>\n",
       "      <td>523</td>\n",
       "      <td>1085095</td>\n",
       "      <td>1</td>\n",
       "      <td>318</td>\n",
       "      <td>-0.49</td>\n",
       "      <td>1447</td>\n",
       "      <td>75</td>\n",
       "      <td>0</td>\n",
       "      <td>0</td>\n",
       "      <td>2021-06-07</td>\n",
       "      <td>0</td>\n",
       "      <td>False</td>\n",
       "      <td>236</td>\n",
       "      <td>GROCERY</td>\n",
       "      <td>National</td>\n",
       "      <td>REFRGRATD DOUGH PRODUCTS</td>\n",
       "      <td>REFRIGERATED SPECILATY ROLLS</td>\n",
       "      <td>12.4 OZ</td>\n",
       "    </tr>\n",
       "    <tr>\n",
       "      <th>1</th>\n",
       "      <td>1370</td>\n",
       "      <td>35486432036</td>\n",
       "      <td>523</td>\n",
       "      <td>1096343</td>\n",
       "      <td>2</td>\n",
       "      <td>318</td>\n",
       "      <td>-0.08</td>\n",
       "      <td>1447</td>\n",
       "      <td>75</td>\n",
       "      <td>0</td>\n",
       "      <td>0</td>\n",
       "      <td>2021-06-07</td>\n",
       "      <td>0</td>\n",
       "      <td>False</td>\n",
       "      <td>69</td>\n",
       "      <td>GROCERY</td>\n",
       "      <td>Private</td>\n",
       "      <td>FRZN VEGETABLE/VEG DSH</td>\n",
       "      <td>FRZN BAGGED VEGETABLES - PLAIN</td>\n",
       "      <td>16 OZ</td>\n",
       "    </tr>\n",
       "    <tr>\n",
       "      <th>2</th>\n",
       "      <td>1370</td>\n",
       "      <td>35486432036</td>\n",
       "      <td>523</td>\n",
       "      <td>1099089</td>\n",
       "      <td>1</td>\n",
       "      <td>318</td>\n",
       "      <td>0.00</td>\n",
       "      <td>1447</td>\n",
       "      <td>75</td>\n",
       "      <td>0</td>\n",
       "      <td>0</td>\n",
       "      <td>2021-06-07</td>\n",
       "      <td>0</td>\n",
       "      <td>False</td>\n",
       "      <td>69</td>\n",
       "      <td>MEAT-PCKGD</td>\n",
       "      <td>Private</td>\n",
       "      <td>MEAT - MISC</td>\n",
       "      <td>BREAST - BONELESS(IQF)</td>\n",
       "      <td>3 LB</td>\n",
       "    </tr>\n",
       "    <tr>\n",
       "      <th>3</th>\n",
       "      <td>1370</td>\n",
       "      <td>35486432036</td>\n",
       "      <td>523</td>\n",
       "      <td>1105616</td>\n",
       "      <td>1</td>\n",
       "      <td>318</td>\n",
       "      <td>-0.10</td>\n",
       "      <td>1447</td>\n",
       "      <td>75</td>\n",
       "      <td>0</td>\n",
       "      <td>0</td>\n",
       "      <td>2021-06-07</td>\n",
       "      <td>0</td>\n",
       "      <td>False</td>\n",
       "      <td>69</td>\n",
       "      <td>GROCERY</td>\n",
       "      <td>Private</td>\n",
       "      <td>BAKED BREAD/BUNS/ROLLS</td>\n",
       "      <td>HAMBURGER BUNS</td>\n",
       "      <td>21 OZ</td>\n",
       "    </tr>\n",
       "    <tr>\n",
       "      <th>4</th>\n",
       "      <td>1370</td>\n",
       "      <td>35486432036</td>\n",
       "      <td>523</td>\n",
       "      <td>1106523</td>\n",
       "      <td>1</td>\n",
       "      <td>318</td>\n",
       "      <td>0.00</td>\n",
       "      <td>1447</td>\n",
       "      <td>75</td>\n",
       "      <td>0</td>\n",
       "      <td>0</td>\n",
       "      <td>2021-06-07</td>\n",
       "      <td>0</td>\n",
       "      <td>False</td>\n",
       "      <td>69</td>\n",
       "      <td>GROCERY</td>\n",
       "      <td>Private</td>\n",
       "      <td>FLUID MILK PRODUCTS</td>\n",
       "      <td>FLUID MILK WHITE ONLY</td>\n",
       "      <td>1 GA</td>\n",
       "    </tr>\n",
       "  </tbody>\n",
       "</table>\n",
       "</div>"
      ],
      "text/plain": [
       "   HOUSEHOLD_KEY    BASKET_ID  DAY  PRODUCT_ID  QUANTITY  STORE_ID  \\\n",
       "0           1370  35486432036  523     1085095         1       318   \n",
       "1           1370  35486432036  523     1096343         2       318   \n",
       "2           1370  35486432036  523     1099089         1       318   \n",
       "3           1370  35486432036  523     1105616         1       318   \n",
       "4           1370  35486432036  523     1106523         1       318   \n",
       "\n",
       "   RETAIL_DISC  TRANS_TIME  WEEK_NO  COUPON_DISC_x  COUPON_MATCH_DISC_x  \\\n",
       "0        -0.49        1447       75              0                    0   \n",
       "1        -0.08        1447       75              0                    0   \n",
       "2         0.00        1447       75              0                    0   \n",
       "3        -0.10        1447       75              0                    0   \n",
       "4         0.00        1447       75              0                    0   \n",
       "\n",
       "        DATE  COUPON_MATCH_DISC_y  USE_COUPON  MANUFACTURER  DEPARTMENT  \\\n",
       "0 2021-06-07                    0       False           236     GROCERY   \n",
       "1 2021-06-07                    0       False            69     GROCERY   \n",
       "2 2021-06-07                    0       False            69  MEAT-PCKGD   \n",
       "3 2021-06-07                    0       False            69     GROCERY   \n",
       "4 2021-06-07                    0       False            69     GROCERY   \n",
       "\n",
       "      BRAND            COMMODITY_DESC              SUB_COMMODITY_DESC  \\\n",
       "0  National  REFRGRATD DOUGH PRODUCTS    REFRIGERATED SPECILATY ROLLS   \n",
       "1   Private    FRZN VEGETABLE/VEG DSH  FRZN BAGGED VEGETABLES - PLAIN   \n",
       "2   Private               MEAT - MISC          BREAST - BONELESS(IQF)   \n",
       "3   Private    BAKED BREAD/BUNS/ROLLS                  HAMBURGER BUNS   \n",
       "4   Private       FLUID MILK PRODUCTS           FLUID MILK WHITE ONLY   \n",
       "\n",
       "  CURR_SIZE_OF_PRODUCT  \n",
       "0              12.4 OZ  \n",
       "1                16 OZ  \n",
       "2                 3 LB  \n",
       "3                21 OZ  \n",
       "4                 1 GA  "
      ]
     },
     "execution_count": 536,
     "metadata": {},
     "output_type": "execute_result"
    }
   ],
   "source": [
    "txn_desc.head()"
   ]
  },
  {
   "cell_type": "code",
   "execution_count": 537,
   "id": "403ed86d-7a90-4dc1-851f-f9efb5ffb751",
   "metadata": {},
   "outputs": [],
   "source": [
    "COMMODITY_coupon=txn_desc.groupby('COMMODITY_DESC').aggregate(total_quantity=('QUANTITY','count'),\n",
    "                                                              use_coupon=('USE_COUPON','sum'),\n",
    "                                                              Coupon=('COUPON_DISC_x','sum'))"
   ]
  },
  {
   "cell_type": "code",
   "execution_count": 538,
   "id": "7f5393a2-738b-469d-90c4-d33279b860ad",
   "metadata": {},
   "outputs": [
    {
     "data": {
      "text/html": [
       "<div>\n",
       "<style scoped>\n",
       "    .dataframe tbody tr th:only-of-type {\n",
       "        vertical-align: middle;\n",
       "    }\n",
       "\n",
       "    .dataframe tbody tr th {\n",
       "        vertical-align: top;\n",
       "    }\n",
       "\n",
       "    .dataframe thead th {\n",
       "        text-align: right;\n",
       "    }\n",
       "</style>\n",
       "<table border=\"1\" class=\"dataframe\">\n",
       "  <thead>\n",
       "    <tr style=\"text-align: right;\">\n",
       "      <th></th>\n",
       "      <th>total_quantity</th>\n",
       "      <th>use_coupon</th>\n",
       "      <th>Coupon</th>\n",
       "    </tr>\n",
       "    <tr>\n",
       "      <th>COMMODITY_DESC</th>\n",
       "      <th></th>\n",
       "      <th></th>\n",
       "      <th></th>\n",
       "    </tr>\n",
       "  </thead>\n",
       "  <tbody>\n",
       "    <tr>\n",
       "      <th></th>\n",
       "      <td>7839</td>\n",
       "      <td>6019</td>\n",
       "      <td>-10596</td>\n",
       "    </tr>\n",
       "    <tr>\n",
       "      <th>(CORP USE ONLY)</th>\n",
       "      <td>61</td>\n",
       "      <td>5</td>\n",
       "      <td>0</td>\n",
       "    </tr>\n",
       "    <tr>\n",
       "      <th>ADULT INCONTINENCE</th>\n",
       "      <td>553</td>\n",
       "      <td>87</td>\n",
       "      <td>-37</td>\n",
       "    </tr>\n",
       "    <tr>\n",
       "      <th>AIR CARE</th>\n",
       "      <td>5556</td>\n",
       "      <td>1320</td>\n",
       "      <td>-929</td>\n",
       "    </tr>\n",
       "    <tr>\n",
       "      <th>ANALGESICS</th>\n",
       "      <td>4769</td>\n",
       "      <td>692</td>\n",
       "      <td>-13</td>\n",
       "    </tr>\n",
       "  </tbody>\n",
       "</table>\n",
       "</div>"
      ],
      "text/plain": [
       "                    total_quantity  use_coupon  Coupon\n",
       "COMMODITY_DESC                                        \n",
       "                              7839        6019  -10596\n",
       "(CORP USE ONLY)                 61           5       0\n",
       "ADULT INCONTINENCE             553          87     -37\n",
       "AIR CARE                      5556        1320    -929\n",
       "ANALGESICS                    4769         692     -13"
      ]
     },
     "execution_count": 538,
     "metadata": {},
     "output_type": "execute_result"
    }
   ],
   "source": [
    "COMMODITY_coupon.head()"
   ]
  },
  {
   "cell_type": "code",
   "execution_count": 539,
   "id": "8d6edccd-7667-4369-a9e4-263285c23916",
   "metadata": {},
   "outputs": [],
   "source": [
    "COMMODITY_coupon['Coupon%']=round(COMMODITY_coupon['use_coupon']/COMMODITY_coupon['total_quantity']*100,2)"
   ]
  },
  {
   "cell_type": "code",
   "execution_count": 540,
   "id": "3e431b22-662f-42ca-8deb-73720c07d311",
   "metadata": {},
   "outputs": [
    {
     "data": {
      "text/html": [
       "<div>\n",
       "<style scoped>\n",
       "    .dataframe tbody tr th:only-of-type {\n",
       "        vertical-align: middle;\n",
       "    }\n",
       "\n",
       "    .dataframe tbody tr th {\n",
       "        vertical-align: top;\n",
       "    }\n",
       "\n",
       "    .dataframe thead th {\n",
       "        text-align: right;\n",
       "    }\n",
       "</style>\n",
       "<table border=\"1\" class=\"dataframe\">\n",
       "  <thead>\n",
       "    <tr style=\"text-align: right;\">\n",
       "      <th></th>\n",
       "      <th>total_quantity</th>\n",
       "      <th>use_coupon</th>\n",
       "      <th>Coupon</th>\n",
       "      <th>Coupon%</th>\n",
       "    </tr>\n",
       "    <tr>\n",
       "      <th>COMMODITY_DESC</th>\n",
       "      <th></th>\n",
       "      <th></th>\n",
       "      <th></th>\n",
       "      <th></th>\n",
       "    </tr>\n",
       "  </thead>\n",
       "  <tbody>\n",
       "    <tr>\n",
       "      <th></th>\n",
       "      <td>7839</td>\n",
       "      <td>6019</td>\n",
       "      <td>-10596</td>\n",
       "      <td>76.78</td>\n",
       "    </tr>\n",
       "    <tr>\n",
       "      <th>BABY FOODS</th>\n",
       "      <td>20356</td>\n",
       "      <td>5648</td>\n",
       "      <td>-349</td>\n",
       "      <td>27.75</td>\n",
       "    </tr>\n",
       "    <tr>\n",
       "      <th>RESTRICTED DIET</th>\n",
       "      <td>51</td>\n",
       "      <td>13</td>\n",
       "      <td>0</td>\n",
       "      <td>25.49</td>\n",
       "    </tr>\n",
       "    <tr>\n",
       "      <th>DIAPERS &amp; DISPOSABLES</th>\n",
       "      <td>5008</td>\n",
       "      <td>1216</td>\n",
       "      <td>-1110</td>\n",
       "      <td>24.28</td>\n",
       "    </tr>\n",
       "    <tr>\n",
       "      <th>AIR CARE</th>\n",
       "      <td>5556</td>\n",
       "      <td>1320</td>\n",
       "      <td>-929</td>\n",
       "      <td>23.76</td>\n",
       "    </tr>\n",
       "  </tbody>\n",
       "</table>\n",
       "</div>"
      ],
      "text/plain": [
       "                       total_quantity  use_coupon  Coupon  Coupon%\n",
       "COMMODITY_DESC                                                    \n",
       "                                 7839        6019  -10596    76.78\n",
       "BABY FOODS                      20356        5648    -349    27.75\n",
       "RESTRICTED DIET                    51          13       0    25.49\n",
       "DIAPERS & DISPOSABLES            5008        1216   -1110    24.28\n",
       "AIR CARE                         5556        1320    -929    23.76"
      ]
     },
     "execution_count": 540,
     "metadata": {},
     "output_type": "execute_result"
    }
   ],
   "source": [
    "COMMODITY_coupon.sort_values(by='Coupon%',ascending=False).head()"
   ]
  },
  {
   "cell_type": "code",
   "execution_count": 541,
   "id": "1bf7fafd-fe1c-497e-a30c-5cac922b641f",
   "metadata": {},
   "outputs": [
    {
     "data": {
      "text/html": [
       "<div>\n",
       "<style scoped>\n",
       "    .dataframe tbody tr th:only-of-type {\n",
       "        vertical-align: middle;\n",
       "    }\n",
       "\n",
       "    .dataframe tbody tr th {\n",
       "        vertical-align: top;\n",
       "    }\n",
       "\n",
       "    .dataframe thead th {\n",
       "        text-align: right;\n",
       "    }\n",
       "</style>\n",
       "<table border=\"1\" class=\"dataframe\">\n",
       "  <thead>\n",
       "    <tr style=\"text-align: right;\">\n",
       "      <th></th>\n",
       "      <th>HOUSEHOLD_KEY</th>\n",
       "      <th>BASKET_ID</th>\n",
       "      <th>DAY</th>\n",
       "      <th>PRODUCT_ID</th>\n",
       "      <th>QUANTITY</th>\n",
       "      <th>SALES_VALUE</th>\n",
       "      <th>STORE_ID</th>\n",
       "      <th>RETAIL_DISC</th>\n",
       "      <th>TRANS_TIME</th>\n",
       "      <th>WEEK_NO</th>\n",
       "      <th>COUPON_DISC</th>\n",
       "      <th>COUPON_MATCH_DISC</th>\n",
       "      <th>DATE</th>\n",
       "    </tr>\n",
       "  </thead>\n",
       "  <tbody>\n",
       "    <tr>\n",
       "      <th>0</th>\n",
       "      <td>1370</td>\n",
       "      <td>35486432036</td>\n",
       "      <td>523</td>\n",
       "      <td>1085095</td>\n",
       "      <td>1</td>\n",
       "      <td>1.47</td>\n",
       "      <td>318</td>\n",
       "      <td>-0.49</td>\n",
       "      <td>1447</td>\n",
       "      <td>75</td>\n",
       "      <td>0</td>\n",
       "      <td>0</td>\n",
       "      <td>2021-06-07</td>\n",
       "    </tr>\n",
       "    <tr>\n",
       "      <th>1</th>\n",
       "      <td>1370</td>\n",
       "      <td>35486432036</td>\n",
       "      <td>523</td>\n",
       "      <td>1096343</td>\n",
       "      <td>2</td>\n",
       "      <td>2.50</td>\n",
       "      <td>318</td>\n",
       "      <td>-0.08</td>\n",
       "      <td>1447</td>\n",
       "      <td>75</td>\n",
       "      <td>0</td>\n",
       "      <td>0</td>\n",
       "      <td>2021-06-07</td>\n",
       "    </tr>\n",
       "    <tr>\n",
       "      <th>2</th>\n",
       "      <td>1370</td>\n",
       "      <td>35486432036</td>\n",
       "      <td>523</td>\n",
       "      <td>1099089</td>\n",
       "      <td>1</td>\n",
       "      <td>8.99</td>\n",
       "      <td>318</td>\n",
       "      <td>0.00</td>\n",
       "      <td>1447</td>\n",
       "      <td>75</td>\n",
       "      <td>0</td>\n",
       "      <td>0</td>\n",
       "      <td>2021-06-07</td>\n",
       "    </tr>\n",
       "    <tr>\n",
       "      <th>3</th>\n",
       "      <td>1370</td>\n",
       "      <td>35486432036</td>\n",
       "      <td>523</td>\n",
       "      <td>1105616</td>\n",
       "      <td>1</td>\n",
       "      <td>1.39</td>\n",
       "      <td>318</td>\n",
       "      <td>-0.10</td>\n",
       "      <td>1447</td>\n",
       "      <td>75</td>\n",
       "      <td>0</td>\n",
       "      <td>0</td>\n",
       "      <td>2021-06-07</td>\n",
       "    </tr>\n",
       "    <tr>\n",
       "      <th>4</th>\n",
       "      <td>1370</td>\n",
       "      <td>35486432036</td>\n",
       "      <td>523</td>\n",
       "      <td>1106523</td>\n",
       "      <td>1</td>\n",
       "      <td>2.22</td>\n",
       "      <td>318</td>\n",
       "      <td>0.00</td>\n",
       "      <td>1447</td>\n",
       "      <td>75</td>\n",
       "      <td>0</td>\n",
       "      <td>0</td>\n",
       "      <td>2021-06-07</td>\n",
       "    </tr>\n",
       "  </tbody>\n",
       "</table>\n",
       "</div>"
      ],
      "text/plain": [
       "   HOUSEHOLD_KEY    BASKET_ID  DAY  PRODUCT_ID  QUANTITY  SALES_VALUE  \\\n",
       "0           1370  35486432036  523     1085095         1         1.47   \n",
       "1           1370  35486432036  523     1096343         2         2.50   \n",
       "2           1370  35486432036  523     1099089         1         8.99   \n",
       "3           1370  35486432036  523     1105616         1         1.39   \n",
       "4           1370  35486432036  523     1106523         1         2.22   \n",
       "\n",
       "   STORE_ID  RETAIL_DISC  TRANS_TIME  WEEK_NO  COUPON_DISC  COUPON_MATCH_DISC  \\\n",
       "0       318        -0.49        1447       75            0                  0   \n",
       "1       318        -0.08        1447       75            0                  0   \n",
       "2       318         0.00        1447       75            0                  0   \n",
       "3       318        -0.10        1447       75            0                  0   \n",
       "4       318         0.00        1447       75            0                  0   \n",
       "\n",
       "        DATE  \n",
       "0 2021-06-07  \n",
       "1 2021-06-07  \n",
       "2 2021-06-07  \n",
       "3 2021-06-07  \n",
       "4 2021-06-07  "
      ]
     },
     "execution_count": 541,
     "metadata": {},
     "output_type": "execute_result"
    }
   ],
   "source": [
    "TRANSACTION_RAW.head()"
   ]
  },
  {
   "cell_type": "code",
   "execution_count": 542,
   "id": "afee8d9c-1bc7-471c-bc1f-c240cfc75749",
   "metadata": {},
   "outputs": [
    {
     "data": {
      "text/html": [
       "<div>\n",
       "<style scoped>\n",
       "    .dataframe tbody tr th:only-of-type {\n",
       "        vertical-align: middle;\n",
       "    }\n",
       "\n",
       "    .dataframe tbody tr th {\n",
       "        vertical-align: top;\n",
       "    }\n",
       "\n",
       "    .dataframe thead th {\n",
       "        text-align: right;\n",
       "    }\n",
       "</style>\n",
       "<table border=\"1\" class=\"dataframe\">\n",
       "  <thead>\n",
       "    <tr style=\"text-align: right;\">\n",
       "      <th></th>\n",
       "      <th></th>\n",
       "      <th></th>\n",
       "      <th>SALES_VALUE</th>\n",
       "      <th>RETAIL_DISC</th>\n",
       "      <th>COUPON_DISC</th>\n",
       "      <th>COUPON_MATCH_DISC</th>\n",
       "    </tr>\n",
       "    <tr>\n",
       "      <th>HOUSEHOLD_KEY</th>\n",
       "      <th>WEEK_NO</th>\n",
       "      <th>DAY</th>\n",
       "      <th></th>\n",
       "      <th></th>\n",
       "      <th></th>\n",
       "      <th></th>\n",
       "    </tr>\n",
       "  </thead>\n",
       "  <tbody>\n",
       "    <tr>\n",
       "      <th rowspan=\"5\" valign=\"top\">1</th>\n",
       "      <th>8</th>\n",
       "      <th>51</th>\n",
       "      <td>78.66</td>\n",
       "      <td>-16.54</td>\n",
       "      <td>-1</td>\n",
       "      <td>0</td>\n",
       "    </tr>\n",
       "    <tr>\n",
       "      <th>10</th>\n",
       "      <th>67</th>\n",
       "      <td>41.10</td>\n",
       "      <td>-8.59</td>\n",
       "      <td>0</td>\n",
       "      <td>0</td>\n",
       "    </tr>\n",
       "    <tr>\n",
       "      <th>13</th>\n",
       "      <th>88</th>\n",
       "      <td>26.90</td>\n",
       "      <td>-6.72</td>\n",
       "      <td>0</td>\n",
       "      <td>0</td>\n",
       "    </tr>\n",
       "    <tr>\n",
       "      <th>14</th>\n",
       "      <th>94</th>\n",
       "      <td>63.43</td>\n",
       "      <td>-11.08</td>\n",
       "      <td>-2</td>\n",
       "      <td>-1</td>\n",
       "    </tr>\n",
       "    <tr>\n",
       "      <th>15</th>\n",
       "      <th>101</th>\n",
       "      <td>53.45</td>\n",
       "      <td>-16.42</td>\n",
       "      <td>0</td>\n",
       "      <td>0</td>\n",
       "    </tr>\n",
       "    <tr>\n",
       "      <th>...</th>\n",
       "      <th>...</th>\n",
       "      <th>...</th>\n",
       "      <td>...</td>\n",
       "      <td>...</td>\n",
       "      <td>...</td>\n",
       "      <td>...</td>\n",
       "    </tr>\n",
       "    <tr>\n",
       "      <th rowspan=\"5\" valign=\"top\">2500</th>\n",
       "      <th rowspan=\"2\" valign=\"top\">100</th>\n",
       "      <th>695</th>\n",
       "      <td>57.68</td>\n",
       "      <td>-14.85</td>\n",
       "      <td>-2</td>\n",
       "      <td>0</td>\n",
       "    </tr>\n",
       "    <tr>\n",
       "      <th>698</th>\n",
       "      <td>50.54</td>\n",
       "      <td>-14.72</td>\n",
       "      <td>-2</td>\n",
       "      <td>0</td>\n",
       "    </tr>\n",
       "    <tr>\n",
       "      <th>101</th>\n",
       "      <th>704</th>\n",
       "      <td>73.65</td>\n",
       "      <td>-19.79</td>\n",
       "      <td>-2</td>\n",
       "      <td>0</td>\n",
       "    </tr>\n",
       "    <tr>\n",
       "      <th rowspan=\"2\" valign=\"top\">102</th>\n",
       "      <th>706</th>\n",
       "      <td>13.95</td>\n",
       "      <td>-0.42</td>\n",
       "      <td>0</td>\n",
       "      <td>0</td>\n",
       "    </tr>\n",
       "    <tr>\n",
       "      <th>708</th>\n",
       "      <td>45.12</td>\n",
       "      <td>-15.99</td>\n",
       "      <td>-1</td>\n",
       "      <td>0</td>\n",
       "    </tr>\n",
       "  </tbody>\n",
       "</table>\n",
       "<p>225533 rows × 4 columns</p>\n",
       "</div>"
      ],
      "text/plain": [
       "                           SALES_VALUE  RETAIL_DISC  COUPON_DISC  \\\n",
       "HOUSEHOLD_KEY WEEK_NO DAY                                          \n",
       "1             8       51         78.66       -16.54           -1   \n",
       "              10      67         41.10        -8.59            0   \n",
       "              13      88         26.90        -6.72            0   \n",
       "              14      94         63.43       -11.08           -2   \n",
       "              15      101        53.45       -16.42            0   \n",
       "...                                ...          ...          ...   \n",
       "2500          100     695        57.68       -14.85           -2   \n",
       "                      698        50.54       -14.72           -2   \n",
       "              101     704        73.65       -19.79           -2   \n",
       "              102     706        13.95        -0.42            0   \n",
       "                      708        45.12       -15.99           -1   \n",
       "\n",
       "                           COUPON_MATCH_DISC  \n",
       "HOUSEHOLD_KEY WEEK_NO DAY                     \n",
       "1             8       51                   0  \n",
       "              10      67                   0  \n",
       "              13      88                   0  \n",
       "              14      94                  -1  \n",
       "              15      101                  0  \n",
       "...                                      ...  \n",
       "2500          100     695                  0  \n",
       "                      698                  0  \n",
       "              101     704                  0  \n",
       "              102     706                  0  \n",
       "                      708                  0  \n",
       "\n",
       "[225533 rows x 4 columns]"
      ]
     },
     "execution_count": 542,
     "metadata": {},
     "output_type": "execute_result"
    }
   ],
   "source": [
    "TRANSACTION_RAW.groupby(['HOUSEHOLD_KEY','WEEK_NO','DAY']).aggregate({'SALES_VALUE':'sum','RETAIL_DISC':'sum',\n",
    "                                                                  'COUPON_DISC' :'sum','COUPON_MATCH_DISC':'sum'})"
   ]
  },
  {
   "cell_type": "code",
   "execution_count": 543,
   "id": "a87702e6-057d-48b8-a793-5bb0e2f7082c",
   "metadata": {},
   "outputs": [
    {
     "data": {
      "text/html": [
       "<div>\n",
       "<style scoped>\n",
       "    .dataframe tbody tr th:only-of-type {\n",
       "        vertical-align: middle;\n",
       "    }\n",
       "\n",
       "    .dataframe tbody tr th {\n",
       "        vertical-align: top;\n",
       "    }\n",
       "\n",
       "    .dataframe thead th {\n",
       "        text-align: right;\n",
       "    }\n",
       "</style>\n",
       "<table border=\"1\" class=\"dataframe\">\n",
       "  <thead>\n",
       "    <tr style=\"text-align: right;\">\n",
       "      <th></th>\n",
       "      <th>HOUSEHOLD_KEY</th>\n",
       "      <th>BASKET_ID</th>\n",
       "      <th>DAY</th>\n",
       "      <th>PRODUCT_ID</th>\n",
       "      <th>QUANTITY</th>\n",
       "      <th>SALES_VALUE</th>\n",
       "      <th>STORE_ID</th>\n",
       "      <th>RETAIL_DISC</th>\n",
       "      <th>TRANS_TIME</th>\n",
       "      <th>WEEK_NO</th>\n",
       "      <th>COUPON_DISC</th>\n",
       "      <th>COUPON_MATCH_DISC</th>\n",
       "      <th>DATE</th>\n",
       "    </tr>\n",
       "  </thead>\n",
       "  <tbody>\n",
       "    <tr>\n",
       "      <th>0</th>\n",
       "      <td>1370</td>\n",
       "      <td>35486432036</td>\n",
       "      <td>523</td>\n",
       "      <td>1085095</td>\n",
       "      <td>1</td>\n",
       "      <td>1.47</td>\n",
       "      <td>318</td>\n",
       "      <td>-0.49</td>\n",
       "      <td>1447</td>\n",
       "      <td>75</td>\n",
       "      <td>0</td>\n",
       "      <td>0</td>\n",
       "      <td>2021-06-07</td>\n",
       "    </tr>\n",
       "    <tr>\n",
       "      <th>1</th>\n",
       "      <td>1370</td>\n",
       "      <td>35486432036</td>\n",
       "      <td>523</td>\n",
       "      <td>1096343</td>\n",
       "      <td>2</td>\n",
       "      <td>2.50</td>\n",
       "      <td>318</td>\n",
       "      <td>-0.08</td>\n",
       "      <td>1447</td>\n",
       "      <td>75</td>\n",
       "      <td>0</td>\n",
       "      <td>0</td>\n",
       "      <td>2021-06-07</td>\n",
       "    </tr>\n",
       "    <tr>\n",
       "      <th>2</th>\n",
       "      <td>1370</td>\n",
       "      <td>35486432036</td>\n",
       "      <td>523</td>\n",
       "      <td>1099089</td>\n",
       "      <td>1</td>\n",
       "      <td>8.99</td>\n",
       "      <td>318</td>\n",
       "      <td>0.00</td>\n",
       "      <td>1447</td>\n",
       "      <td>75</td>\n",
       "      <td>0</td>\n",
       "      <td>0</td>\n",
       "      <td>2021-06-07</td>\n",
       "    </tr>\n",
       "    <tr>\n",
       "      <th>3</th>\n",
       "      <td>1370</td>\n",
       "      <td>35486432036</td>\n",
       "      <td>523</td>\n",
       "      <td>1105616</td>\n",
       "      <td>1</td>\n",
       "      <td>1.39</td>\n",
       "      <td>318</td>\n",
       "      <td>-0.10</td>\n",
       "      <td>1447</td>\n",
       "      <td>75</td>\n",
       "      <td>0</td>\n",
       "      <td>0</td>\n",
       "      <td>2021-06-07</td>\n",
       "    </tr>\n",
       "    <tr>\n",
       "      <th>4</th>\n",
       "      <td>1370</td>\n",
       "      <td>35486432036</td>\n",
       "      <td>523</td>\n",
       "      <td>1106523</td>\n",
       "      <td>1</td>\n",
       "      <td>2.22</td>\n",
       "      <td>318</td>\n",
       "      <td>0.00</td>\n",
       "      <td>1447</td>\n",
       "      <td>75</td>\n",
       "      <td>0</td>\n",
       "      <td>0</td>\n",
       "      <td>2021-06-07</td>\n",
       "    </tr>\n",
       "  </tbody>\n",
       "</table>\n",
       "</div>"
      ],
      "text/plain": [
       "   HOUSEHOLD_KEY    BASKET_ID  DAY  PRODUCT_ID  QUANTITY  SALES_VALUE  \\\n",
       "0           1370  35486432036  523     1085095         1         1.47   \n",
       "1           1370  35486432036  523     1096343         2         2.50   \n",
       "2           1370  35486432036  523     1099089         1         8.99   \n",
       "3           1370  35486432036  523     1105616         1         1.39   \n",
       "4           1370  35486432036  523     1106523         1         2.22   \n",
       "\n",
       "   STORE_ID  RETAIL_DISC  TRANS_TIME  WEEK_NO  COUPON_DISC  COUPON_MATCH_DISC  \\\n",
       "0       318        -0.49        1447       75            0                  0   \n",
       "1       318        -0.08        1447       75            0                  0   \n",
       "2       318         0.00        1447       75            0                  0   \n",
       "3       318        -0.10        1447       75            0                  0   \n",
       "4       318         0.00        1447       75            0                  0   \n",
       "\n",
       "        DATE  \n",
       "0 2021-06-07  \n",
       "1 2021-06-07  \n",
       "2 2021-06-07  \n",
       "3 2021-06-07  \n",
       "4 2021-06-07  "
      ]
     },
     "execution_count": 543,
     "metadata": {},
     "output_type": "execute_result"
    }
   ],
   "source": [
    "TRANSACTION_RAW.head()"
   ]
  },
  {
   "cell_type": "code",
   "execution_count": 544,
   "id": "69b945b7-c936-428c-bf96-1768909fe579",
   "metadata": {},
   "outputs": [
    {
     "data": {
      "text/html": [
       "<div>\n",
       "<style scoped>\n",
       "    .dataframe tbody tr th:only-of-type {\n",
       "        vertical-align: middle;\n",
       "    }\n",
       "\n",
       "    .dataframe tbody tr th {\n",
       "        vertical-align: top;\n",
       "    }\n",
       "\n",
       "    .dataframe thead th {\n",
       "        text-align: right;\n",
       "    }\n",
       "</style>\n",
       "<table border=\"1\" class=\"dataframe\">\n",
       "  <thead>\n",
       "    <tr style=\"text-align: right;\">\n",
       "      <th></th>\n",
       "      <th>SALES_VALUE</th>\n",
       "      <th>RETAIL_DISC</th>\n",
       "      <th>COUPON_DISC</th>\n",
       "    </tr>\n",
       "    <tr>\n",
       "      <th>DATE</th>\n",
       "      <th></th>\n",
       "      <th></th>\n",
       "      <th></th>\n",
       "    </tr>\n",
       "  </thead>\n",
       "  <tbody>\n",
       "    <tr>\n",
       "      <th>2020</th>\n",
       "      <td>3645902.74</td>\n",
       "      <td>-641463.08</td>\n",
       "      <td>-18856</td>\n",
       "    </tr>\n",
       "    <tr>\n",
       "      <th>2021</th>\n",
       "      <td>4411560.34</td>\n",
       "      <td>-756871.76</td>\n",
       "      <td>-27949</td>\n",
       "    </tr>\n",
       "  </tbody>\n",
       "</table>\n",
       "</div>"
      ],
      "text/plain": [
       "      SALES_VALUE  RETAIL_DISC  COUPON_DISC\n",
       "DATE                                       \n",
       "2020   3645902.74   -641463.08       -18856\n",
       "2021   4411560.34   -756871.76       -27949"
      ]
     },
     "execution_count": 544,
     "metadata": {},
     "output_type": "execute_result"
    }
   ],
   "source": [
    "TRANSACTION_RAW.groupby(TRANSACTION_RAW['DATE'].dt.year).aggregate({'SALES_VALUE':'sum','RETAIL_DISC':'sum','COUPON_DISC':'sum'})"
   ]
  },
  {
   "cell_type": "code",
   "execution_count": 545,
   "id": "90ad78bc-4cc5-4c75-acb6-b43d1f5c9196",
   "metadata": {},
   "outputs": [],
   "source": [
    "##dropping the columns"
   ]
  },
  {
   "cell_type": "code",
   "execution_count": 546,
   "id": "65be1942-9894-4898-a7a1-a93a5b7ea71e",
   "metadata": {},
   "outputs": [],
   "source": [
    "from datetime import datetime"
   ]
  },
  {
   "cell_type": "code",
   "execution_count": 547,
   "id": "c0aea45b-a08d-412a-9df4-1f8d2c034ce7",
   "metadata": {},
   "outputs": [
    {
     "data": {
      "text/html": [
       "<div>\n",
       "<style scoped>\n",
       "    .dataframe tbody tr th:only-of-type {\n",
       "        vertical-align: middle;\n",
       "    }\n",
       "\n",
       "    .dataframe tbody tr th {\n",
       "        vertical-align: top;\n",
       "    }\n",
       "\n",
       "    .dataframe thead th {\n",
       "        text-align: right;\n",
       "    }\n",
       "</style>\n",
       "<table border=\"1\" class=\"dataframe\">\n",
       "  <thead>\n",
       "    <tr style=\"text-align: right;\">\n",
       "      <th></th>\n",
       "      <th>DESCRIPTION</th>\n",
       "      <th>CAMPAIGN</th>\n",
       "      <th>START_DAY</th>\n",
       "      <th>END_DAY</th>\n",
       "      <th>Start_day</th>\n",
       "      <th>End_day</th>\n",
       "      <th>Campaign_duration</th>\n",
       "      <th>Start_month</th>\n",
       "      <th>End_month</th>\n",
       "    </tr>\n",
       "  </thead>\n",
       "  <tbody>\n",
       "    <tr>\n",
       "      <th>0</th>\n",
       "      <td>TypeB</td>\n",
       "      <td>24</td>\n",
       "      <td>659</td>\n",
       "      <td>719</td>\n",
       "      <td>2021-10-21</td>\n",
       "      <td>2021-12-20</td>\n",
       "      <td>60</td>\n",
       "      <td>10</td>\n",
       "      <td>12</td>\n",
       "    </tr>\n",
       "    <tr>\n",
       "      <th>1</th>\n",
       "      <td>TypeC</td>\n",
       "      <td>15</td>\n",
       "      <td>547</td>\n",
       "      <td>708</td>\n",
       "      <td>2021-07-01</td>\n",
       "      <td>2021-12-09</td>\n",
       "      <td>161</td>\n",
       "      <td>07</td>\n",
       "      <td>12</td>\n",
       "    </tr>\n",
       "    <tr>\n",
       "      <th>2</th>\n",
       "      <td>TypeB</td>\n",
       "      <td>25</td>\n",
       "      <td>659</td>\n",
       "      <td>691</td>\n",
       "      <td>2021-10-21</td>\n",
       "      <td>2021-11-22</td>\n",
       "      <td>32</td>\n",
       "      <td>10</td>\n",
       "      <td>11</td>\n",
       "    </tr>\n",
       "    <tr>\n",
       "      <th>3</th>\n",
       "      <td>TypeC</td>\n",
       "      <td>20</td>\n",
       "      <td>615</td>\n",
       "      <td>685</td>\n",
       "      <td>2021-09-07</td>\n",
       "      <td>2021-11-16</td>\n",
       "      <td>70</td>\n",
       "      <td>09</td>\n",
       "      <td>11</td>\n",
       "    </tr>\n",
       "    <tr>\n",
       "      <th>4</th>\n",
       "      <td>TypeB</td>\n",
       "      <td>23</td>\n",
       "      <td>646</td>\n",
       "      <td>684</td>\n",
       "      <td>2021-10-08</td>\n",
       "      <td>2021-11-15</td>\n",
       "      <td>38</td>\n",
       "      <td>10</td>\n",
       "      <td>11</td>\n",
       "    </tr>\n",
       "  </tbody>\n",
       "</table>\n",
       "</div>"
      ],
      "text/plain": [
       "  DESCRIPTION  CAMPAIGN  START_DAY  END_DAY  Start_day    End_day  \\\n",
       "0       TypeB        24        659      719 2021-10-21 2021-12-20   \n",
       "1       TypeC        15        547      708 2021-07-01 2021-12-09   \n",
       "2       TypeB        25        659      691 2021-10-21 2021-11-22   \n",
       "3       TypeC        20        615      685 2021-09-07 2021-11-16   \n",
       "4       TypeB        23        646      684 2021-10-08 2021-11-15   \n",
       "\n",
       "   Campaign_duration Start_month End_month  \n",
       "0                 60          10        12  \n",
       "1                161          07        12  \n",
       "2                 32          10        11  \n",
       "3                 70          09        11  \n",
       "4                 38          10        11  "
      ]
     },
     "execution_count": 547,
     "metadata": {},
     "output_type": "execute_result"
    }
   ],
   "source": [
    "CAMPAIGN_DESC_RAW.head()"
   ]
  },
  {
   "cell_type": "code",
   "execution_count": 548,
   "id": "b497f45b-c0e8-4200-a992-d99bfc619a1f",
   "metadata": {},
   "outputs": [],
   "source": [
    "CAMPAIGN_DESC_RAW.drop(['START_DAY','END_DAY'],axis=1,inplace=True)"
   ]
  },
  {
   "cell_type": "code",
   "execution_count": 549,
   "id": "42f2c236-bf73-45be-8f0c-fc83e7699e80",
   "metadata": {},
   "outputs": [
    {
     "data": {
      "text/html": [
       "<div>\n",
       "<style scoped>\n",
       "    .dataframe tbody tr th:only-of-type {\n",
       "        vertical-align: middle;\n",
       "    }\n",
       "\n",
       "    .dataframe tbody tr th {\n",
       "        vertical-align: top;\n",
       "    }\n",
       "\n",
       "    .dataframe thead th {\n",
       "        text-align: right;\n",
       "    }\n",
       "</style>\n",
       "<table border=\"1\" class=\"dataframe\">\n",
       "  <thead>\n",
       "    <tr style=\"text-align: right;\">\n",
       "      <th></th>\n",
       "      <th>DESCRIPTION</th>\n",
       "      <th>CAMPAIGN</th>\n",
       "      <th>Start_day</th>\n",
       "      <th>End_day</th>\n",
       "      <th>Campaign_duration</th>\n",
       "      <th>Start_month</th>\n",
       "      <th>End_month</th>\n",
       "    </tr>\n",
       "  </thead>\n",
       "  <tbody>\n",
       "    <tr>\n",
       "      <th>0</th>\n",
       "      <td>TypeB</td>\n",
       "      <td>24</td>\n",
       "      <td>2021-10-21</td>\n",
       "      <td>2021-12-20</td>\n",
       "      <td>60</td>\n",
       "      <td>10</td>\n",
       "      <td>12</td>\n",
       "    </tr>\n",
       "    <tr>\n",
       "      <th>1</th>\n",
       "      <td>TypeC</td>\n",
       "      <td>15</td>\n",
       "      <td>2021-07-01</td>\n",
       "      <td>2021-12-09</td>\n",
       "      <td>161</td>\n",
       "      <td>07</td>\n",
       "      <td>12</td>\n",
       "    </tr>\n",
       "    <tr>\n",
       "      <th>2</th>\n",
       "      <td>TypeB</td>\n",
       "      <td>25</td>\n",
       "      <td>2021-10-21</td>\n",
       "      <td>2021-11-22</td>\n",
       "      <td>32</td>\n",
       "      <td>10</td>\n",
       "      <td>11</td>\n",
       "    </tr>\n",
       "    <tr>\n",
       "      <th>3</th>\n",
       "      <td>TypeC</td>\n",
       "      <td>20</td>\n",
       "      <td>2021-09-07</td>\n",
       "      <td>2021-11-16</td>\n",
       "      <td>70</td>\n",
       "      <td>09</td>\n",
       "      <td>11</td>\n",
       "    </tr>\n",
       "    <tr>\n",
       "      <th>4</th>\n",
       "      <td>TypeB</td>\n",
       "      <td>23</td>\n",
       "      <td>2021-10-08</td>\n",
       "      <td>2021-11-15</td>\n",
       "      <td>38</td>\n",
       "      <td>10</td>\n",
       "      <td>11</td>\n",
       "    </tr>\n",
       "  </tbody>\n",
       "</table>\n",
       "</div>"
      ],
      "text/plain": [
       "  DESCRIPTION  CAMPAIGN  Start_day    End_day  Campaign_duration Start_month  \\\n",
       "0       TypeB        24 2021-10-21 2021-12-20                 60          10   \n",
       "1       TypeC        15 2021-07-01 2021-12-09                161          07   \n",
       "2       TypeB        25 2021-10-21 2021-11-22                 32          10   \n",
       "3       TypeC        20 2021-09-07 2021-11-16                 70          09   \n",
       "4       TypeB        23 2021-10-08 2021-11-15                 38          10   \n",
       "\n",
       "  End_month  \n",
       "0        12  \n",
       "1        12  \n",
       "2        11  \n",
       "3        11  \n",
       "4        11  "
      ]
     },
     "execution_count": 549,
     "metadata": {},
     "output_type": "execute_result"
    }
   ],
   "source": [
    "CAMPAIGN_DESC_RAW.head()"
   ]
  },
  {
   "cell_type": "code",
   "execution_count": 550,
   "id": "bba0af76-6658-4c44-8165-b09a9b60e8f2",
   "metadata": {},
   "outputs": [
    {
     "data": {
      "text/plain": [
       "DESCRIPTION                  object\n",
       "CAMPAIGN                       int8\n",
       "Start_day            datetime64[ns]\n",
       "End_day              datetime64[ns]\n",
       "Campaign_duration             int16\n",
       "Start_month                  object\n",
       "End_month                    object\n",
       "dtype: object"
      ]
     },
     "execution_count": 550,
     "metadata": {},
     "output_type": "execute_result"
    }
   ],
   "source": [
    "CAMPAIGN_DESC_RAW.dtypes"
   ]
  },
  {
   "cell_type": "code",
   "execution_count": 551,
   "id": "83c959c3-f61d-4521-a7ca-8e21f1528a2c",
   "metadata": {},
   "outputs": [],
   "source": [
    "CAMPAIGN_DESC_RAW['Start_day']=pd.to_datetime(CAMPAIGN_DESC_RAW['Start_day']).apply(lambda x: x.date())"
   ]
  },
  {
   "cell_type": "code",
   "execution_count": 552,
   "id": "45e0f039-fca4-40b6-a400-ceb663dadf06",
   "metadata": {},
   "outputs": [
    {
     "data": {
      "text/plain": [
       "pandas.core.series.Series"
      ]
     },
     "execution_count": 552,
     "metadata": {},
     "output_type": "execute_result"
    }
   ],
   "source": [
    "type(CAMPAIGN_DESC_RAW['Start_day'])"
   ]
  },
  {
   "cell_type": "code",
   "execution_count": 553,
   "id": "6c3107a6-48b7-428a-ba16-820fbe62e12b",
   "metadata": {},
   "outputs": [],
   "source": [
    "CAMPAIGN_DESC_RAW['End_day']=pd.to_datetime(CAMPAIGN_DESC_RAW['End_day']).apply(lambda x: x.date())"
   ]
  },
  {
   "cell_type": "code",
   "execution_count": 554,
   "id": "232b22fa-9ee3-4a43-b822-b47330d55280",
   "metadata": {},
   "outputs": [
    {
     "data": {
      "text/plain": [
       "pandas.core.series.Series"
      ]
     },
     "execution_count": 554,
     "metadata": {},
     "output_type": "execute_result"
    }
   ],
   "source": [
    "type(CAMPAIGN_DESC_RAW['End_day'])"
   ]
  },
  {
   "cell_type": "code",
   "execution_count": 555,
   "id": "c847784c-0202-46d6-87f4-62b72294aec8",
   "metadata": {},
   "outputs": [
    {
     "data": {
      "text/plain": [
       "DESCRIPTION          object\n",
       "CAMPAIGN               int8\n",
       "Start_day            object\n",
       "End_day              object\n",
       "Campaign_duration     int16\n",
       "Start_month          object\n",
       "End_month            object\n",
       "dtype: object"
      ]
     },
     "execution_count": 555,
     "metadata": {},
     "output_type": "execute_result"
    }
   ],
   "source": [
    "CAMPAIGN_DESC_RAW.dtypes"
   ]
  },
  {
   "cell_type": "code",
   "execution_count": 556,
   "id": "36d78a97-094c-488f-825c-6849c7de77c6",
   "metadata": {},
   "outputs": [
    {
     "data": {
      "text/html": [
       "<div>\n",
       "<style scoped>\n",
       "    .dataframe tbody tr th:only-of-type {\n",
       "        vertical-align: middle;\n",
       "    }\n",
       "\n",
       "    .dataframe tbody tr th {\n",
       "        vertical-align: top;\n",
       "    }\n",
       "\n",
       "    .dataframe thead th {\n",
       "        text-align: right;\n",
       "    }\n",
       "</style>\n",
       "<table border=\"1\" class=\"dataframe\">\n",
       "  <thead>\n",
       "    <tr style=\"text-align: right;\">\n",
       "      <th></th>\n",
       "      <th>HOUSEHOLD_KEY</th>\n",
       "      <th>DAY</th>\n",
       "      <th>COUPON_UPC</th>\n",
       "      <th>CAMPAIGN</th>\n",
       "      <th>Date</th>\n",
       "    </tr>\n",
       "  </thead>\n",
       "  <tbody>\n",
       "    <tr>\n",
       "      <th>0</th>\n",
       "      <td>1</td>\n",
       "      <td>421</td>\n",
       "      <td>10000085364</td>\n",
       "      <td>8</td>\n",
       "      <td>2021-02-25</td>\n",
       "    </tr>\n",
       "    <tr>\n",
       "      <th>1</th>\n",
       "      <td>1</td>\n",
       "      <td>421</td>\n",
       "      <td>51700010076</td>\n",
       "      <td>8</td>\n",
       "      <td>2021-02-25</td>\n",
       "    </tr>\n",
       "    <tr>\n",
       "      <th>2</th>\n",
       "      <td>1</td>\n",
       "      <td>427</td>\n",
       "      <td>54200000033</td>\n",
       "      <td>8</td>\n",
       "      <td>2021-03-03</td>\n",
       "    </tr>\n",
       "    <tr>\n",
       "      <th>3</th>\n",
       "      <td>1</td>\n",
       "      <td>597</td>\n",
       "      <td>10000085476</td>\n",
       "      <td>18</td>\n",
       "      <td>2021-08-20</td>\n",
       "    </tr>\n",
       "    <tr>\n",
       "      <th>4</th>\n",
       "      <td>1</td>\n",
       "      <td>597</td>\n",
       "      <td>54200029176</td>\n",
       "      <td>18</td>\n",
       "      <td>2021-08-20</td>\n",
       "    </tr>\n",
       "  </tbody>\n",
       "</table>\n",
       "</div>"
      ],
      "text/plain": [
       "   HOUSEHOLD_KEY  DAY   COUPON_UPC  CAMPAIGN       Date\n",
       "0              1  421  10000085364         8 2021-02-25\n",
       "1              1  421  51700010076         8 2021-02-25\n",
       "2              1  427  54200000033         8 2021-03-03\n",
       "3              1  597  10000085476        18 2021-08-20\n",
       "4              1  597  54200029176        18 2021-08-20"
      ]
     },
     "execution_count": 556,
     "metadata": {},
     "output_type": "execute_result"
    }
   ],
   "source": [
    "COUPON_REDEMPT_RAW.head()"
   ]
  },
  {
   "cell_type": "code",
   "execution_count": 557,
   "id": "4c5ed722-13df-4ee8-b7e2-515700a3572e",
   "metadata": {},
   "outputs": [],
   "source": [
    "COUPON_REDEMPT_RAW.drop(['DAY'],axis=1,inplace=True)"
   ]
  },
  {
   "cell_type": "code",
   "execution_count": 558,
   "id": "95609c95-3ce0-4520-9c82-0c93d340b40e",
   "metadata": {},
   "outputs": [
    {
     "data": {
      "text/html": [
       "<div>\n",
       "<style scoped>\n",
       "    .dataframe tbody tr th:only-of-type {\n",
       "        vertical-align: middle;\n",
       "    }\n",
       "\n",
       "    .dataframe tbody tr th {\n",
       "        vertical-align: top;\n",
       "    }\n",
       "\n",
       "    .dataframe thead th {\n",
       "        text-align: right;\n",
       "    }\n",
       "</style>\n",
       "<table border=\"1\" class=\"dataframe\">\n",
       "  <thead>\n",
       "    <tr style=\"text-align: right;\">\n",
       "      <th></th>\n",
       "      <th>HOUSEHOLD_KEY</th>\n",
       "      <th>COUPON_UPC</th>\n",
       "      <th>CAMPAIGN</th>\n",
       "      <th>Date</th>\n",
       "    </tr>\n",
       "  </thead>\n",
       "  <tbody>\n",
       "    <tr>\n",
       "      <th>0</th>\n",
       "      <td>1</td>\n",
       "      <td>10000085364</td>\n",
       "      <td>8</td>\n",
       "      <td>2021-02-25</td>\n",
       "    </tr>\n",
       "    <tr>\n",
       "      <th>1</th>\n",
       "      <td>1</td>\n",
       "      <td>51700010076</td>\n",
       "      <td>8</td>\n",
       "      <td>2021-02-25</td>\n",
       "    </tr>\n",
       "    <tr>\n",
       "      <th>2</th>\n",
       "      <td>1</td>\n",
       "      <td>54200000033</td>\n",
       "      <td>8</td>\n",
       "      <td>2021-03-03</td>\n",
       "    </tr>\n",
       "    <tr>\n",
       "      <th>3</th>\n",
       "      <td>1</td>\n",
       "      <td>10000085476</td>\n",
       "      <td>18</td>\n",
       "      <td>2021-08-20</td>\n",
       "    </tr>\n",
       "    <tr>\n",
       "      <th>4</th>\n",
       "      <td>1</td>\n",
       "      <td>54200029176</td>\n",
       "      <td>18</td>\n",
       "      <td>2021-08-20</td>\n",
       "    </tr>\n",
       "  </tbody>\n",
       "</table>\n",
       "</div>"
      ],
      "text/plain": [
       "   HOUSEHOLD_KEY   COUPON_UPC  CAMPAIGN       Date\n",
       "0              1  10000085364         8 2021-02-25\n",
       "1              1  51700010076         8 2021-02-25\n",
       "2              1  54200000033         8 2021-03-03\n",
       "3              1  10000085476        18 2021-08-20\n",
       "4              1  54200029176        18 2021-08-20"
      ]
     },
     "execution_count": 558,
     "metadata": {},
     "output_type": "execute_result"
    }
   ],
   "source": [
    "COUPON_REDEMPT_RAW.head()"
   ]
  },
  {
   "cell_type": "code",
   "execution_count": 559,
   "id": "11251868-0fae-41f0-907f-e0ba8797b8aa",
   "metadata": {},
   "outputs": [
    {
     "data": {
      "text/plain": [
       "HOUSEHOLD_KEY             int16\n",
       "COUPON_UPC                int64\n",
       "CAMPAIGN                   int8\n",
       "Date             datetime64[ns]\n",
       "dtype: object"
      ]
     },
     "execution_count": 559,
     "metadata": {},
     "output_type": "execute_result"
    }
   ],
   "source": [
    "COUPON_REDEMPT_RAW.dtypes"
   ]
  },
  {
   "cell_type": "code",
   "execution_count": 560,
   "id": "7b9ad636-84d9-4c66-a66e-f0f64ce0f1ff",
   "metadata": {},
   "outputs": [],
   "source": [
    "COUPON_REDEMPT_RAW['Date']=pd.to_datetime(COUPON_REDEMPT_RAW['Date']).apply(lambda x: x.date())"
   ]
  },
  {
   "cell_type": "code",
   "execution_count": 561,
   "id": "eda9b2cd-6207-4b78-bbc5-c47ea603fdb8",
   "metadata": {},
   "outputs": [
    {
     "data": {
      "text/plain": [
       "HOUSEHOLD_KEY     int16\n",
       "COUPON_UPC        int64\n",
       "CAMPAIGN           int8\n",
       "Date             object\n",
       "dtype: object"
      ]
     },
     "execution_count": 561,
     "metadata": {},
     "output_type": "execute_result"
    }
   ],
   "source": [
    "COUPON_REDEMPT_RAW.dtypes"
   ]
  },
  {
   "cell_type": "code",
   "execution_count": 562,
   "id": "3817443e-c68d-4745-8f6e-e2bbb37287af",
   "metadata": {},
   "outputs": [
    {
     "data": {
      "text/html": [
       "<div>\n",
       "<style scoped>\n",
       "    .dataframe tbody tr th:only-of-type {\n",
       "        vertical-align: middle;\n",
       "    }\n",
       "\n",
       "    .dataframe tbody tr th {\n",
       "        vertical-align: top;\n",
       "    }\n",
       "\n",
       "    .dataframe thead th {\n",
       "        text-align: right;\n",
       "    }\n",
       "</style>\n",
       "<table border=\"1\" class=\"dataframe\">\n",
       "  <thead>\n",
       "    <tr style=\"text-align: right;\">\n",
       "      <th></th>\n",
       "      <th>HOUSEHOLD_KEY</th>\n",
       "      <th>BASKET_ID</th>\n",
       "      <th>DAY</th>\n",
       "      <th>PRODUCT_ID</th>\n",
       "      <th>QUANTITY</th>\n",
       "      <th>SALES_VALUE</th>\n",
       "      <th>STORE_ID</th>\n",
       "      <th>RETAIL_DISC</th>\n",
       "      <th>TRANS_TIME</th>\n",
       "      <th>WEEK_NO</th>\n",
       "      <th>COUPON_DISC</th>\n",
       "      <th>COUPON_MATCH_DISC</th>\n",
       "      <th>DATE</th>\n",
       "    </tr>\n",
       "  </thead>\n",
       "  <tbody>\n",
       "    <tr>\n",
       "      <th>0</th>\n",
       "      <td>1370</td>\n",
       "      <td>35486432036</td>\n",
       "      <td>523</td>\n",
       "      <td>1085095</td>\n",
       "      <td>1</td>\n",
       "      <td>1.47</td>\n",
       "      <td>318</td>\n",
       "      <td>-0.49</td>\n",
       "      <td>1447</td>\n",
       "      <td>75</td>\n",
       "      <td>0</td>\n",
       "      <td>0</td>\n",
       "      <td>2021-06-07</td>\n",
       "    </tr>\n",
       "    <tr>\n",
       "      <th>1</th>\n",
       "      <td>1370</td>\n",
       "      <td>35486432036</td>\n",
       "      <td>523</td>\n",
       "      <td>1096343</td>\n",
       "      <td>2</td>\n",
       "      <td>2.50</td>\n",
       "      <td>318</td>\n",
       "      <td>-0.08</td>\n",
       "      <td>1447</td>\n",
       "      <td>75</td>\n",
       "      <td>0</td>\n",
       "      <td>0</td>\n",
       "      <td>2021-06-07</td>\n",
       "    </tr>\n",
       "    <tr>\n",
       "      <th>2</th>\n",
       "      <td>1370</td>\n",
       "      <td>35486432036</td>\n",
       "      <td>523</td>\n",
       "      <td>1099089</td>\n",
       "      <td>1</td>\n",
       "      <td>8.99</td>\n",
       "      <td>318</td>\n",
       "      <td>0.00</td>\n",
       "      <td>1447</td>\n",
       "      <td>75</td>\n",
       "      <td>0</td>\n",
       "      <td>0</td>\n",
       "      <td>2021-06-07</td>\n",
       "    </tr>\n",
       "    <tr>\n",
       "      <th>3</th>\n",
       "      <td>1370</td>\n",
       "      <td>35486432036</td>\n",
       "      <td>523</td>\n",
       "      <td>1105616</td>\n",
       "      <td>1</td>\n",
       "      <td>1.39</td>\n",
       "      <td>318</td>\n",
       "      <td>-0.10</td>\n",
       "      <td>1447</td>\n",
       "      <td>75</td>\n",
       "      <td>0</td>\n",
       "      <td>0</td>\n",
       "      <td>2021-06-07</td>\n",
       "    </tr>\n",
       "    <tr>\n",
       "      <th>4</th>\n",
       "      <td>1370</td>\n",
       "      <td>35486432036</td>\n",
       "      <td>523</td>\n",
       "      <td>1106523</td>\n",
       "      <td>1</td>\n",
       "      <td>2.22</td>\n",
       "      <td>318</td>\n",
       "      <td>0.00</td>\n",
       "      <td>1447</td>\n",
       "      <td>75</td>\n",
       "      <td>0</td>\n",
       "      <td>0</td>\n",
       "      <td>2021-06-07</td>\n",
       "    </tr>\n",
       "  </tbody>\n",
       "</table>\n",
       "</div>"
      ],
      "text/plain": [
       "   HOUSEHOLD_KEY    BASKET_ID  DAY  PRODUCT_ID  QUANTITY  SALES_VALUE  \\\n",
       "0           1370  35486432036  523     1085095         1         1.47   \n",
       "1           1370  35486432036  523     1096343         2         2.50   \n",
       "2           1370  35486432036  523     1099089         1         8.99   \n",
       "3           1370  35486432036  523     1105616         1         1.39   \n",
       "4           1370  35486432036  523     1106523         1         2.22   \n",
       "\n",
       "   STORE_ID  RETAIL_DISC  TRANS_TIME  WEEK_NO  COUPON_DISC  COUPON_MATCH_DISC  \\\n",
       "0       318        -0.49        1447       75            0                  0   \n",
       "1       318        -0.08        1447       75            0                  0   \n",
       "2       318         0.00        1447       75            0                  0   \n",
       "3       318        -0.10        1447       75            0                  0   \n",
       "4       318         0.00        1447       75            0                  0   \n",
       "\n",
       "        DATE  \n",
       "0 2021-06-07  \n",
       "1 2021-06-07  \n",
       "2 2021-06-07  \n",
       "3 2021-06-07  \n",
       "4 2021-06-07  "
      ]
     },
     "execution_count": 562,
     "metadata": {},
     "output_type": "execute_result"
    }
   ],
   "source": [
    "TRANSACTION_RAW.head()"
   ]
  },
  {
   "cell_type": "code",
   "execution_count": 563,
   "id": "3bf5ead9-e1f2-4ee8-90dd-cfe8523cd545",
   "metadata": {},
   "outputs": [],
   "source": [
    "TRANSACTION_RAW.drop(['DAY','WEEK_NO'],axis=1,inplace=True)"
   ]
  },
  {
   "cell_type": "code",
   "execution_count": 564,
   "id": "93d7e268-c409-4ffb-ae73-6741808a46fc",
   "metadata": {},
   "outputs": [
    {
     "data": {
      "text/html": [
       "<div>\n",
       "<style scoped>\n",
       "    .dataframe tbody tr th:only-of-type {\n",
       "        vertical-align: middle;\n",
       "    }\n",
       "\n",
       "    .dataframe tbody tr th {\n",
       "        vertical-align: top;\n",
       "    }\n",
       "\n",
       "    .dataframe thead th {\n",
       "        text-align: right;\n",
       "    }\n",
       "</style>\n",
       "<table border=\"1\" class=\"dataframe\">\n",
       "  <thead>\n",
       "    <tr style=\"text-align: right;\">\n",
       "      <th></th>\n",
       "      <th>HOUSEHOLD_KEY</th>\n",
       "      <th>BASKET_ID</th>\n",
       "      <th>PRODUCT_ID</th>\n",
       "      <th>QUANTITY</th>\n",
       "      <th>SALES_VALUE</th>\n",
       "      <th>STORE_ID</th>\n",
       "      <th>RETAIL_DISC</th>\n",
       "      <th>TRANS_TIME</th>\n",
       "      <th>COUPON_DISC</th>\n",
       "      <th>COUPON_MATCH_DISC</th>\n",
       "      <th>DATE</th>\n",
       "    </tr>\n",
       "  </thead>\n",
       "  <tbody>\n",
       "    <tr>\n",
       "      <th>0</th>\n",
       "      <td>1370</td>\n",
       "      <td>35486432036</td>\n",
       "      <td>1085095</td>\n",
       "      <td>1</td>\n",
       "      <td>1.47</td>\n",
       "      <td>318</td>\n",
       "      <td>-0.49</td>\n",
       "      <td>1447</td>\n",
       "      <td>0</td>\n",
       "      <td>0</td>\n",
       "      <td>2021-06-07</td>\n",
       "    </tr>\n",
       "    <tr>\n",
       "      <th>1</th>\n",
       "      <td>1370</td>\n",
       "      <td>35486432036</td>\n",
       "      <td>1096343</td>\n",
       "      <td>2</td>\n",
       "      <td>2.50</td>\n",
       "      <td>318</td>\n",
       "      <td>-0.08</td>\n",
       "      <td>1447</td>\n",
       "      <td>0</td>\n",
       "      <td>0</td>\n",
       "      <td>2021-06-07</td>\n",
       "    </tr>\n",
       "    <tr>\n",
       "      <th>2</th>\n",
       "      <td>1370</td>\n",
       "      <td>35486432036</td>\n",
       "      <td>1099089</td>\n",
       "      <td>1</td>\n",
       "      <td>8.99</td>\n",
       "      <td>318</td>\n",
       "      <td>0.00</td>\n",
       "      <td>1447</td>\n",
       "      <td>0</td>\n",
       "      <td>0</td>\n",
       "      <td>2021-06-07</td>\n",
       "    </tr>\n",
       "    <tr>\n",
       "      <th>3</th>\n",
       "      <td>1370</td>\n",
       "      <td>35486432036</td>\n",
       "      <td>1105616</td>\n",
       "      <td>1</td>\n",
       "      <td>1.39</td>\n",
       "      <td>318</td>\n",
       "      <td>-0.10</td>\n",
       "      <td>1447</td>\n",
       "      <td>0</td>\n",
       "      <td>0</td>\n",
       "      <td>2021-06-07</td>\n",
       "    </tr>\n",
       "    <tr>\n",
       "      <th>4</th>\n",
       "      <td>1370</td>\n",
       "      <td>35486432036</td>\n",
       "      <td>1106523</td>\n",
       "      <td>1</td>\n",
       "      <td>2.22</td>\n",
       "      <td>318</td>\n",
       "      <td>0.00</td>\n",
       "      <td>1447</td>\n",
       "      <td>0</td>\n",
       "      <td>0</td>\n",
       "      <td>2021-06-07</td>\n",
       "    </tr>\n",
       "  </tbody>\n",
       "</table>\n",
       "</div>"
      ],
      "text/plain": [
       "   HOUSEHOLD_KEY    BASKET_ID  PRODUCT_ID  QUANTITY  SALES_VALUE  STORE_ID  \\\n",
       "0           1370  35486432036     1085095         1         1.47       318   \n",
       "1           1370  35486432036     1096343         2         2.50       318   \n",
       "2           1370  35486432036     1099089         1         8.99       318   \n",
       "3           1370  35486432036     1105616         1         1.39       318   \n",
       "4           1370  35486432036     1106523         1         2.22       318   \n",
       "\n",
       "   RETAIL_DISC  TRANS_TIME  COUPON_DISC  COUPON_MATCH_DISC       DATE  \n",
       "0        -0.49        1447            0                  0 2021-06-07  \n",
       "1        -0.08        1447            0                  0 2021-06-07  \n",
       "2         0.00        1447            0                  0 2021-06-07  \n",
       "3        -0.10        1447            0                  0 2021-06-07  \n",
       "4         0.00        1447            0                  0 2021-06-07  "
      ]
     },
     "execution_count": 564,
     "metadata": {},
     "output_type": "execute_result"
    }
   ],
   "source": [
    "TRANSACTION_RAW.head()"
   ]
  },
  {
   "cell_type": "code",
   "execution_count": 565,
   "id": "bcdf6c3c-7d67-48b3-9521-79bbf4205559",
   "metadata": {},
   "outputs": [
    {
     "data": {
      "text/plain": [
       "HOUSEHOLD_KEY                 int16\n",
       "BASKET_ID                     int64\n",
       "PRODUCT_ID                    int32\n",
       "QUANTITY                      int32\n",
       "SALES_VALUE                 float64\n",
       "STORE_ID                      int32\n",
       "RETAIL_DISC                 float64\n",
       "TRANS_TIME                    int16\n",
       "COUPON_DISC                    int8\n",
       "COUPON_MATCH_DISC              int8\n",
       "DATE                 datetime64[ns]\n",
       "dtype: object"
      ]
     },
     "execution_count": 565,
     "metadata": {},
     "output_type": "execute_result"
    }
   ],
   "source": [
    "TRANSACTION_RAW.dtypes"
   ]
  },
  {
   "cell_type": "code",
   "execution_count": 566,
   "id": "15746e3b-a7b4-48c4-b164-f5b071226dfe",
   "metadata": {},
   "outputs": [],
   "source": [
    "TRANSACTION_RAW['DATE']=pd.to_datetime(TRANSACTION_RAW['DATE']).apply(lambda x: x.date())"
   ]
  },
  {
   "cell_type": "code",
   "execution_count": 567,
   "id": "db5a1a6a-7a3a-4a42-a898-1a8778c740b2",
   "metadata": {},
   "outputs": [
    {
     "data": {
      "text/plain": [
       "HOUSEHOLD_KEY          int16\n",
       "BASKET_ID              int64\n",
       "PRODUCT_ID             int32\n",
       "QUANTITY               int32\n",
       "SALES_VALUE          float64\n",
       "STORE_ID               int32\n",
       "RETAIL_DISC          float64\n",
       "TRANS_TIME             int16\n",
       "COUPON_DISC             int8\n",
       "COUPON_MATCH_DISC       int8\n",
       "DATE                  object\n",
       "dtype: object"
      ]
     },
     "execution_count": 567,
     "metadata": {},
     "output_type": "execute_result"
    }
   ],
   "source": [
    "TRANSACTION_RAW.dtypes"
   ]
  },
  {
   "cell_type": "code",
   "execution_count": 568,
   "id": "2a614ae1-926d-414b-8c01-4e53d68a4eb2",
   "metadata": {},
   "outputs": [
    {
     "data": {
      "text/html": [
       "<div>\n",
       "<style scoped>\n",
       "    .dataframe tbody tr th:only-of-type {\n",
       "        vertical-align: middle;\n",
       "    }\n",
       "\n",
       "    .dataframe tbody tr th {\n",
       "        vertical-align: top;\n",
       "    }\n",
       "\n",
       "    .dataframe thead th {\n",
       "        text-align: right;\n",
       "    }\n",
       "</style>\n",
       "<table border=\"1\" class=\"dataframe\">\n",
       "  <thead>\n",
       "    <tr style=\"text-align: right;\">\n",
       "      <th></th>\n",
       "      <th>HOUSEHOLD_KEY</th>\n",
       "      <th>BASKET_ID</th>\n",
       "      <th>PRODUCT_ID</th>\n",
       "      <th>QUANTITY</th>\n",
       "      <th>SALES_VALUE</th>\n",
       "      <th>STORE_ID</th>\n",
       "      <th>RETAIL_DISC</th>\n",
       "      <th>TRANS_TIME</th>\n",
       "      <th>COUPON_DISC</th>\n",
       "      <th>COUPON_MATCH_DISC</th>\n",
       "      <th>DATE</th>\n",
       "    </tr>\n",
       "  </thead>\n",
       "  <tbody>\n",
       "    <tr>\n",
       "      <th>0</th>\n",
       "      <td>1370</td>\n",
       "      <td>35486432036</td>\n",
       "      <td>1085095</td>\n",
       "      <td>1</td>\n",
       "      <td>1.47</td>\n",
       "      <td>318</td>\n",
       "      <td>-0.49</td>\n",
       "      <td>1447</td>\n",
       "      <td>0</td>\n",
       "      <td>0</td>\n",
       "      <td>2021-06-07</td>\n",
       "    </tr>\n",
       "    <tr>\n",
       "      <th>1</th>\n",
       "      <td>1370</td>\n",
       "      <td>35486432036</td>\n",
       "      <td>1096343</td>\n",
       "      <td>2</td>\n",
       "      <td>2.50</td>\n",
       "      <td>318</td>\n",
       "      <td>-0.08</td>\n",
       "      <td>1447</td>\n",
       "      <td>0</td>\n",
       "      <td>0</td>\n",
       "      <td>2021-06-07</td>\n",
       "    </tr>\n",
       "    <tr>\n",
       "      <th>2</th>\n",
       "      <td>1370</td>\n",
       "      <td>35486432036</td>\n",
       "      <td>1099089</td>\n",
       "      <td>1</td>\n",
       "      <td>8.99</td>\n",
       "      <td>318</td>\n",
       "      <td>0.00</td>\n",
       "      <td>1447</td>\n",
       "      <td>0</td>\n",
       "      <td>0</td>\n",
       "      <td>2021-06-07</td>\n",
       "    </tr>\n",
       "    <tr>\n",
       "      <th>3</th>\n",
       "      <td>1370</td>\n",
       "      <td>35486432036</td>\n",
       "      <td>1105616</td>\n",
       "      <td>1</td>\n",
       "      <td>1.39</td>\n",
       "      <td>318</td>\n",
       "      <td>-0.10</td>\n",
       "      <td>1447</td>\n",
       "      <td>0</td>\n",
       "      <td>0</td>\n",
       "      <td>2021-06-07</td>\n",
       "    </tr>\n",
       "    <tr>\n",
       "      <th>4</th>\n",
       "      <td>1370</td>\n",
       "      <td>35486432036</td>\n",
       "      <td>1106523</td>\n",
       "      <td>1</td>\n",
       "      <td>2.22</td>\n",
       "      <td>318</td>\n",
       "      <td>0.00</td>\n",
       "      <td>1447</td>\n",
       "      <td>0</td>\n",
       "      <td>0</td>\n",
       "      <td>2021-06-07</td>\n",
       "    </tr>\n",
       "  </tbody>\n",
       "</table>\n",
       "</div>"
      ],
      "text/plain": [
       "   HOUSEHOLD_KEY    BASKET_ID  PRODUCT_ID  QUANTITY  SALES_VALUE  STORE_ID  \\\n",
       "0           1370  35486432036     1085095         1         1.47       318   \n",
       "1           1370  35486432036     1096343         2         2.50       318   \n",
       "2           1370  35486432036     1099089         1         8.99       318   \n",
       "3           1370  35486432036     1105616         1         1.39       318   \n",
       "4           1370  35486432036     1106523         1         2.22       318   \n",
       "\n",
       "   RETAIL_DISC  TRANS_TIME  COUPON_DISC  COUPON_MATCH_DISC        DATE  \n",
       "0        -0.49        1447            0                  0  2021-06-07  \n",
       "1        -0.08        1447            0                  0  2021-06-07  \n",
       "2         0.00        1447            0                  0  2021-06-07  \n",
       "3        -0.10        1447            0                  0  2021-06-07  \n",
       "4         0.00        1447            0                  0  2021-06-07  "
      ]
     },
     "execution_count": 568,
     "metadata": {},
     "output_type": "execute_result"
    }
   ],
   "source": [
    "TRANSACTION_RAW.head()"
   ]
  },
  {
   "cell_type": "code",
   "execution_count": 569,
   "id": "b8454c7f-2f09-431f-a7c4-d783782acf17",
   "metadata": {},
   "outputs": [],
   "source": [
    "##loading tables into Datebase"
   ]
  },
  {
   "cell_type": "code",
   "execution_count": 570,
   "id": "e598a716-8063-406c-ae13-3e6629f01dfa",
   "metadata": {},
   "outputs": [],
   "source": [
    "from sqlalchemy import create_engine\n",
    "from sqlalchemy.engine import URL\n",
    "import snowflake.connector as snowCtx\n",
    "from snowflake.connector.pandas_tools import write_pandas\n",
    "import pandas as pd\n",
    "import getpass"
   ]
  },
  {
   "cell_type": "code",
   "execution_count": 571,
   "id": "9612a0f6-2a21-474c-b072-21d3976af1b8",
   "metadata": {},
   "outputs": [
    {
     "name": "stdin",
     "output_type": "stream",
     "text": [
      "Your Snowflake Password:  ········\n"
     ]
    }
   ],
   "source": [
    "conn = snowflake.connector.connect(\n",
    "        user = 'ASHFAQ13',\n",
    "        password = getpass.getpass('Your Snowflake Password: '),\n",
    "        ##password='Your password',\n",
    "        account = 'vr33157.ap-south-1.aws',\n",
    "        database='RETAIL_ANALYSIS',\n",
    "        schema='PUBLIC',\n",
    "        warehouse='COMPUTE_WH',\n",
    ")"
   ]
  },
  {
   "cell_type": "code",
   "execution_count": 572,
   "id": "afbbeea1-ca13-46e5-b065-ebaa7678dc55",
   "metadata": {},
   "outputs": [],
   "source": [
    "cur = conn.cursor()"
   ]
  },
  {
   "cell_type": "code",
   "execution_count": 573,
   "id": "89a64406-57c8-4fb3-81f7-40782943c797",
   "metadata": {},
   "outputs": [
    {
     "data": {
      "text/html": [
       "<div>\n",
       "<style scoped>\n",
       "    .dataframe tbody tr th:only-of-type {\n",
       "        vertical-align: middle;\n",
       "    }\n",
       "\n",
       "    .dataframe tbody tr th {\n",
       "        vertical-align: top;\n",
       "    }\n",
       "\n",
       "    .dataframe thead th {\n",
       "        text-align: right;\n",
       "    }\n",
       "</style>\n",
       "<table border=\"1\" class=\"dataframe\">\n",
       "  <thead>\n",
       "    <tr style=\"text-align: right;\">\n",
       "      <th></th>\n",
       "      <th>HOUSEHOLD_KEY</th>\n",
       "      <th>COUPON_UPC</th>\n",
       "      <th>CAMPAIGN</th>\n",
       "      <th>Date</th>\n",
       "    </tr>\n",
       "  </thead>\n",
       "  <tbody>\n",
       "    <tr>\n",
       "      <th>0</th>\n",
       "      <td>1</td>\n",
       "      <td>10000085364</td>\n",
       "      <td>8</td>\n",
       "      <td>2021-02-25</td>\n",
       "    </tr>\n",
       "    <tr>\n",
       "      <th>1</th>\n",
       "      <td>1</td>\n",
       "      <td>51700010076</td>\n",
       "      <td>8</td>\n",
       "      <td>2021-02-25</td>\n",
       "    </tr>\n",
       "    <tr>\n",
       "      <th>2</th>\n",
       "      <td>1</td>\n",
       "      <td>54200000033</td>\n",
       "      <td>8</td>\n",
       "      <td>2021-03-03</td>\n",
       "    </tr>\n",
       "    <tr>\n",
       "      <th>3</th>\n",
       "      <td>1</td>\n",
       "      <td>10000085476</td>\n",
       "      <td>18</td>\n",
       "      <td>2021-08-20</td>\n",
       "    </tr>\n",
       "    <tr>\n",
       "      <th>4</th>\n",
       "      <td>1</td>\n",
       "      <td>54200029176</td>\n",
       "      <td>18</td>\n",
       "      <td>2021-08-20</td>\n",
       "    </tr>\n",
       "  </tbody>\n",
       "</table>\n",
       "</div>"
      ],
      "text/plain": [
       "   HOUSEHOLD_KEY   COUPON_UPC  CAMPAIGN        Date\n",
       "0              1  10000085364         8  2021-02-25\n",
       "1              1  51700010076         8  2021-02-25\n",
       "2              1  54200000033         8  2021-03-03\n",
       "3              1  10000085476        18  2021-08-20\n",
       "4              1  54200029176        18  2021-08-20"
      ]
     },
     "execution_count": 573,
     "metadata": {},
     "output_type": "execute_result"
    }
   ],
   "source": [
    "COUPON_REDEMPT_RAW.head() ##cleaned COUPON_REDEMPT_RAW table"
   ]
  },
  {
   "cell_type": "code",
   "execution_count": 574,
   "id": "89dca889-5c8f-4cc1-847d-44ccfc4f5c2f",
   "metadata": {},
   "outputs": [
    {
     "data": {
      "text/plain": [
       "<snowflake.connector.cursor.SnowflakeCursor at 0x28fca934fa0>"
      ]
     },
     "execution_count": 574,
     "metadata": {},
     "output_type": "execute_result"
    }
   ],
   "source": [
    "cur.execute(''' CREATE OR REPLACE TABLE COUPON_REDEMPT_NEW\n",
    "(HOUSEHOLD_KEY NUMBER(38,0),\n",
    "COUPON_UPC NUMBER(38,0),\n",
    "CAMPAIGN NUMBER(38,0),\n",
    "Date Date\n",
    ")''')"
   ]
  },
  {
   "cell_type": "code",
   "execution_count": 575,
   "id": "cae946de-263b-4dc0-b2a6-ef42ba26a97f",
   "metadata": {},
   "outputs": [
    {
     "data": {
      "text/html": [
       "<div>\n",
       "<style scoped>\n",
       "    .dataframe tbody tr th:only-of-type {\n",
       "        vertical-align: middle;\n",
       "    }\n",
       "\n",
       "    .dataframe tbody tr th {\n",
       "        vertical-align: top;\n",
       "    }\n",
       "\n",
       "    .dataframe thead th {\n",
       "        text-align: right;\n",
       "    }\n",
       "</style>\n",
       "<table border=\"1\" class=\"dataframe\">\n",
       "  <thead>\n",
       "    <tr style=\"text-align: right;\">\n",
       "      <th></th>\n",
       "      <th>HOUSEHOLD_KEY</th>\n",
       "      <th>BASKET_ID</th>\n",
       "      <th>PRODUCT_ID</th>\n",
       "      <th>QUANTITY</th>\n",
       "      <th>SALES_VALUE</th>\n",
       "      <th>STORE_ID</th>\n",
       "      <th>RETAIL_DISC</th>\n",
       "      <th>TRANS_TIME</th>\n",
       "      <th>COUPON_DISC</th>\n",
       "      <th>COUPON_MATCH_DISC</th>\n",
       "      <th>DATE</th>\n",
       "    </tr>\n",
       "  </thead>\n",
       "  <tbody>\n",
       "    <tr>\n",
       "      <th>0</th>\n",
       "      <td>1370</td>\n",
       "      <td>35486432036</td>\n",
       "      <td>1085095</td>\n",
       "      <td>1</td>\n",
       "      <td>1.47</td>\n",
       "      <td>318</td>\n",
       "      <td>-0.49</td>\n",
       "      <td>1447</td>\n",
       "      <td>0</td>\n",
       "      <td>0</td>\n",
       "      <td>2021-06-07</td>\n",
       "    </tr>\n",
       "    <tr>\n",
       "      <th>1</th>\n",
       "      <td>1370</td>\n",
       "      <td>35486432036</td>\n",
       "      <td>1096343</td>\n",
       "      <td>2</td>\n",
       "      <td>2.50</td>\n",
       "      <td>318</td>\n",
       "      <td>-0.08</td>\n",
       "      <td>1447</td>\n",
       "      <td>0</td>\n",
       "      <td>0</td>\n",
       "      <td>2021-06-07</td>\n",
       "    </tr>\n",
       "    <tr>\n",
       "      <th>2</th>\n",
       "      <td>1370</td>\n",
       "      <td>35486432036</td>\n",
       "      <td>1099089</td>\n",
       "      <td>1</td>\n",
       "      <td>8.99</td>\n",
       "      <td>318</td>\n",
       "      <td>0.00</td>\n",
       "      <td>1447</td>\n",
       "      <td>0</td>\n",
       "      <td>0</td>\n",
       "      <td>2021-06-07</td>\n",
       "    </tr>\n",
       "    <tr>\n",
       "      <th>3</th>\n",
       "      <td>1370</td>\n",
       "      <td>35486432036</td>\n",
       "      <td>1105616</td>\n",
       "      <td>1</td>\n",
       "      <td>1.39</td>\n",
       "      <td>318</td>\n",
       "      <td>-0.10</td>\n",
       "      <td>1447</td>\n",
       "      <td>0</td>\n",
       "      <td>0</td>\n",
       "      <td>2021-06-07</td>\n",
       "    </tr>\n",
       "    <tr>\n",
       "      <th>4</th>\n",
       "      <td>1370</td>\n",
       "      <td>35486432036</td>\n",
       "      <td>1106523</td>\n",
       "      <td>1</td>\n",
       "      <td>2.22</td>\n",
       "      <td>318</td>\n",
       "      <td>0.00</td>\n",
       "      <td>1447</td>\n",
       "      <td>0</td>\n",
       "      <td>0</td>\n",
       "      <td>2021-06-07</td>\n",
       "    </tr>\n",
       "  </tbody>\n",
       "</table>\n",
       "</div>"
      ],
      "text/plain": [
       "   HOUSEHOLD_KEY    BASKET_ID  PRODUCT_ID  QUANTITY  SALES_VALUE  STORE_ID  \\\n",
       "0           1370  35486432036     1085095         1         1.47       318   \n",
       "1           1370  35486432036     1096343         2         2.50       318   \n",
       "2           1370  35486432036     1099089         1         8.99       318   \n",
       "3           1370  35486432036     1105616         1         1.39       318   \n",
       "4           1370  35486432036     1106523         1         2.22       318   \n",
       "\n",
       "   RETAIL_DISC  TRANS_TIME  COUPON_DISC  COUPON_MATCH_DISC        DATE  \n",
       "0        -0.49        1447            0                  0  2021-06-07  \n",
       "1        -0.08        1447            0                  0  2021-06-07  \n",
       "2         0.00        1447            0                  0  2021-06-07  \n",
       "3        -0.10        1447            0                  0  2021-06-07  \n",
       "4         0.00        1447            0                  0  2021-06-07  "
      ]
     },
     "execution_count": 575,
     "metadata": {},
     "output_type": "execute_result"
    }
   ],
   "source": [
    "TRANSACTION_RAW.head() ##cleaned TRANSACTION_RAW table"
   ]
  },
  {
   "cell_type": "code",
   "execution_count": 576,
   "id": "bfaed3e3-f5d7-47c9-af71-4af1fa78c8d0",
   "metadata": {},
   "outputs": [
    {
     "data": {
      "text/plain": [
       "<snowflake.connector.cursor.SnowflakeCursor at 0x28fca934fa0>"
      ]
     },
     "execution_count": 576,
     "metadata": {},
     "output_type": "execute_result"
    }
   ],
   "source": [
    "cur.execute('''CREATE OR REPLACE TABLE TRANSACTION_NEW\n",
    "(HOUSEHOLD_KEY NUMBER(38,0),\n",
    "BASKET_ID NUMBER(38,0),\n",
    "PRODUCT_ID NUMBER(38,0),\n",
    "QUANTITY NUMBER(38,0),\n",
    "SALES_VALUE FLOAT,\n",
    "STORE_ID NUMBER(38,0),\n",
    "RETAIL_DISC FLOAT,\n",
    "TRANS_TIME NUMBER(38,0),\n",
    "COUPON_DISC FLOAT,\n",
    "COUPON_MATCH_DISC FLOAT,\n",
    "Date Date\n",
    ")\n",
    "''')"
   ]
  },
  {
   "cell_type": "code",
   "execution_count": 577,
   "id": "493c125c-64f7-454b-91c0-8e8379c07411",
   "metadata": {},
   "outputs": [
    {
     "data": {
      "text/html": [
       "<div>\n",
       "<style scoped>\n",
       "    .dataframe tbody tr th:only-of-type {\n",
       "        vertical-align: middle;\n",
       "    }\n",
       "\n",
       "    .dataframe tbody tr th {\n",
       "        vertical-align: top;\n",
       "    }\n",
       "\n",
       "    .dataframe thead th {\n",
       "        text-align: right;\n",
       "    }\n",
       "</style>\n",
       "<table border=\"1\" class=\"dataframe\">\n",
       "  <thead>\n",
       "    <tr style=\"text-align: right;\">\n",
       "      <th></th>\n",
       "      <th>DESCRIPTION</th>\n",
       "      <th>CAMPAIGN</th>\n",
       "      <th>Start_day</th>\n",
       "      <th>End_day</th>\n",
       "      <th>Campaign_duration</th>\n",
       "      <th>Start_month</th>\n",
       "      <th>End_month</th>\n",
       "    </tr>\n",
       "  </thead>\n",
       "  <tbody>\n",
       "    <tr>\n",
       "      <th>0</th>\n",
       "      <td>TypeB</td>\n",
       "      <td>24</td>\n",
       "      <td>2021-10-21</td>\n",
       "      <td>2021-12-20</td>\n",
       "      <td>60</td>\n",
       "      <td>10</td>\n",
       "      <td>12</td>\n",
       "    </tr>\n",
       "    <tr>\n",
       "      <th>1</th>\n",
       "      <td>TypeC</td>\n",
       "      <td>15</td>\n",
       "      <td>2021-07-01</td>\n",
       "      <td>2021-12-09</td>\n",
       "      <td>161</td>\n",
       "      <td>07</td>\n",
       "      <td>12</td>\n",
       "    </tr>\n",
       "    <tr>\n",
       "      <th>2</th>\n",
       "      <td>TypeB</td>\n",
       "      <td>25</td>\n",
       "      <td>2021-10-21</td>\n",
       "      <td>2021-11-22</td>\n",
       "      <td>32</td>\n",
       "      <td>10</td>\n",
       "      <td>11</td>\n",
       "    </tr>\n",
       "    <tr>\n",
       "      <th>3</th>\n",
       "      <td>TypeC</td>\n",
       "      <td>20</td>\n",
       "      <td>2021-09-07</td>\n",
       "      <td>2021-11-16</td>\n",
       "      <td>70</td>\n",
       "      <td>09</td>\n",
       "      <td>11</td>\n",
       "    </tr>\n",
       "    <tr>\n",
       "      <th>4</th>\n",
       "      <td>TypeB</td>\n",
       "      <td>23</td>\n",
       "      <td>2021-10-08</td>\n",
       "      <td>2021-11-15</td>\n",
       "      <td>38</td>\n",
       "      <td>10</td>\n",
       "      <td>11</td>\n",
       "    </tr>\n",
       "  </tbody>\n",
       "</table>\n",
       "</div>"
      ],
      "text/plain": [
       "  DESCRIPTION  CAMPAIGN   Start_day     End_day  Campaign_duration  \\\n",
       "0       TypeB        24  2021-10-21  2021-12-20                 60   \n",
       "1       TypeC        15  2021-07-01  2021-12-09                161   \n",
       "2       TypeB        25  2021-10-21  2021-11-22                 32   \n",
       "3       TypeC        20  2021-09-07  2021-11-16                 70   \n",
       "4       TypeB        23  2021-10-08  2021-11-15                 38   \n",
       "\n",
       "  Start_month End_month  \n",
       "0          10        12  \n",
       "1          07        12  \n",
       "2          10        11  \n",
       "3          09        11  \n",
       "4          10        11  "
      ]
     },
     "execution_count": 577,
     "metadata": {},
     "output_type": "execute_result"
    }
   ],
   "source": [
    "CAMPAIGN_DESC_RAW.head() ##cleaned CAMPAIGN_DESC_RAW table"
   ]
  },
  {
   "cell_type": "code",
   "execution_count": 578,
   "id": "3f75727c-9e90-45bc-9e78-1333a0bd1d4f",
   "metadata": {},
   "outputs": [
    {
     "data": {
      "text/plain": [
       "<snowflake.connector.cursor.SnowflakeCursor at 0x28fca934fa0>"
      ]
     },
     "execution_count": 578,
     "metadata": {},
     "output_type": "execute_result"
    }
   ],
   "source": [
    "cur.execute('''\n",
    "CREATE OR REPLACE TABLE CAMPAIGN_DESC_NEW\n",
    "(DESCRIPTION VARCHAR(10),\n",
    "CAMPAIGN NUMBER(38,0),\n",
    "Start_day date,\n",
    "End_day  date,\n",
    "Campaign_Duration NUMBER(38,0),\n",
    "Start_month VARCHAR(10),\n",
    "End_month VARCHAR(10)\n",
    ")''')"
   ]
  },
  {
   "cell_type": "code",
   "execution_count": 579,
   "id": "b2477b0a-8e5d-47d2-8903-653bf02a729b",
   "metadata": {},
   "outputs": [
    {
     "name": "stdout",
     "output_type": "stream",
     "text": [
      "True,1,30\n"
     ]
    }
   ],
   "source": [
    "success, nchunks, nrows, _ = write_pandas(conn, CAMPAIGN_DESC_RAW,'CAMPAIGN_DESC_NEW',quote_identifiers=False)\n",
    "print(str(success)+','+str(nchunks)+','+str(nrows))"
   ]
  },
  {
   "cell_type": "code",
   "execution_count": 580,
   "id": "6dd7316c-f44c-48a3-85d3-d42d0b0bacd2",
   "metadata": {},
   "outputs": [
    {
     "name": "stdout",
     "output_type": "stream",
     "text": [
      "True,1,2318\n"
     ]
    }
   ],
   "source": [
    "success, nchunks, nrows, _ = write_pandas(conn, COUPON_REDEMPT_RAW,'COUPON_REDEMPT_NEW',quote_identifiers=False)\n",
    "print(str(success)+','+str(nchunks)+','+str(nrows))"
   ]
  },
  {
   "cell_type": "code",
   "execution_count": 581,
   "id": "051ed165-7113-4ce5-b140-c66acc475da3",
   "metadata": {},
   "outputs": [
    {
     "name": "stdout",
     "output_type": "stream",
     "text": [
      "True,1,2595732\n"
     ]
    }
   ],
   "source": [
    "success, nchunks, nrows, _ = write_pandas(conn,TRANSACTION_RAW ,'TRANSACTION_NEW',quote_identifiers=False)\n",
    "print(str(success)+','+str(nchunks)+','+str(nrows))"
   ]
  },
  {
   "cell_type": "code",
   "execution_count": 582,
   "id": "1cad8cf7-eb3c-4912-89b2-9c14362e58bb",
   "metadata": {},
   "outputs": [],
   "source": [
    "conn.close()"
   ]
  },
  {
   "cell_type": "code",
   "execution_count": 583,
   "id": "5f29b792-6bb3-4fd5-9dab-3770fe8e4ba8",
   "metadata": {},
   "outputs": [
    {
     "data": {
      "text/plain": [
       "False"
      ]
     },
     "execution_count": 583,
     "metadata": {},
     "output_type": "execute_result"
    }
   ],
   "source": [
    "cur.close()"
   ]
  },
  {
   "cell_type": "code",
   "execution_count": null,
   "id": "5b4aa103-1c45-4e08-827e-c5e8b65b1f55",
   "metadata": {},
   "outputs": [],
   "source": []
  }
 ],
 "metadata": {
  "kernelspec": {
   "display_name": "Python 3 (ipykernel)",
   "language": "python",
   "name": "python3"
  },
  "language_info": {
   "codemirror_mode": {
    "name": "ipython",
    "version": 3
   },
   "file_extension": ".py",
   "mimetype": "text/x-python",
   "name": "python",
   "nbconvert_exporter": "python",
   "pygments_lexer": "ipython3",
   "version": "3.8.10"
  }
 },
 "nbformat": 4,
 "nbformat_minor": 5
}
